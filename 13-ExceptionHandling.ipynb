{
 "cells": [
  {
   "cell_type": "code",
   "execution_count": null,
   "metadata": {},
   "outputs": [],
   "source": [
    "# Exception handling:\n",
    "# try:\n",
    "#     <all code where might be error>\n",
    "# except:\n",
    "#     <catch the error>\n"
   ]
  },
  {
   "cell_type": "code",
   "execution_count": 2,
   "metadata": {},
   "outputs": [
    {
     "ename": "ValueError",
     "evalue": "invalid literal for int() with base 10: 'dd'",
     "output_type": "error",
     "traceback": [
      "\u001b[1;31m---------------------------------------------------------------------------\u001b[0m",
      "\u001b[1;31mValueError\u001b[0m                                Traceback (most recent call last)",
      "Cell \u001b[1;32mIn[2], line 1\u001b[0m\n\u001b[1;32m----> 1\u001b[0m a\u001b[39m=\u001b[39m\u001b[39mint\u001b[39;49m(\u001b[39minput\u001b[39;49m(\u001b[39m'\u001b[39;49m\u001b[39menter a= \u001b[39;49m\u001b[39m'\u001b[39;49m))\n",
      "\u001b[1;31mValueError\u001b[0m: invalid literal for int() with base 10: 'dd'"
     ]
    }
   ],
   "source": [
    "# value of a should be integer but we provide string so this is Exception\n",
    "a=int(input('enter a= '))"
   ]
  },
  {
   "cell_type": "code",
   "execution_count": 1,
   "metadata": {},
   "outputs": [
    {
     "name": "stdout",
     "output_type": "stream",
     "text": [
      "value of a should integer\n"
     ]
    }
   ],
   "source": [
    "try:\n",
    "    a=int(input('enter a= '))\n",
    "except:\n",
    "    print('value of a should integer')"
   ]
  },
  {
   "cell_type": "code",
   "execution_count": 5,
   "metadata": {},
   "outputs": [
    {
     "ename": "ZeroDivisionError",
     "evalue": "division by zero",
     "output_type": "error",
     "traceback": [
      "\u001b[1;31m---------------------------------------------------------------------------\u001b[0m",
      "\u001b[1;31mZeroDivisionError\u001b[0m                         Traceback (most recent call last)",
      "Cell \u001b[1;32mIn[5], line 3\u001b[0m\n\u001b[0;32m      1\u001b[0m a\u001b[39m=\u001b[39m\u001b[39mint\u001b[39m(\u001b[39minput\u001b[39m(\u001b[39m'\u001b[39m\u001b[39menter a= \u001b[39m\u001b[39m'\u001b[39m))\n\u001b[0;32m      2\u001b[0m b\u001b[39m=\u001b[39m\u001b[39mint\u001b[39m(\u001b[39minput\u001b[39m(\u001b[39m'\u001b[39m\u001b[39menter b= \u001b[39m\u001b[39m'\u001b[39m))\n\u001b[1;32m----> 3\u001b[0m c\u001b[39m=\u001b[39ma\u001b[39m/\u001b[39;49mb\n",
      "\u001b[1;31mZeroDivisionError\u001b[0m: division by zero"
     ]
    }
   ],
   "source": [
    "# Exceptions versus Syntax Errors\n",
    "a=int(input('enter a= '))\n",
    "b=int(input('enter b= '))\n",
    "c=a/b"
   ]
  },
  {
   "cell_type": "code",
   "execution_count": 7,
   "metadata": {},
   "outputs": [
    {
     "ename": "ValueError",
     "evalue": "invalid literal for int() with base 10: 'dd'",
     "output_type": "error",
     "traceback": [
      "\u001b[1;31m---------------------------------------------------------------------------\u001b[0m",
      "\u001b[1;31mValueError\u001b[0m                                Traceback (most recent call last)",
      "Cell \u001b[1;32mIn[7], line 1\u001b[0m\n\u001b[1;32m----> 1\u001b[0m a\u001b[39m=\u001b[39m\u001b[39mint\u001b[39;49m(\u001b[39minput\u001b[39;49m(\u001b[39m'\u001b[39;49m\u001b[39menter a= \u001b[39;49m\u001b[39m'\u001b[39;49m))\n",
      "\u001b[1;31mValueError\u001b[0m: invalid literal for int() with base 10: 'dd'"
     ]
    }
   ],
   "source": [
    "# Exceptions versus Syntax Errors\n",
    "a=int(input('enter a= '))"
   ]
  },
  {
   "cell_type": "code",
   "execution_count": 4,
   "metadata": {},
   "outputs": [
    {
     "name": "stdout",
     "output_type": "stream",
     "text": [
      "The value should be integer\n"
     ]
    }
   ],
   "source": [
    "try:\n",
    "    a=int(input('enter a= '))\n",
    "    b=int(input('enter b= '))\n",
    "    c=a/b\n",
    "except ValueError:\n",
    "    print('The value should be integer')\n",
    "except ZeroDivisionError:\n",
    "    print('the value of b should not be zero')"
   ]
  },
  {
   "cell_type": "code",
   "execution_count": 12,
   "metadata": {},
   "outputs": [
    {
     "name": "stdout",
     "output_type": "stream",
     "text": [
      "The value should be integer\n",
      "1.0\n"
     ]
    }
   ],
   "source": [
    "# Exceptions versus Syntax Errors\n",
    "def cal():\n",
    "    try:\n",
    "        a=int(input('enter a= '))\n",
    "        b=int(input('enter b= '))\n",
    "        c=a/b\n",
    "        print(c)\n",
    "    except ValueError:\n",
    "        print('The value should be integer')\n",
    "        cal()\n",
    "    except ZeroDivisionError:\n",
    "        print('the value of b should not be zero')\n",
    "        cal()\n",
    "\n",
    "cal()"
   ]
  },
  {
   "cell_type": "code",
   "execution_count": 13,
   "metadata": {},
   "outputs": [
    {
     "ename": "ZeroDivisionError",
     "evalue": "",
     "output_type": "error",
     "traceback": [
      "\u001b[1;31m---------------------------------------------------------------------------\u001b[0m",
      "\u001b[1;31mZeroDivisionError\u001b[0m                         Traceback (most recent call last)",
      "Cell \u001b[1;32mIn[13], line 1\u001b[0m\n\u001b[1;32m----> 1\u001b[0m \u001b[39mraise\u001b[39;00m \u001b[39mZeroDivisionError\u001b[39;00m\n",
      "\u001b[1;31mZeroDivisionError\u001b[0m: "
     ]
    }
   ],
   "source": [
    "raise ZeroDivisionError"
   ]
  },
  {
   "cell_type": "code",
   "execution_count": 15,
   "metadata": {},
   "outputs": [
    {
     "name": "stdout",
     "output_type": "stream",
     "text": [
      "the value of b can not be zero.\n"
     ]
    }
   ],
   "source": [
    "a=int(input('enter a= '))\n",
    "b=int(input('enter b= '))\n",
    "try:\n",
    "    if b!=0:\n",
    "        c=a/b\n",
    "        print(c)\n",
    "    else:\n",
    "        raise ZeroDivisionError\n",
    "except:\n",
    "    print('the value of b can not be zero.')"
   ]
  },
  {
   "cell_type": "code",
   "execution_count": 17,
   "metadata": {},
   "outputs": [
    {
     "name": "stdout",
     "output_type": "stream",
     "text": [
      "the value of b can not be zero.\n"
     ]
    }
   ],
   "source": [
    "try:\n",
    "    a=int(input('enter a= '))\n",
    "    b=int(input('enter b= '))\n",
    "    if b!=0:\n",
    "        c=a/b\n",
    "        print(c)\n",
    "    elif type(a)=='str' or type(b)=='str':\n",
    "        raise ValueError\n",
    "    else:\n",
    "        raise ZeroDivisionError\n",
    "except ValueError:\n",
    "    print('the value of a and b should be integer')\n",
    "except ZeroDivisionError:\n",
    "    print('the value of b can not be zero.')"
   ]
  },
  {
   "cell_type": "code",
   "execution_count": 19,
   "metadata": {},
   "outputs": [
    {
     "name": "stdout",
     "output_type": "stream",
     "text": [
      "the value of b can not be zero.\n"
     ]
    }
   ],
   "source": [
    "try:\n",
    "    a=input('enter a= ')\n",
    "    b=input('enter b= ')\n",
    "    try:\n",
    "        a=int(a)\n",
    "        b=int(b)\n",
    "    except:\n",
    "        raise ValueError\n",
    "    if b!=0:\n",
    "        c=a/b\n",
    "        print(c)\n",
    "    else:\n",
    "        raise ZeroDivisionError\n",
    "except ValueError:\n",
    "    print('the value of a and b should be integer')\n",
    "except ZeroDivisionError:\n",
    "    print('the value of b can not be zero.')"
   ]
  },
  {
   "cell_type": "code",
   "execution_count": 23,
   "metadata": {},
   "outputs": [
    {
     "ename": "AssertionError",
     "evalue": "",
     "output_type": "error",
     "traceback": [
      "\u001b[1;31m---------------------------------------------------------------------------\u001b[0m",
      "\u001b[1;31mAssertionError\u001b[0m                            Traceback (most recent call last)",
      "Cell \u001b[1;32mIn[23], line 3\u001b[0m\n\u001b[0;32m      1\u001b[0m \u001b[39m# The AssertionError Exception\u001b[39;00m\n\u001b[0;32m      2\u001b[0m a\u001b[39m=\u001b[39m\u001b[39mint\u001b[39m(\u001b[39minput\u001b[39m(\u001b[39m'\u001b[39m\u001b[39menter age= \u001b[39m\u001b[39m'\u001b[39m))\n\u001b[1;32m----> 3\u001b[0m \u001b[39massert\u001b[39;00m a\u001b[39m>\u001b[39m\u001b[39m20\u001b[39m\n\u001b[0;32m      4\u001b[0m \u001b[39mprint\u001b[39m(\u001b[39m'\u001b[39m\u001b[39myou age is 20+ you are accept\u001b[39m\u001b[39m'\u001b[39m)\n",
      "\u001b[1;31mAssertionError\u001b[0m: "
     ]
    }
   ],
   "source": [
    "# The AssertionError Exception\n",
    "a=int(input('enter age= '))\n",
    "assert a>20\n",
    "print('you age is 20+ you are accept')\n"
   ]
  },
  {
   "cell_type": "code",
   "execution_count": 24,
   "metadata": {},
   "outputs": [
    {
     "name": "stdout",
     "output_type": "stream",
     "text": [
      "you age is not 20+ you are not accept.\n"
     ]
    }
   ],
   "source": [
    "try:\n",
    "    a=int(input('enter age= '))\n",
    "    assert a>20\n",
    "    print('you age is 20+ you are accept')\n",
    "\n",
    "except AssertionError:\n",
    "     print('you age is not 20+ you are not accept.')\n"
   ]
  }
 ],
 "metadata": {
  "kernelspec": {
   "display_name": "Python 3",
   "language": "python",
   "name": "python3"
  },
  "language_info": {
   "codemirror_mode": {
    "name": "ipython",
    "version": 3
   },
   "file_extension": ".py",
   "mimetype": "text/x-python",
   "name": "python",
   "nbconvert_exporter": "python",
   "pygments_lexer": "ipython3",
   "version": "3.10.4"
  },
  "orig_nbformat": 4,
  "vscode": {
   "interpreter": {
    "hash": "369f2c481f4da34e4445cda3fffd2e751bd1c4d706f27375911949ba6bb62e1c"
   }
  }
 },
 "nbformat": 4,
 "nbformat_minor": 2
}
