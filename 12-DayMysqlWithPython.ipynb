{
 "cells": [
  {
   "cell_type": "code",
   "execution_count": 10,
   "id": "d3137a44-7e3a-4391-a905-aae0a1fdbf43",
   "metadata": {
    "tags": []
   },
   "outputs": [],
   "source": [
    "# !conda install mysql-connector-python"
   ]
  },
  {
   "cell_type": "code",
   "execution_count": 4,
   "id": "a611d9c0-b5bd-4616-a257-9764166d463f",
   "metadata": {
    "tags": []
   },
   "outputs": [],
   "source": [
    "# connecting the mysql check\n",
    "import mysql.connector\n",
    "#importing database\n",
    "database = mysql.connector.connect(host=\"localhost\",user=\"root\",password=\"\")#for commit()\n",
    "db = database.cursor()#currrnt database\n"
   ]
  },
  {
   "cell_type": "code",
   "execution_count": 6,
   "id": "62c4956c-4c4e-4bd1-b9f9-c44f3fe51e12",
   "metadata": {
    "tags": []
   },
   "outputs": [
    {
     "name": "stdout",
     "output_type": "stream",
     "text": [
      "already exits\n"
     ]
    }
   ],
   "source": [
    "# creating the database\n",
    "try:\n",
    "    sql=\"CREATE DATABASE pythons\"\n",
    "    db.execute(sql)# execute run query or my sqlcode or query\n",
    "except:\n",
    "    print('already exits')"
   ]
  },
  {
   "cell_type": "code",
   "execution_count": 8,
   "id": "d66ad6e5-2139-494f-a4eb-ad797a301d53",
   "metadata": {},
   "outputs": [],
   "source": [
    "# to connect the database there required only database name for connect the server\n",
    "#connecting the pythons database by database field = pythons \n",
    "database = mysql.connector.connect(host=\"localhost\",user=\"root\",password=\"\",database = \"pythons\")#database store the value given data\n",
    "db = database.cursor()#store for delete update and insert\n",
    "# sql=\"CREATE TABlE subject(id INT,name VARCHAR(255))\"\n",
    "# db.execute(sql)"
   ]
  },
  {
   "cell_type": "code",
   "execution_count": 10,
   "id": "2492e99d-e5b7-45c8-857b-6db35b22f5d8",
   "metadata": {},
   "outputs": [
    {
     "name": "stdout",
     "output_type": "stream",
     "text": [
      "already created\n"
     ]
    }
   ],
   "source": [
    "# this code is written by mysql\n",
    "try:\n",
    "    sql= '''CREATE TABLE student(\n",
    "    `sn` int(11) NOT NULL,\n",
    "    `name` varchar(200) COLLATE utf8_unicode_ci NOT NULL,\n",
    "    `physics` float NOT NULL DEFAULT 0,\n",
    "    `chemistry` float NOT NULL DEFAULT 0,\n",
    "    `math` float NOT NULL DEFAULT 0,\n",
    "    `english` float NOT NULL DEFAULT 0,\n",
    "    `nepali` float NOT NULL DEFAULT 0,\n",
    "    `total` float NOT NULL DEFAULT 0,\n",
    "    `percentage` float NOT NULL DEFAULT 0,\n",
    "    `grade` varchar(200) COLLATE utf8_unicode_ci NOT NULL DEFAULT 'F'\n",
    "    )'''\n",
    "    db.execute(sql)\n",
    "except:\n",
    "    print('already created')\n",
    "\n"
   ]
  },
  {
   "cell_type": "code",
   "execution_count": 26,
   "id": "08d2c68c-01a4-449f-bd09-6095cde13e1f",
   "metadata": {},
   "outputs": [],
   "source": [
    "# insert data\n",
    "#mannul\n",
    "database = mysql.connector.connect(host=\"localhost\",user=\"root\",password=\"\",database = \"pythons\")#database store the value given data\n",
    "db = database.cursor()\n",
    "# sql='''INSERT INTO student (name, physics, chemistry, math, english, nepali,total, percentage, grade) VALUES\n",
    "# ('hari', 98, 99, 87, 88, 77, 400, 97.6, 'A+')'''\n",
    "# db.execute(sql)\n",
    "# database.commit()#for commit "
   ]
  },
  {
   "cell_type": "code",
   "execution_count": 29,
   "id": "cbe8f759-71c6-41b7-8755-12b4f8927212",
   "metadata": {},
   "outputs": [
    {
     "ename": "DataError",
     "evalue": "1136 (21S01): Column count doesn't match value count at row 1",
     "output_type": "error",
     "traceback": [
      "\u001b[1;31m---------------------------------------------------------------------------\u001b[0m",
      "\u001b[1;31mMySQLInterfaceError\u001b[0m                       Traceback (most recent call last)",
      "File \u001b[1;32mc:\\Python310\\lib\\site-packages\\mysql\\connector\\connection_cext.py:608\u001b[0m, in \u001b[0;36mCMySQLConnection.cmd_query\u001b[1;34m(self, query, raw, buffered, raw_as_string)\u001b[0m\n\u001b[0;32m    607\u001b[0m         query \u001b[39m=\u001b[39m query\u001b[39m.\u001b[39mencode(\u001b[39m\"\u001b[39m\u001b[39mutf-8\u001b[39m\u001b[39m\"\u001b[39m)\n\u001b[1;32m--> 608\u001b[0m     \u001b[39mself\u001b[39;49m\u001b[39m.\u001b[39;49m_cmysql\u001b[39m.\u001b[39;49mquery(\n\u001b[0;32m    609\u001b[0m         query,\n\u001b[0;32m    610\u001b[0m         raw\u001b[39m=\u001b[39;49mraw,\n\u001b[0;32m    611\u001b[0m         buffered\u001b[39m=\u001b[39;49mbuffered,\n\u001b[0;32m    612\u001b[0m         raw_as_string\u001b[39m=\u001b[39;49mraw_as_string,\n\u001b[0;32m    613\u001b[0m         query_attrs\u001b[39m=\u001b[39;49m\u001b[39mself\u001b[39;49m\u001b[39m.\u001b[39;49m_query_attrs,\n\u001b[0;32m    614\u001b[0m     )\n\u001b[0;32m    615\u001b[0m \u001b[39mexcept\u001b[39;00m MySQLInterfaceError \u001b[39mas\u001b[39;00m err:\n",
      "\u001b[1;31mMySQLInterfaceError\u001b[0m: Column count doesn't match value count at row 1",
      "\nThe above exception was the direct cause of the following exception:\n",
      "\u001b[1;31mDataError\u001b[0m                                 Traceback (most recent call last)",
      "Cell \u001b[1;32mIn[29], line 21\u001b[0m\n\u001b[0;32m     18\u001b[0m         grade\u001b[39m=\u001b[39m\u001b[39m'\u001b[39m\u001b[39mf\u001b[39m\u001b[39m'\u001b[39m \n\u001b[0;32m     19\u001b[0m     sql\u001b[39m=\u001b[39m\u001b[39mf\u001b[39m\u001b[39m'''\u001b[39m\u001b[39mINSERT INTO student (sn,name, physics, chemistry, math, english, nepali,total, percentage, grade) VALUES\u001b[39m\n\u001b[0;32m     20\u001b[0m \u001b[39m    (\u001b[39m\u001b[39m'\u001b[39m\u001b[39m{\u001b[39;00mname\u001b[39m}\u001b[39;00m\u001b[39m'\u001b[39m\u001b[39m, \u001b[39m\u001b[39m{\u001b[39;00mphysics\u001b[39m}\u001b[39;00m\u001b[39m, \u001b[39m\u001b[39m{\u001b[39;00mchemistry\u001b[39m}\u001b[39;00m\u001b[39m, \u001b[39m\u001b[39m{\u001b[39;00mmath\u001b[39m}\u001b[39;00m\u001b[39m, \u001b[39m\u001b[39m{\u001b[39;00menglish\u001b[39m}\u001b[39;00m\u001b[39m, \u001b[39m\u001b[39m{\u001b[39;00mnepali\u001b[39m}\u001b[39;00m\u001b[39m, \u001b[39m\u001b[39m{\u001b[39;00mtotalMark\u001b[39m}\u001b[39;00m\u001b[39m, \u001b[39m\u001b[39m{\u001b[39;00mper\u001b[39m}\u001b[39;00m\u001b[39m, \u001b[39m\u001b[39m'\u001b[39m\u001b[39m{\u001b[39;00mgrade\u001b[39m}\u001b[39;00m\u001b[39m'\u001b[39m\u001b[39m)\u001b[39m\u001b[39m'''\u001b[39m\n\u001b[1;32m---> 21\u001b[0m     db\u001b[39m.\u001b[39;49mexecute(sql)\n\u001b[0;32m     23\u001b[0m database\u001b[39m.\u001b[39mcommit()\n",
      "File \u001b[1;32mc:\\Python310\\lib\\site-packages\\mysql\\connector\\cursor_cext.py:330\u001b[0m, in \u001b[0;36mCMySQLCursor.execute\u001b[1;34m(self, operation, params, multi)\u001b[0m\n\u001b[0;32m    325\u001b[0m             \u001b[39mraise\u001b[39;00m ProgrammingError(\n\u001b[0;32m    326\u001b[0m                 \u001b[39m\"\u001b[39m\u001b[39mNot all parameters were used in the SQL statement\u001b[39m\u001b[39m\"\u001b[39m\n\u001b[0;32m    327\u001b[0m             )\n\u001b[0;32m    329\u001b[0m \u001b[39mtry\u001b[39;00m:\n\u001b[1;32m--> 330\u001b[0m     result \u001b[39m=\u001b[39m \u001b[39mself\u001b[39;49m\u001b[39m.\u001b[39;49m_cnx\u001b[39m.\u001b[39;49mcmd_query(\n\u001b[0;32m    331\u001b[0m         stmt,\n\u001b[0;32m    332\u001b[0m         raw\u001b[39m=\u001b[39;49m\u001b[39mself\u001b[39;49m\u001b[39m.\u001b[39;49m_raw,\n\u001b[0;32m    333\u001b[0m         buffered\u001b[39m=\u001b[39;49m\u001b[39mself\u001b[39;49m\u001b[39m.\u001b[39;49m_buffered,\n\u001b[0;32m    334\u001b[0m         raw_as_string\u001b[39m=\u001b[39;49m\u001b[39mself\u001b[39;49m\u001b[39m.\u001b[39;49m_raw_as_string,\n\u001b[0;32m    335\u001b[0m     )\n\u001b[0;32m    336\u001b[0m \u001b[39mexcept\u001b[39;00m MySQLInterfaceError \u001b[39mas\u001b[39;00m err:\n\u001b[0;32m    337\u001b[0m     \u001b[39mraise\u001b[39;00m get_mysql_exception(\n\u001b[0;32m    338\u001b[0m         msg\u001b[39m=\u001b[39merr\u001b[39m.\u001b[39mmsg, errno\u001b[39m=\u001b[39merr\u001b[39m.\u001b[39merrno, sqlstate\u001b[39m=\u001b[39merr\u001b[39m.\u001b[39msqlstate\n\u001b[0;32m    339\u001b[0m     ) \u001b[39mfrom\u001b[39;00m \u001b[39merr\u001b[39;00m\n",
      "File \u001b[1;32mc:\\Python310\\lib\\site-packages\\mysql\\connector\\connection_cext.py:616\u001b[0m, in \u001b[0;36mCMySQLConnection.cmd_query\u001b[1;34m(self, query, raw, buffered, raw_as_string)\u001b[0m\n\u001b[0;32m    608\u001b[0m     \u001b[39mself\u001b[39m\u001b[39m.\u001b[39m_cmysql\u001b[39m.\u001b[39mquery(\n\u001b[0;32m    609\u001b[0m         query,\n\u001b[0;32m    610\u001b[0m         raw\u001b[39m=\u001b[39mraw,\n\u001b[1;32m   (...)\u001b[0m\n\u001b[0;32m    613\u001b[0m         query_attrs\u001b[39m=\u001b[39m\u001b[39mself\u001b[39m\u001b[39m.\u001b[39m_query_attrs,\n\u001b[0;32m    614\u001b[0m     )\n\u001b[0;32m    615\u001b[0m \u001b[39mexcept\u001b[39;00m MySQLInterfaceError \u001b[39mas\u001b[39;00m err:\n\u001b[1;32m--> 616\u001b[0m     \u001b[39mraise\u001b[39;00m get_mysql_exception(\n\u001b[0;32m    617\u001b[0m         err\u001b[39m.\u001b[39merrno, msg\u001b[39m=\u001b[39merr\u001b[39m.\u001b[39mmsg, sqlstate\u001b[39m=\u001b[39merr\u001b[39m.\u001b[39msqlstate\n\u001b[0;32m    618\u001b[0m     ) \u001b[39mfrom\u001b[39;00m \u001b[39merr\u001b[39;00m\n\u001b[0;32m    619\u001b[0m \u001b[39mexcept\u001b[39;00m \u001b[39mAttributeError\u001b[39;00m \u001b[39mas\u001b[39;00m err:\n\u001b[0;32m    620\u001b[0m     addr \u001b[39m=\u001b[39m (\n\u001b[0;32m    621\u001b[0m         \u001b[39mself\u001b[39m\u001b[39m.\u001b[39m_unix_socket \u001b[39mif\u001b[39;00m \u001b[39mself\u001b[39m\u001b[39m.\u001b[39m_unix_socket \u001b[39melse\u001b[39;00m \u001b[39mf\u001b[39m\u001b[39m\"\u001b[39m\u001b[39m{\u001b[39;00m\u001b[39mself\u001b[39m\u001b[39m.\u001b[39m_host\u001b[39m}\u001b[39;00m\u001b[39m:\u001b[39m\u001b[39m{\u001b[39;00m\u001b[39mself\u001b[39m\u001b[39m.\u001b[39m_port\u001b[39m}\u001b[39;00m\u001b[39m\"\u001b[39m\n\u001b[0;32m    622\u001b[0m     )\n",
      "\u001b[1;31mDataError\u001b[0m: 1136 (21S01): Column count doesn't match value count at row 1"
     ]
    }
   ],
   "source": [
    "n=int(input('add number='))\n",
    "for i in range(n):\n",
    "    name=(input('enter name :'))\n",
    "    physics=int(input('enter physic mark :'))\n",
    "    chemistry=int(input('enter chemistry mark :'))\n",
    "    nepali=int(input('enter nepali mark :'))\n",
    "    english=int(input('enter english mark :'))\n",
    "    math=int(input('enter mathematics mark :'))\n",
    "    totalMark=physics+chemistry+nepali+english+math\n",
    "    per=totalMark/5\n",
    "    if per>=80:\n",
    "        grade='A'\n",
    "    elif per>=60:\n",
    "        grade='B'\n",
    "    elif per>=50:\n",
    "        grade='C' \n",
    "    else:\n",
    "        grade='f' \n",
    "    sql=f'''INSERT INTO student (name, physics, chemistry, math, english, nepali,total, percentage, grade) VALUES\n",
    "    ('{name}', {physics}, {chemistry}, {math}, {english}, {nepali}, {totalMark}, {per}, '{grade}')'''\n",
    "    db.execute(sql)\n",
    "\n",
    "database.commit()"
   ]
  },
  {
   "cell_type": "code",
   "execution_count": 28,
   "id": "2a8fdfb0",
   "metadata": {},
   "outputs": [
    {
     "data": {
      "text/plain": [
       "[(0, 'bbb', 55.0, 66.0, 77.0, 666.0, 77.0, 941.0, 188.2, 'A'),\n",
       " (0, '66', 66.0, 66.0, 665.0, 66.0, 66.0, 929.0, 185.8, 'A'),\n",
       " (0, 'rrrr', 44.0, 555.0, 66.0, 655.0, 66.0, 1386.0, 277.2, 'A')]"
      ]
     },
     "execution_count": 28,
     "metadata": {},
     "output_type": "execute_result"
    }
   ],
   "source": [
    "sql='''SELECT * FROM student'''#if read then select the query\n",
    "db.execute(sql)\n",
    "db.fetchall()#reading "
   ]
  },
  {
   "cell_type": "code",
   "execution_count": 24,
   "id": "f57b39f8",
   "metadata": {},
   "outputs": [
    {
     "data": {
      "text/plain": [
       "[(0, 'bbb', 55.0, 66.0, 77.0, 666.0, 77.0, 941.0, 188.2, 'A'),\n",
       " (0, '66', 66.0, 66.0, 665.0, 66.0, 66.0, 929.0, 185.8, 'A')]"
      ]
     },
     "execution_count": 24,
     "metadata": {},
     "output_type": "execute_result"
    }
   ],
   "source": [
    "sql=\"SELECT * FROM student WHERE grade ='A' \"\n",
    "db.execute(sql)\n",
    "db.fetchall()"
   ]
  },
  {
   "cell_type": "code",
   "execution_count": 23,
   "id": "c5ac8e60",
   "metadata": {},
   "outputs": [],
   "source": [
    "sql=\"DELETE FROM student WHERE sn = 1\"\n",
    "db.execute(sql)\n",
    "database.commit()"
   ]
  },
  {
   "cell_type": "code",
   "execution_count": 14,
   "id": "acf18730",
   "metadata": {},
   "outputs": [],
   "source": [
    "sql=\"UPDATE student SET name='rama' WHERE name='hari'\"\n",
    "db.execute(sql)\n",
    "database.commit()"
   ]
  },
  {
   "cell_type": "code",
   "execution_count": null,
   "id": "33f045cf",
   "metadata": {},
   "outputs": [],
   "source": [
    "# 1.open xampp control panel\n",
    "# 2.connect the database by database_name field or create database\n",
    "# 3.create table in the database or mannually\n",
    "# 4.insert,update,delete"
   ]
  },
  {
   "cell_type": "code",
   "execution_count": null,
   "id": "35d6784b",
   "metadata": {},
   "outputs": [],
   "source": [
    "# today question\n",
    "# cursor()\n",
    "# database.commit()"
   ]
  }
 ],
 "metadata": {
  "kernelspec": {
   "display_name": "Python 3",
   "language": "python",
   "name": "python3"
  },
  "language_info": {
   "codemirror_mode": {
    "name": "ipython",
    "version": 3
   },
   "file_extension": ".py",
   "mimetype": "text/x-python",
   "name": "python",
   "nbconvert_exporter": "python",
   "pygments_lexer": "ipython3",
   "version": "3.10.4"
  },
  "vscode": {
   "interpreter": {
    "hash": "369f2c481f4da34e4445cda3fffd2e751bd1c4d706f27375911949ba6bb62e1c"
   }
  }
 },
 "nbformat": 4,
 "nbformat_minor": 5
}
