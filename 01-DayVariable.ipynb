{
 "cells": [
  {
   "cell_type": "code",
   "execution_count": 3,
   "metadata": {
    "colab": {
     "base_uri": "https://localhost:8080/"
    },
    "id": "L2onM3eEj0xu",
    "outputId": "8dc36089-67c3-49cb-b41e-cb4adb9a9cce"
   },
   "outputs": [
    {
     "name": "stdout",
     "output_type": "stream",
     "text": [
      "10\n"
     ]
    }
   ],
   "source": [
    "a=10\n",
    "print(a)"
   ]
  },
  {
   "cell_type": "code",
   "execution_count": 13,
   "metadata": {
    "colab": {
     "base_uri": "https://localhost:8080/"
    },
    "id": "a9x697fWmISF",
    "outputId": "84976c79-555c-4df1-baae-b0a19a822c66"
   },
   "outputs": [
    {
     "name": "stdout",
     "output_type": "stream",
     "text": [
      "10\n",
      "15.3\n",
      "Hello world\n",
      "True\n",
      "10 15.3 Hello world True\n",
      "<class 'int'>\n",
      "<class 'float'>\n",
      "<class 'str'>\n",
      "<class 'bool'>\n"
     ]
    }
   ],
   "source": [
    "a=10            #this is integer data types 0-9\n",
    "b=15.3          #This is float data types 0-9 with .\n",
    "c='Hello world' #This is string data types a-z A-z 0-9 with . !@#$%^&*()_+\n",
    "d=True          #This is Boolean data types False or True\n",
    "\n",
    "print(a)\n",
    "print(b)\n",
    "print(c)\n",
    "print(d)\n",
    "print(a,b,c,d)\n",
    "print(type(a))\n",
    "print(type(b))\n",
    "print(type(c))\n",
    "print(type(d))"
   ]
  },
  {
   "cell_type": "code",
   "execution_count": null,
   "metadata": {
    "id": "9kBZv1aOo8DP"
   },
   "outputs": [],
   "source": [
    "#string\n",
    "name='ram'\n",
    "age=23\n",
    "# 1name='ram' wrong"
   ]
  },
  {
   "cell_type": "code",
   "execution_count": 5,
   "metadata": {
    "colab": {
     "base_uri": "https://localhost:8080/"
    },
    "id": "UMLjzstpp75h",
    "outputId": "df17a987-159c-4294-925c-934f807f589f"
   },
   "outputs": [
    {
     "name": "stdout",
     "output_type": "stream",
     "text": [
      "13\n"
     ]
    }
   ],
   "source": [
    "# operater\n",
    "# = assignment operater\n",
    "# + - * / % ** //\n",
    "a=10 \n",
    "b=3\n",
    "c=a+b\n",
    "print(c)"
   ]
  },
  {
   "cell_type": "code",
   "execution_count": 6,
   "metadata": {
    "colab": {
     "base_uri": "https://localhost:8080/"
    },
    "id": "3N8OpFwcquk-",
    "outputId": "b1b13669-3195-4db5-cb08-1fc5a39049b7"
   },
   "outputs": [
    {
     "name": "stdout",
     "output_type": "stream",
     "text": [
      "7\n"
     ]
    }
   ],
   "source": [
    "# + - * / % ** //\n",
    "a=10 \n",
    "b=3\n",
    "c=a-b\n",
    "print(c)"
   ]
  },
  {
   "cell_type": "code",
   "execution_count": 7,
   "metadata": {
    "colab": {
     "base_uri": "https://localhost:8080/"
    },
    "id": "zypL0WDiqyZu",
    "outputId": "df64558f-fa58-4d7e-ddff-056994fa8abe"
   },
   "outputs": [
    {
     "name": "stdout",
     "output_type": "stream",
     "text": [
      "30\n"
     ]
    }
   ],
   "source": [
    "# + - * / % ** //\n",
    "a=10 \n",
    "b=3\n",
    "c=a*b\n",
    "print(c)"
   ]
  },
  {
   "cell_type": "code",
   "execution_count": 8,
   "metadata": {
    "colab": {
     "base_uri": "https://localhost:8080/"
    },
    "id": "QE7PRhT4q11n",
    "outputId": "820e3b0a-eeb6-4d35-dab9-de7ec3e661bb"
   },
   "outputs": [
    {
     "name": "stdout",
     "output_type": "stream",
     "text": [
      "3.3333333333333335\n"
     ]
    }
   ],
   "source": [
    "# + - * / % ** //\n",
    "a=10 \n",
    "b=3\n",
    "c=a/b\n",
    "print(c)\n",
    "# give float"
   ]
  },
  {
   "cell_type": "code",
   "execution_count": 9,
   "metadata": {
    "colab": {
     "base_uri": "https://localhost:8080/"
    },
    "id": "8VIjeL3uq6dR",
    "outputId": "65cccd33-977a-4ca7-df27-6e3a6e186690"
   },
   "outputs": [
    {
     "name": "stdout",
     "output_type": "stream",
     "text": [
      "1\n"
     ]
    }
   ],
   "source": [
    "# + - * / % ** //\n",
    "a=10 \n",
    "b=3\n",
    "c=a%b\n",
    "print(c)\n",
    "# give remaider"
   ]
  },
  {
   "cell_type": "code",
   "execution_count": 10,
   "metadata": {
    "colab": {
     "base_uri": "https://localhost:8080/"
    },
    "id": "ogdTu1RFq-oj",
    "outputId": "05e5c2ae-1064-40d0-8d17-4d7570917e47"
   },
   "outputs": [
    {
     "name": "stdout",
     "output_type": "stream",
     "text": [
      "1000\n"
     ]
    }
   ],
   "source": [
    "# + - * / % ** //\n",
    "a=10 \n",
    "b=3\n",
    "c=a**b\n",
    "print(c)\n",
    "#give square"
   ]
  },
  {
   "cell_type": "code",
   "execution_count": 1,
   "metadata": {
    "colab": {
     "base_uri": "https://localhost:8080/"
    },
    "id": "4SdIOAaBrCde",
    "outputId": "7cc237ca-7a71-496f-b420-f089a944a3ff"
   },
   "outputs": [
    {
     "name": "stdout",
     "output_type": "stream",
     "text": [
      "3\n"
     ]
    }
   ],
   "source": [
    "# + - * / % ** //\n",
    "a=10 \n",
    "b=3\n",
    "c=a//b\n",
    "print(c)\n",
    "# give integer,don't show float number"
   ]
  },
  {
   "cell_type": "code",
   "execution_count": 12,
   "metadata": {
    "colab": {
     "base_uri": "https://localhost:8080/"
    },
    "id": "U9Spoy63r3vF",
    "outputId": "14d4172c-39f6-4d70-e01b-3b9269836c8e"
   },
   "outputs": [
    {
     "name": "stdout",
     "output_type": "stream",
     "text": [
      "<class 'str'>\n",
      "<class 'str'>\n",
      "<class 'str'>\n"
     ]
    }
   ],
   "source": [
    "a='Hello World'\n",
    "b=\"Hello World\"\n",
    "c='''Hello World'''\n",
    "print(type(a))\n",
    "print(type(b))\n",
    "print(type(c))"
   ]
  },
  {
   "cell_type": "code",
   "execution_count": 14,
   "metadata": {
    "colab": {
     "base_uri": "https://localhost:8080/"
    },
    "id": "8D-dy0ovtWnG",
    "outputId": "9432d55b-df57-4eb5-f305-1abe8132cb40"
   },
   "outputs": [
    {
     "name": "stdout",
     "output_type": "stream",
     "text": [
      "HelloWorld\n"
     ]
    }
   ],
   "source": [
    "a=\"Hello\"\n",
    "b=\"World\"\n",
    "c=a+b #concatenation\n",
    "print(c)\n"
   ]
  },
  {
   "cell_type": "code",
   "execution_count": 2,
   "metadata": {
    "colab": {
     "base_uri": "https://localhost:8080/"
    },
    "id": "aKT0IApSt9kq",
    "outputId": "57f8d318-316b-4e70-b6c4-289ad5d833f6"
   },
   "outputs": [
    {
     "name": "stdout",
     "output_type": "stream",
     "text": [
      "Hello Hello \n"
     ]
    }
   ],
   "source": [
    "a=\"Hello \"\n",
    "b=2\n",
    "c=a*b #mutlipy str two times same word\n",
    "print(c)"
   ]
  },
  {
   "cell_type": "code",
   "execution_count": 17,
   "metadata": {
    "colab": {
     "base_uri": "https://localhost:8080/"
    },
    "id": "-FPy0SesuNJ4",
    "outputId": "c92b0f8e-bdda-4e4b-8221-56524fac6024"
   },
   "outputs": [
    {
     "name": "stdout",
     "output_type": "stream",
     "text": [
      "Hello World\n",
      "Hello World\n",
      "Hello World\n",
      "\n"
     ]
    }
   ],
   "source": [
    "a=\"Hello World\\n\" #\\n --> go next line\n",
    "b=3\n",
    "c=a*b #mutlipy str three times same word\n",
    "print(c)"
   ]
  },
  {
   "cell_type": "code",
   "execution_count": 19,
   "metadata": {
    "colab": {
     "base_uri": "https://localhost:8080/"
    },
    "id": "LAAOH-O2uq2w",
    "outputId": "5152c4f0-bf25-43df-c0e8-5abcbf6b0fc7"
   },
   "outputs": [
    {
     "name": "stdout",
     "output_type": "stream",
     "text": [
      "10+20\n"
     ]
    }
   ],
   "source": [
    "a='10+'\n",
    "b='20'\n",
    "print(a+b)"
   ]
  },
  {
   "cell_type": "code",
   "execution_count": 20,
   "metadata": {
    "colab": {
     "base_uri": "https://localhost:8080/"
    },
    "id": "Ss8qc7kjvQna",
    "outputId": "a492f162-95fb-43e3-a6bb-a014a916d398"
   },
   "outputs": [
    {
     "name": "stdout",
     "output_type": "stream",
     "text": [
      "1\n"
     ]
    }
   ],
   "source": [
    "a=True\n",
    "b=False\n",
    "c=a+b\n",
    "print(c)\n"
   ]
  },
  {
   "cell_type": "code",
   "execution_count": 21,
   "metadata": {
    "colab": {
     "base_uri": "https://localhost:8080/",
     "height": 218
    },
    "id": "eOmqdfXovwp_",
    "outputId": "336caeeb-c87e-441a-c2ec-aeddc3fa4f44"
   },
   "outputs": [
    {
     "ename": "ZeroDivisionError",
     "evalue": "ignored",
     "output_type": "error",
     "traceback": [
      "\u001b[0;31m---------------------------------------------------------------------------\u001b[0m",
      "\u001b[0;31mZeroDivisionError\u001b[0m                         Traceback (most recent call last)",
      "\u001b[0;32m<ipython-input-21-0dc2f23fe5a0>\u001b[0m in \u001b[0;36m<module>\u001b[0;34m\u001b[0m\n\u001b[1;32m      2\u001b[0m \u001b[0ma\u001b[0m\u001b[0;34m=\u001b[0m\u001b[0;32mTrue\u001b[0m\u001b[0;34m\u001b[0m\u001b[0;34m\u001b[0m\u001b[0m\n\u001b[1;32m      3\u001b[0m \u001b[0mb\u001b[0m\u001b[0;34m=\u001b[0m\u001b[0;32mFalse\u001b[0m\u001b[0;34m\u001b[0m\u001b[0;34m\u001b[0m\u001b[0m\n\u001b[0;32m----> 4\u001b[0;31m \u001b[0mc\u001b[0m\u001b[0;34m=\u001b[0m\u001b[0ma\u001b[0m\u001b[0;34m/\u001b[0m\u001b[0mb\u001b[0m\u001b[0;34m\u001b[0m\u001b[0;34m\u001b[0m\u001b[0m\n\u001b[0m\u001b[1;32m      5\u001b[0m \u001b[0mprint\u001b[0m\u001b[0;34m(\u001b[0m\u001b[0mc\u001b[0m\u001b[0;34m)\u001b[0m\u001b[0;34m\u001b[0m\u001b[0;34m\u001b[0m\u001b[0m\n",
      "\u001b[0;31mZeroDivisionError\u001b[0m: division by zero"
     ]
    }
   ],
   "source": [
    "# if number is divided by 0 then that is error in python programming \n",
    "a=True\n",
    "b=False\n",
    "c=a/b\n",
    "print(c)"
   ]
  },
  {
   "cell_type": "code",
   "execution_count": 23,
   "metadata": {
    "colab": {
     "base_uri": "https://localhost:8080/"
    },
    "id": "PKVujs4Fw7lO",
    "outputId": "b7c294f6-4ea6-4872-c724-008ec26abba0"
   },
   "outputs": [
    {
     "name": "stdout",
     "output_type": "stream",
     "text": [
      "Enter the value of a= 499\n",
      "499\n"
     ]
    }
   ],
   "source": [
    "# basic I/O\n",
    "a=input(\"Enter the value of a= \")\n",
    "print(a)"
   ]
  },
  {
   "cell_type": "code",
   "execution_count": 27,
   "metadata": {
    "colab": {
     "base_uri": "https://localhost:8080/"
    },
    "id": "vPvhJKaAxXT9",
    "outputId": "a3fa3378-cd02-441e-9c73-c6ca47d2c3b0"
   },
   "outputs": [
    {
     "name": "stdout",
     "output_type": "stream",
     "text": [
      "enter first name :bibhuti\n",
      "enter last name :mukhiya\n",
      "bibhuti mukhiya\n"
     ]
    }
   ],
   "source": [
    "f_name=input('enter first name :')\n",
    "l_name=input('enter last name :')\n",
    "Full_name=f_name +\" \"+l_name\n",
    "print(Full_name)\n"
   ]
  },
  {
   "cell_type": "code",
   "execution_count": 30,
   "metadata": {
    "colab": {
     "base_uri": "https://localhost:8080/"
    },
    "id": "0L0e_Jdvyztn",
    "outputId": "1d2d7d7f-4c4d-4ca5-cfc5-9c9a6cb55958"
   },
   "outputs": [
    {
     "name": "stdout",
     "output_type": "stream",
     "text": [
      "15\n"
     ]
    }
   ],
   "source": [
    "a=10 # here value of a is 10\n",
    "a=15 # here value of a is 15 and if you print then value is 15\n",
    "print(a)\n",
    "# this will over write the value of a"
   ]
  },
  {
   "cell_type": "code",
   "execution_count": 32,
   "metadata": {
    "colab": {
     "base_uri": "https://localhost:8080/"
    },
    "id": "7iGPd8eLzwFn",
    "outputId": "73c491dd-1fed-475b-aa22-b371789cc8bc"
   },
   "outputs": [
    {
     "name": "stdout",
     "output_type": "stream",
     "text": [
      "enter p= 100\n",
      "enter t= 5\n",
      "enter r= 1000\n",
      "the value of i =  5000.0\n"
     ]
    }
   ],
   "source": [
    "# type casting \n",
    "# The conversion of one data type into the other data type is known as type casting \n",
    "# in python or type conversion in python.\n",
    "# int(), float(), str(), ord(), hex(), oct(), tuple(), set(), list(), dict(), etc.\n",
    "p=int(input('enter p= '))\n",
    "t=float(input('enter t= '))\n",
    "r=float(input('enter r= '))\n",
    "i=p*t*r/100\n",
    "print('the value of i = ',i)"
   ]
  }
 ],
 "metadata": {
  "colab": {
   "provenance": []
  },
  "kernelspec": {
   "display_name": "Python 3 (ipykernel)",
   "language": "python",
   "name": "python3"
  },
  "language_info": {
   "codemirror_mode": {
    "name": "ipython",
    "version": 3
   },
   "file_extension": ".py",
   "mimetype": "text/x-python",
   "name": "python",
   "nbconvert_exporter": "python",
   "pygments_lexer": "ipython3",
   "version": "3.9.12"
  }
 },
 "nbformat": 4,
 "nbformat_minor": 4
}
