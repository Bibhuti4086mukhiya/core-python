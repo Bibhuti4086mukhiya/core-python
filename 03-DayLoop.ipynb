{
 "cells": [
  {
   "cell_type": "code",
   "execution_count": null,
   "id": "c21aca22-2c97-46a5-95b1-7154430e7090",
   "metadata": {},
   "outputs": [],
   "source": [
    "# loop mean cycle : run the code until condition is true\n",
    "# for loop : certainty condition\n",
    "# while loop : uncertainty condition"
   ]
  },
  {
   "cell_type": "code",
   "execution_count": null,
   "id": "a8741d36-e483-40d6-8280-8fbecae4c37c",
   "metadata": {},
   "outputs": [],
   "source": [
    "# range(5)       #0,1,2,3,4  for (i=0; i<5; i++;)\n",
    "# range(1,5)     #1,2,3,4    for (i=1; i<5; i++;)\n",
    "# range(1,10,2)  #1,3,5,7,9  for (i=1; i<10; i=i+2;)"
   ]
  },
  {
   "cell_type": "code",
   "execution_count": 2,
   "id": "b0ff9ee7-89cc-42d4-9681-527704fd9d8b",
   "metadata": {},
   "outputs": [
    {
     "name": "stdout",
     "output_type": "stream",
     "text": [
      "0 Hello World\n",
      "1 Hello World\n",
      "2 Hello World\n",
      "3 Hello World\n",
      "4 Hello World\n"
     ]
    }
   ],
   "source": [
    "for i in range(5): #<(smaller logic is only run)\n",
    "    print(i,\"Hello World\")"
   ]
  },
  {
   "cell_type": "code",
   "execution_count": 4,
   "id": "75c0d101-f046-4652-8db4-afc9fcf26e48",
   "metadata": {},
   "outputs": [
    {
     "name": "stdout",
     "output_type": "stream",
     "text": [
      "1 Hello World\n",
      "3 Hello World\n",
      "5 Hello World\n",
      "7 Hello World\n",
      "9 Hello World\n"
     ]
    }
   ],
   "source": [
    "for i in range(1,10,2): \n",
    "    print(i,\"Hello World\")"
   ]
  },
  {
   "cell_type": "code",
   "execution_count": 1,
   "id": "ec37a9c9-46ef-48ca-abbf-fd0b47300bd3",
   "metadata": {
    "tags": []
   },
   "outputs": [
    {
     "name": "stdin",
     "output_type": "stream",
     "text": [
      "multiply of : 4\n"
     ]
    },
    {
     "name": "stdout",
     "output_type": "stream",
     "text": [
      "4 * 1 = 4\n",
      "4 * 2 = 8\n",
      "4 * 3 = 12\n",
      "4 * 4 = 16\n",
      "4 * 5 = 20\n",
      "4 * 6 = 24\n",
      "4 * 7 = 28\n",
      "4 * 8 = 32\n",
      "4 * 9 = 36\n",
      "4 * 10 = 40\n"
     ]
    }
   ],
   "source": [
    "n=int(input(\"multiply of :\"))\n",
    "for i in range(1,11):\n",
    "    print(n,'*',i,'=',n*i)"
   ]
  },
  {
   "cell_type": "code",
   "execution_count": 20,
   "id": "907b8b8b-e6ac-4d04-a4a1-a005deb51bc9",
   "metadata": {},
   "outputs": [
    {
     "name": "stdout",
     "output_type": "stream",
     "text": [
      "enter the value of n : 4\n",
      "enter x : 4\n",
      "enter x : 4\n",
      "enter x : 4\n",
      "enter x : 4\n",
      "16\n"
     ]
    }
   ],
   "source": [
    "n=int(input('enter the value of n :'))\n",
    "s=int()\n",
    "# s=0\n",
    "for i in range(n):\n",
    "    x=int(input('enter x :'))\n",
    "    s+=x\n",
    "print(s)\n"
   ]
  },
  {
   "cell_type": "code",
   "execution_count": 23,
   "id": "f6fccf40-f1bb-4c12-b114-9464609181e6",
   "metadata": {},
   "outputs": [
    {
     "name": "stdout",
     "output_type": "stream",
     "text": [
      "enter the value of n : 2\n",
      "enter x : 2\n",
      "enter x : 2\n",
      "4\n"
     ]
    }
   ],
   "source": [
    "n=int(input('enter the value of n :'))\n",
    "s=1\n",
    "for i in range(n):\n",
    "    x=int(input('enter x :'))\n",
    "    s=s*x\n",
    "print(s)"
   ]
  },
  {
   "cell_type": "code",
   "execution_count": 1,
   "id": "01675282-c0dc-4887-b857-60fc5dc37730",
   "metadata": {
    "tags": []
   },
   "outputs": [
    {
     "name": "stdin",
     "output_type": "stream",
     "text": [
      "factorial of n : 5\n"
     ]
    },
    {
     "name": "stdout",
     "output_type": "stream",
     "text": [
      "1 1\n",
      "2 2\n",
      "3 6\n",
      "4 24\n",
      "5 120\n",
      "120\n"
     ]
    }
   ],
   "source": [
    "n=int(input('factorial of n :'))\n",
    "f=1\n",
    "for i in range(1,n+1):\n",
    "    f=f*i \n",
    "    print(i,f)\n",
    "print(f)"
   ]
  },
  {
   "cell_type": "code",
   "execution_count": 2,
   "id": "a0b13a6d-4d98-4a2c-97dc-852ffa89c646",
   "metadata": {
    "tags": []
   },
   "outputs": [
    {
     "name": "stdin",
     "output_type": "stream",
     "text": [
      "enter n1: 4\n",
      "enter n1: 5\n"
     ]
    },
    {
     "name": "stdout",
     "output_type": "stream",
     "text": [
      "12\n"
     ]
    }
   ],
   "source": [
    "n1=int(input('enter n1:'))\n",
    "n2=int(input('enter n1:'))\n",
    "for i in range(n1,n2+1):\n",
    "    n1=n1+i\n",
    "print(n1-1)\n"
   ]
  },
  {
   "cell_type": "code",
   "execution_count": 6,
   "id": "949008f5-eca2-4b08-8689-46ea4ed7273e",
   "metadata": {
    "tags": []
   },
   "outputs": [
    {
     "name": "stdout",
     "output_type": "stream",
     "text": [
      "p y t h o n "
     ]
    }
   ],
   "source": [
    "# loop work with string \n",
    "s='python' #sequence of chararcter p,y,t,h,o,n and space is also character ' '\n",
    "# end=' ' it print the value in the horizontal line\n",
    "for i in s:\n",
    "    print(i,end=' ')"
   ]
  },
  {
   "cell_type": "code",
   "execution_count": 19,
   "id": "e2dfdbf3-d3f0-49be-b50b-6414fb34a42c",
   "metadata": {},
   "outputs": [
    {
     "name": "stdout",
     "output_type": "stream",
     "text": [
      "Hello World I am Python"
     ]
    }
   ],
   "source": [
    "a=\"Hello World I am Python\"\n",
    "for i in a:\n",
    "    print(i,end='')"
   ]
  },
  {
   "cell_type": "code",
   "execution_count": 21,
   "id": "a513c4ac-c10c-4b8c-8010-50838fa15c6d",
   "metadata": {},
   "outputs": [
    {
     "name": "stdout",
     "output_type": "stream",
     "text": [
      "H.e.l.l.o. .W.o.r.l.d. .I. .a.m. .P.y.t.h.o.n."
     ]
    }
   ],
   "source": [
    "a=\"Hello World I am Python\"\n",
    "for i in a:\n",
    "    print(i,end='.')"
   ]
  },
  {
   "cell_type": "code",
   "execution_count": 17,
   "id": "859d4cbc-4bd4-40ca-9cfc-9bd5ca105ca9",
   "metadata": {},
   "outputs": [
    {
     "name": "stdout",
     "output_type": "stream",
     "text": [
      "HelloWorldIamPython"
     ]
    }
   ],
   "source": [
    "a=\"Hello World I am Python\"\n",
    "for i in a:\n",
    "    if i!=\" \":\n",
    "         print(i,end='')"
   ]
  },
  {
   "cell_type": "code",
   "execution_count": 24,
   "id": "d9351396-272c-4232-8289-b732df333e81",
   "metadata": {},
   "outputs": [
    {
     "name": "stdout",
     "output_type": "stream",
     "text": [
      "HelloWorldIamPython"
     ]
    }
   ],
   "source": [
    "a=\"Hello World. I am Python\"\n",
    "for i in a:\n",
    "    if i!=\" \" and i!='.':\n",
    "        print(i,end='')"
   ]
  },
  {
   "cell_type": "code",
   "execution_count": 25,
   "id": "36836c31-eec8-4108-a562-d2609b36478b",
   "metadata": {},
   "outputs": [
    {
     "name": "stdout",
     "output_type": "stream",
     "text": [
      "p Hello World\n",
      "y Hello World\n",
      "t Hello World\n",
      "h Hello World\n",
      "o Hello World\n",
      "n Hello World\n"
     ]
    }
   ],
   "source": [
    "# run to upto number of character\n",
    "a='python'\n",
    "for i in a:\n",
    "    print(i,\"Hello World\")"
   ]
  },
  {
   "cell_type": "code",
   "execution_count": 27,
   "id": "7953f35c-414f-400f-9bb0-0bfe19e8cad0",
   "metadata": {},
   "outputs": [
    {
     "data": {
      "text/plain": [
       "'t'"
      ]
     },
     "execution_count": 27,
     "metadata": {},
     "output_type": "execute_result"
    }
   ],
   "source": [
    "a='pyhton'\n",
    "a[3]"
   ]
  },
  {
   "cell_type": "code",
   "execution_count": 8,
   "id": "2fb1e379-9b4b-46e1-970e-2ecbd408732b",
   "metadata": {
    "tags": []
   },
   "outputs": [
    {
     "name": "stdout",
     "output_type": "stream",
     "text": [
      "python"
     ]
    }
   ],
   "source": [
    "# range function in stirng \n",
    "a='python'\n",
    "l=len(a)\n",
    "for i in range(l):\n",
    "    print(a[i],end='')"
   ]
  },
  {
   "cell_type": "code",
   "execution_count": 33,
   "id": "48afb9e3-aaf2-4430-b9cd-6e4308d05277",
   "metadata": {},
   "outputs": [
    {
     "name": "stdout",
     "output_type": "stream",
     "text": [
      "HelloWorldIamPython"
     ]
    }
   ],
   "source": [
    "# range function in stirng \n",
    "a=\"Hello World. I am Python\"\n",
    "l=len(a)\n",
    "for i in range(l):\n",
    "    if a[i]!=' ' and a[i]!='.':\n",
    "        print(a[i],end='')"
   ]
  },
  {
   "cell_type": "code",
   "execution_count": null,
   "id": "bf4aa325-1f2e-4b65-a179-09b6ff47f8ef",
   "metadata": {},
   "outputs": [],
   "source": [
    "# control statement in python\n",
    "# break \n",
    "# continue"
   ]
  },
  {
   "cell_type": "code",
   "execution_count": 37,
   "id": "46a89a00-fb52-4d9a-aaec-71682232613d",
   "metadata": {},
   "outputs": [
    {
     "name": "stdout",
     "output_type": "stream",
     "text": [
      "0 1 2 3 4 "
     ]
    }
   ],
   "source": [
    "for i in range(10):\n",
    "    if i==5:\n",
    "        break\n",
    "    print(i,end=' ')"
   ]
  },
  {
   "cell_type": "code",
   "execution_count": 36,
   "id": "3e39b054-912f-41db-a594-96d289213208",
   "metadata": {},
   "outputs": [
    {
     "name": "stdout",
     "output_type": "stream",
     "text": [
      "0 1 2 3 4 6 7 8 9 "
     ]
    }
   ],
   "source": [
    "for i in range(10):\n",
    "    if i==5:\n",
    "        continue #code do not run after continue retrun from contiue in the loop\n",
    "    print(i,end=' ')"
   ]
  },
  {
   "cell_type": "code",
   "execution_count": 38,
   "id": "e6d02f10-91df-40a1-9b49-063cda815ade",
   "metadata": {},
   "outputs": [
    {
     "name": "stdout",
     "output_type": "stream",
     "text": [
      "Hello World"
     ]
    }
   ],
   "source": [
    "a=\"Hello World. I am Python.\"\n",
    "for i in a:\n",
    "    if i==\".\":\n",
    "        break\n",
    "    print(i,end='')"
   ]
  },
  {
   "cell_type": "code",
   "execution_count": 39,
   "id": "d7f23029-9276-4f9b-b11e-4071b532634f",
   "metadata": {},
   "outputs": [
    {
     "name": "stdout",
     "output_type": "stream",
     "text": [
      "Hello World I am Python"
     ]
    }
   ],
   "source": [
    "a=\"Hello World. I am Python.\"\n",
    "for i in a:\n",
    "    if i==\".\":\n",
    "        continue\n",
    "    print(i,end='')"
   ]
  },
  {
   "cell_type": "code",
   "execution_count": 3,
   "id": "8f7b148d-c2e4-4fda-a480-5965f6e6e1b3",
   "metadata": {
    "tags": []
   },
   "outputs": [
    {
     "name": "stdout",
     "output_type": "stream",
     "text": [
      "2\n",
      "4\n",
      "6\n",
      "8\n",
      "10\n",
      "12\n",
      "14\n",
      "16\n",
      "18\n",
      "20\n"
     ]
    },
    {
     "data": {
      "text/plain": [
       "1"
      ]
     },
     "execution_count": 3,
     "metadata": {},
     "output_type": "execute_result"
    }
   ],
   "source": [
    "for i in range(1,21):\n",
    "    if i%2!=0:\n",
    "        continue\n",
    "    print(i)"
   ]
  },
  {
   "cell_type": "code",
   "execution_count": 47,
   "id": "eb9cace6-a0a3-404f-bf9a-42f3a52fae10",
   "metadata": {},
   "outputs": [
    {
     "name": "stdout",
     "output_type": "stream",
     "text": [
      "Hello\n",
      "\n",
      "World\n",
      "\n",
      "I\n",
      "\n",
      "am\n",
      "\n",
      "Python"
     ]
    }
   ],
   "source": [
    "a=\"Hello World I am Python\"\n",
    "for i in a:\n",
    "    if i==\" \":\n",
    "        print('\\n')\n",
    "    else:\n",
    "        print(i,end='')\n",
    "    "
   ]
  },
  {
   "cell_type": "code",
   "execution_count": 1,
   "id": "141f2785-322d-4589-bd32-e193174097d6",
   "metadata": {},
   "outputs": [
    {
     "name": "stdout",
     "output_type": "stream",
     "text": [
      "12 composite\n"
     ]
    }
   ],
   "source": [
    "# prime--> 2,3,5,7,11...\n",
    "# composite --> 4,6,8,9...\n",
    "n=12\n",
    "if n>1:\n",
    "    for i in range(2,n//2):\n",
    "        if n%i==0:\n",
    "            print(n,'composite')\n",
    "            break\n",
    "    else:\n",
    "        print('prime')\n",
    "else:\n",
    "    print('number should be greater than 1')"
   ]
  },
  {
   "cell_type": "code",
   "execution_count": null,
   "id": "d1ac360b-279b-4de2-aee7-fb2e322954ab",
   "metadata": {},
   "outputs": [],
   "source": [
    "# 15->3,5,15\n",
    "# 9->3,9"
   ]
  },
  {
   "cell_type": "code",
   "execution_count": 6,
   "id": "e6b5d492-8934-4394-a368-41c4ca579dbd",
   "metadata": {
    "tags": []
   },
   "outputs": [
    {
     "name": "stdout",
     "output_type": "stream",
     "text": [
      "0 Hello world\n",
      "1 Hello world\n",
      "2 Hello world\n",
      "3 Hello world\n",
      "4 Hello world\n"
     ]
    }
   ],
   "source": [
    "# while loop\n",
    "a=0\n",
    "while a<5:\n",
    "    print(a,'Hello world')\n",
    "    a+=1"
   ]
  },
  {
   "cell_type": "code",
   "execution_count": 7,
   "id": "c787daa7-84ab-4110-bbba-f2798e895803",
   "metadata": {
    "tags": []
   },
   "outputs": [
    {
     "name": "stdout",
     "output_type": "stream",
     "text": [
      "0 Hello world\n",
      "1 Hello world\n",
      "2 Hello world\n",
      "3 Hello world\n",
      "4 Hello world\n",
      "5 Hello world\n"
     ]
    }
   ],
   "source": [
    "a=0\n",
    "while a<=5:\n",
    "    print(a,'Hello world')\n",
    "    a+=1"
   ]
  },
  {
   "cell_type": "code",
   "execution_count": 8,
   "id": "b2339c74-9e2c-4e84-869e-85ce9d932af1",
   "metadata": {
    "tags": []
   },
   "outputs": [
    {
     "name": "stdout",
     "output_type": "stream",
     "text": [
      "5 Hello world\n",
      "4 Hello world\n",
      "3 Hello world\n",
      "2 Hello world\n",
      "1 Hello world\n",
      "0 Hello world\n"
     ]
    }
   ],
   "source": [
    "a=5\n",
    "while a>=0:\n",
    "    print(a,'Hello world')\n",
    "    a-=1"
   ]
  },
  {
   "cell_type": "code",
   "execution_count": 13,
   "id": "3369ed38-97e4-4c9f-b597-206422722738",
   "metadata": {
    "tags": []
   },
   "outputs": [
    {
     "name": "stdout",
     "output_type": "stream",
     "text": [
      "5\n",
      "4\n",
      "3\n",
      "2\n",
      "1\n",
      "0\n"
     ]
    }
   ],
   "source": [
    "# float number is not work in for loop\n",
    "n=5\n",
    "for i in range(n,-1,-1):\n",
    "    print(i)"
   ]
  },
  {
   "cell_type": "code",
   "execution_count": 15,
   "id": "1883c196-061c-4e8b-b944-0b9fe4ea139a",
   "metadata": {
    "tags": []
   },
   "outputs": [
    {
     "name": "stdout",
     "output_type": "stream",
     "text": [
      "0 Hello world\n",
      "0.5 Hello world\n",
      "1.0 Hello world\n",
      "1.5 Hello world\n",
      "2.0 Hello world\n",
      "2.5 Hello world\n",
      "3.0 Hello world\n",
      "3.5 Hello world\n",
      "4.0 Hello world\n",
      "4.5 Hello world\n"
     ]
    }
   ],
   "source": [
    "a=0\n",
    "while a<5:\n",
    "    print(a,'Hello world')\n",
    "    a+=0.5"
   ]
  },
  {
   "cell_type": "code",
   "execution_count": 19,
   "id": "a7c88cec-afd3-4532-88aa-3f69bda13c1f",
   "metadata": {
    "tags": []
   },
   "outputs": [
    {
     "name": "stdin",
     "output_type": "stream",
     "text": [
      "enter number : 5\n"
     ]
    },
    {
     "name": "stdout",
     "output_type": "stream",
     "text": [
      "5 * 1 = 5\n",
      "5 * 2 = 10\n",
      "5 * 3 = 15\n",
      "5 * 4 = 20\n",
      "5 * 5 = 25\n",
      "5 * 6 = 30\n",
      "5 * 7 = 35\n",
      "5 * 8 = 40\n",
      "5 * 9 = 45\n",
      "5 * 10 = 50\n"
     ]
    }
   ],
   "source": [
    "n=int(input(\"enter number :\" ))\n",
    "i=1\n",
    "while i<=10:\n",
    "    print(n,'*',i,'=',n*i)\n",
    "    i=i+1"
   ]
  },
  {
   "cell_type": "code",
   "execution_count": null,
   "id": "258e39bc-5fc6-45d9-94cf-83780ae46bde",
   "metadata": {},
   "outputs": [
    {
     "name": "stdin",
     "output_type": "stream",
     "text": [
      "enter the number : 2\n",
      "enter the number : 100\n",
      "enter the number : 199\n"
     ]
    },
    {
     "name": "stdout",
     "output_type": "stream",
     "text": [
      "299\n"
     ]
    }
   ],
   "source": [
    "n=int(input('enter the number :'))\n",
    "a=int()\n",
    "i=0\n",
    "while i<n:\n",
    "    x=int(input('enter the number :'))\n",
    "    a=a+x\n",
    "    i+=1   \n",
    "print(a)"
   ]
  },
  {
   "cell_type": "code",
   "execution_count": 63,
   "id": "2cf6c22b-5482-4ab3-9a7a-6303cd3ca1eb",
   "metadata": {
    "tags": []
   },
   "outputs": [
    {
     "name": "stdout",
     "output_type": "stream",
     "text": [
      "1 * 1\n",
      "2 * 2\n",
      "6 * 3\n",
      "24 * 4\n",
      "120 * 5\n",
      "120\n"
     ]
    }
   ],
   "source": [
    "f=1\n",
    "i=1\n",
    "n=5\n",
    "while i<=n:\n",
    "    f=f*i\n",
    "    print(f,'*',i)\n",
    "    i+=1\n",
    "print(f)"
   ]
  },
  {
   "cell_type": "code",
   "execution_count": 65,
   "id": "3d7e77c0-402e-45d8-b624-1e338e2b7e6b",
   "metadata": {
    "tags": []
   },
   "outputs": [
    {
     "name": "stdout",
     "output_type": "stream",
     "text": [
      "python"
     ]
    }
   ],
   "source": [
    "a=\"python\"\n",
    "l=len(a)\n",
    "i=0\n",
    "while i<l:\n",
    "    print(a[i],end='')\n",
    "    i=i+1"
   ]
  },
  {
   "cell_type": "code",
   "execution_count": 70,
   "id": "8c5de10c-698e-461e-abbb-7554182d2f96",
   "metadata": {
    "tags": []
   },
   "outputs": [
    {
     "name": "stdout",
     "output_type": "stream",
     "text": [
      "HelloworldIampython"
     ]
    }
   ],
   "source": [
    "a=\"Hello world. I am python\"\n",
    "l=len(a)\n",
    "i=0\n",
    "while i<l:\n",
    "    if a[i]!='.' and a[i]!=' ':\n",
    "        print(a[i],end='')\n",
    "    i=i+1"
   ]
  },
  {
   "cell_type": "code",
   "execution_count": 9,
   "id": "15e42e12-1cb9-42dc-b06e-8834e4ceb4f5",
   "metadata": {
    "tags": []
   },
   "outputs": [
    {
     "name": "stdout",
     "output_type": "stream",
     "text": [
      "0\n",
      "1\n",
      "2\n",
      "3\n",
      "4\n"
     ]
    }
   ],
   "source": [
    "# control statement in the while loop\n",
    "i=0\n",
    "while i<=10:\n",
    "    if i==5:\n",
    "        break\n",
    "    print(i)\n",
    "    i+=1"
   ]
  },
  {
   "cell_type": "code",
   "execution_count": 10,
   "id": "276620b0-d713-43ce-8328-0b4093b2413f",
   "metadata": {
    "tags": []
   },
   "outputs": [
    {
     "name": "stdout",
     "output_type": "stream",
     "text": [
      "0 1 2 3 4 6 7 8 9 10 "
     ]
    }
   ],
   "source": [
    "# have to increase value of i above the contiune function.\n",
    "i=0\n",
    "while i<=10:\n",
    "    if i==5:\n",
    "        i+=1\n",
    "        continue\n",
    "    print(i,end=' ')\n",
    "    i+=1"
   ]
  },
  {
   "cell_type": "code",
   "execution_count": 7,
   "id": "0dccf1e6-68e6-40c4-97f1-9ce06cd168a2",
   "metadata": {
    "tags": []
   },
   "outputs": [
    {
     "name": "stdout",
     "output_type": "stream",
     "text": [
      "prime\n"
     ]
    }
   ],
   "source": [
    "n=11\n",
    "i=2\n",
    "if n>1:\n",
    "    while i<=n//2:\n",
    "        if n%i==0:\n",
    "            print('composite')\n",
    "            break\n",
    "        i+=1\n",
    "    else:\n",
    "        print('prime')  \n",
    "else:\n",
    "    print('enter greater than 1') "
   ]
  },
  {
   "cell_type": "code",
   "execution_count": 16,
   "id": "3becd73f-dea6-4ce6-b266-53c251c83abb",
   "metadata": {
    "tags": []
   },
   "outputs": [
    {
     "name": "stdout",
     "output_type": "stream",
     "text": [
      "2 3\n"
     ]
    }
   ],
   "source": [
    "print(,23//10,23%10)"
   ]
  }
 ],
 "metadata": {
  "kernelspec": {
   "display_name": "Python 3 (ipykernel)",
   "language": "python",
   "name": "python3"
  },
  "language_info": {
   "codemirror_mode": {
    "name": "ipython",
    "version": 3
   },
   "file_extension": ".py",
   "mimetype": "text/x-python",
   "name": "python",
   "nbconvert_exporter": "python",
   "pygments_lexer": "ipython3",
   "version": "3.9.12"
  },
  "vscode": {
   "interpreter": {
    "hash": "369f2c481f4da34e4445cda3fffd2e751bd1c4d706f27375911949ba6bb62e1c"
   }
  }
 },
 "nbformat": 4,
 "nbformat_minor": 5
}
