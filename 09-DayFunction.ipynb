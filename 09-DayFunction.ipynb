{
 "cells": [
  {
   "cell_type": "code",
   "execution_count": null,
   "id": "ca006d5e-2440-4cb6-9d34-c38e086733e1",
   "metadata": {},
   "outputs": [],
   "source": [
    "# function\n",
    "# -pre-define\n",
    "# -print() int() float() str() list() tuple() dict()\n"
   ]
  },
  {
   "cell_type": "code",
   "execution_count": null,
   "id": "417f54ac-f935-43cc-be06-cca42185ef05",
   "metadata": {},
   "outputs": [],
   "source": [
    "# user-define\n",
    "def <function_name>():#defining function\n",
    "    <operation>\n",
    "<function_name>()#call function"
   ]
  },
  {
   "cell_type": "code",
   "execution_count": null,
   "id": "2c6ccccf-826f-4507-be9f-7a57a594412d",
   "metadata": {},
   "outputs": [],
   "source": [
    "a=()#tuple\n",
    "a()#function called"
   ]
  },
  {
   "cell_type": "code",
   "execution_count": 1,
   "id": "95c95f51-3be7-4dd2-9d5a-bbb80f5dace3",
   "metadata": {
    "tags": []
   },
   "outputs": [
    {
     "name": "stdout",
     "output_type": "stream",
     "text": [
      "Hello World\n",
      "Hello World\n"
     ]
    }
   ],
   "source": [
    "def hello():       #defining function\n",
    "    print('Hello World')\n",
    "    \n",
    "    \n",
    "hello()             #calling function\n",
    "hello() "
   ]
  },
  {
   "cell_type": "code",
   "execution_count": 2,
   "id": "dbd025a5-9ad5-494d-83a6-e690f849a3ad",
   "metadata": {
    "tags": []
   },
   "outputs": [
    {
     "name": "stdin",
     "output_type": "stream",
     "text": [
      "enter l = 4\n",
      "enter b = 5\n",
      "enter h = 5\n"
     ]
    },
    {
     "name": "stdout",
     "output_type": "stream",
     "text": [
      "100\n"
     ]
    }
   ],
   "source": [
    "def volume():\n",
    "    l=int(input('enter l ='))  #local variable\n",
    "    b=int(input('enter b ='))  #local variable\n",
    "    h=int(input('enter h ='))  #local variable\n",
    "    v=l*b*h\n",
    "    print(v)\n",
    "\n",
    "volume()\n",
    "    "
   ]
  },
  {
   "cell_type": "code",
   "execution_count": 3,
   "id": "d8d6fdee-1701-40ef-9f89-469de1aef00d",
   "metadata": {
    "tags": []
   },
   "outputs": [
    {
     "name": "stdin",
     "output_type": "stream",
     "text": [
      "enter l = 3\n",
      "enter b = 3\n",
      "enter h = 3\n"
     ]
    },
    {
     "name": "stdout",
     "output_type": "stream",
     "text": [
      "27\n"
     ]
    }
   ],
   "source": [
    "# function with no return type and no argument\n",
    "\n",
    "l=int(input('enter l ='))  #global variable\n",
    "b=int(input('enter b ='))  #global variable\n",
    "h=int(input('enter h ='))  #global variable\n",
    "\n",
    "def volume():\n",
    "    v=l*b*h\n",
    "    print(v)\n",
    "volume()"
   ]
  },
  {
   "cell_type": "code",
   "execution_count": null,
   "id": "f0a73ac6-0483-4f9c-8a05-a29a5530ad7d",
   "metadata": {},
   "outputs": [],
   "source": [
    "# function with no return type and no argument\n",
    "\n",
    "def volume():\n",
    "    global l,b,h\n",
    "    \n",
    "    l=int(input('enter l ='))  #global variable\n",
    "    b=int(input('enter b ='))  #global variable\n",
    "    h=int(input('enter h ='))  #global variable\n",
    "    v=l*b*h\n",
    "    print(v)\n",
    "\n",
    "volume()"
   ]
  },
  {
   "cell_type": "code",
   "execution_count": 5,
   "id": "96aa290c-ae85-442d-ac59-7ffceb8b3175",
   "metadata": {
    "tags": []
   },
   "outputs": [],
   "source": [
    "# function with no return type and no argument\n",
    "# function with no return type and argument\n",
    "# function with return type and no argument\n",
    "# function with return type and argument"
   ]
  },
  {
   "cell_type": "code",
   "execution_count": null,
   "id": "156110dd-8d0b-47d8-a57c-cf97b1fd7e2b",
   "metadata": {},
   "outputs": [],
   "source": [
    "# function with no return type and argument\n",
    "def volume(x,y,z):#parameter\n",
    "    v=x*y*z\n",
    "    print(v)\n",
    "    \n",
    "l=int(input('enter l ='))  #global variable\n",
    "b=int(input('enter b ='))  #global variable\n",
    "h=int(input('enter h ='))  #global variable\n",
    "\n",
    "volume(l,b,h) #argument\n"
   ]
  },
  {
   "cell_type": "code",
   "execution_count": 6,
   "id": "b2ba11c8-ee1e-47f7-9048-8c79c552e5e3",
   "metadata": {
    "tags": []
   },
   "outputs": [
    {
     "name": "stdin",
     "output_type": "stream",
     "text": [
      "enter l = 8\n",
      "enter b = 3\n",
      "enter h = 4\n"
     ]
    },
    {
     "name": "stdout",
     "output_type": "stream",
     "text": [
      "96\n",
      "24\n"
     ]
    }
   ],
   "source": [
    "# function with no return type and argument\n",
    "def volume(x,y,z):#parameter\n",
    "    v=x*y*z\n",
    "    print(v)\n",
    "def area(i,j):\n",
    "    a=i*j\n",
    "    print(a)\n",
    "    \n",
    "l=int(input('enter l ='))  #global variable\n",
    "b=int(input('enter b ='))  #global variable\n",
    "h=int(input('enter h ='))  #global variable\n",
    "\n",
    "volume(l,b,h) #argument\n",
    "area(l,b)"
   ]
  },
  {
   "cell_type": "code",
   "execution_count": 8,
   "id": "3e478b58-6caf-4187-a71c-7ea2b77b0d59",
   "metadata": {
    "tags": []
   },
   "outputs": [
    {
     "name": "stdout",
     "output_type": "stream",
     "text": [
      "Hello World\n"
     ]
    }
   ],
   "source": [
    "# return type function\n",
    "def hello():\n",
    "    return 'Hello World'\n",
    "\n",
    "\n",
    "print(hello())"
   ]
  },
  {
   "cell_type": "code",
   "execution_count": 9,
   "id": "b8a66be5-8732-498e-abaf-c786ee9c259f",
   "metadata": {
    "tags": []
   },
   "outputs": [
    {
     "name": "stdout",
     "output_type": "stream",
     "text": [
      "Hello World\n"
     ]
    }
   ],
   "source": [
    "# return type function and no argument\n",
    "def hello():\n",
    "    return 'Hello World'\n",
    "\n",
    "\n",
    "x=hello()\n",
    "print(x)"
   ]
  },
  {
   "cell_type": "code",
   "execution_count": 14,
   "id": "e436e811-778f-4275-a8fb-d5a5dd258fba",
   "metadata": {
    "tags": []
   },
   "outputs": [
    {
     "name": "stdin",
     "output_type": "stream",
     "text": [
      "enter l = 3\n",
      "enter b = 4\n",
      "enter h = 5\n"
     ]
    },
    {
     "name": "stdout",
     "output_type": "stream",
     "text": [
      "The area = 12\n",
      "The volume = 60\n"
     ]
    }
   ],
   "source": [
    "# function with return type and argument\n",
    "def area(x,y):#parameter\n",
    "    a=x*y\n",
    "    return a\n",
    "    \n",
    "l=int(input('enter l ='))  #global variable\n",
    "b=int(input('enter b ='))  #global variable\n",
    "h=int(input('enter h ='))  #global variable\n",
    "\n",
    "\n",
    "ar=area(l,b)\n",
    "v=ar*h #argument\n",
    "\n",
    "\n",
    "print('The area =',ar)\n",
    "print('The volume =',v)"
   ]
  },
  {
   "cell_type": "code",
   "execution_count": 18,
   "id": "ee92ddae-f4c5-48d9-9580-bbbae553419f",
   "metadata": {},
   "outputs": [
    {
     "name": "stdin",
     "output_type": "stream",
     "text": [
      "enter l = 3\n",
      "enter b = 3\n",
      "enter h = 3\n"
     ]
    },
    {
     "name": "stdout",
     "output_type": "stream",
     "text": [
      "(9, 27)\n",
      "The area = 9\n",
      "The volume = 27\n"
     ]
    }
   ],
   "source": [
    "# function with return type and argument\n",
    "def cal(x,y,z):#parameter\n",
    "    a=x*y\n",
    "    v=a*z\n",
    "    return a,v\n",
    "    \n",
    "l=int(input('enter l ='))  #global variable\n",
    "b=int(input('enter b ='))  #global variable\n",
    "h=int(input('enter h ='))  #global variable\n",
    "\n",
    "c=cal(l,b,h) #argument\n",
    "print(c)\n",
    "\n",
    "area,volume=c\n",
    "print('The area =',area)\n",
    "print('The volume =',volume)"
   ]
  },
  {
   "cell_type": "code",
   "execution_count": 23,
   "id": "754fcd61-5a34-4cee-b3b5-5bc45237635d",
   "metadata": {
    "tags": []
   },
   "outputs": [
    {
     "name": "stdout",
     "output_type": "stream",
     "text": [
      "6\n"
     ]
    }
   ],
   "source": [
    "a,b,c=3,5,6\n",
    "print(c)"
   ]
  },
  {
   "cell_type": "code",
   "execution_count": 24,
   "id": "740421a1-5617-4e83-85d0-4b75598dc492",
   "metadata": {
    "tags": []
   },
   "outputs": [
    {
     "name": "stdin",
     "output_type": "stream",
     "text": [
      "enter l = 4\n",
      "enter b = 4\n",
      "enter h = 4\n"
     ]
    },
    {
     "name": "stdout",
     "output_type": "stream",
     "text": [
      "(16, 64)\n",
      "The area = 16\n",
      "The volume = 64\n"
     ]
    }
   ],
   "source": [
    "# function with return type and argument\n",
    "def cal(value):#parameter\n",
    "    l,b,h=value\n",
    "    a=l*b\n",
    "    v=a*h\n",
    "    return a,v\n",
    "    \n",
    "l=int(input('enter l ='))  #global variable\n",
    "b=int(input('enter b ='))  #global variable\n",
    "h=int(input('enter h ='))  #global variable\n",
    "\n",
    "values=(l,b,h)\n",
    "c=cal(values)#tuple as argument #argument\n",
    "print(c)\n",
    "\n",
    "area,volume=c\n",
    "print('The area =',area)\n",
    "print('The volume =',volume)"
   ]
  },
  {
   "cell_type": "code",
   "execution_count": 26,
   "id": "501db01d-4d75-4b2c-96ef-5bb216a8454d",
   "metadata": {
    "tags": []
   },
   "outputs": [
    {
     "name": "stdin",
     "output_type": "stream",
     "text": [
      "enter a =  7\n",
      "enter b =  0\n",
      "enter + or - or * or / =  /\n"
     ]
    },
    {
     "name": "stdout",
     "output_type": "stream",
     "text": [
      "you select /\n",
      "value of b can not be 0\n"
     ]
    }
   ],
   "source": [
    "# calcultor\n",
    "def add(a,b):\n",
    "    return a+b\n",
    "\n",
    "def sub(a,b):\n",
    "    return a-b\n",
    "\n",
    "def multiple(a,b):\n",
    "    return a*b\n",
    "\n",
    "def divide(a,b):\n",
    "    return a/b\n",
    "\n",
    "a=int(input('enter a = '))\n",
    "b=int(input('enter b = '))\n",
    "o = input('enter + or - or * or / = ')\n",
    "print('you select',o)\n",
    "if o=='+':\n",
    "    print(add(a,b))\n",
    "elif o=='-':\n",
    "    print(sub(a,b))\n",
    "elif o=='*':\n",
    "    print(multiple(a,b))   \n",
    "elif o=='/':\n",
    "    if b!=0:\n",
    "        print(divide(a,b))\n",
    "    else:\n",
    "        print('value of b can not be 0')\n",
    "# elif o=='/' and b==0:\n",
    "#     print('value of b can not be 0')\n",
    "else:\n",
    "    print('invalid operator')"
   ]
  },
  {
   "cell_type": "code",
   "execution_count": 32,
   "id": "51991f23-4f90-4bd8-a4af-61f63bd1abba",
   "metadata": {
    "tags": []
   },
   "outputs": [
    {
     "name": "stdout",
     "output_type": "stream",
     "text": [
      "C\n",
      "C++\n",
      "C#\n",
      "java\n",
      "python\n"
     ]
    }
   ],
   "source": [
    "def language(lan='python'):\n",
    "    print(lan)\n",
    "language('C')\n",
    "language('C++')\n",
    "language('C#')\n",
    "language('java')\n",
    "language()"
   ]
  },
  {
   "cell_type": "code",
   "execution_count": 12,
   "id": "ffa7588c-88cd-43d6-b1a5-bdfbab19bbad",
   "metadata": {},
   "outputs": [
    {
     "name": "stdin",
     "output_type": "stream",
     "text": [
      "enter item number = 2\n",
      "enter item name = aa\n",
      "enter item price = 3\n",
      "enter item quantity = 3\n",
      "enter item name = rr\n",
      "enter item price = 33\n",
      "enter item quantity = 3\n"
     ]
    },
    {
     "name": "stdout",
     "output_type": "stream",
     "text": [
      "\n",
      "aa 3 3 9\n",
      "rr 33 3 99\n",
      "\n",
      "Total price :  108\n"
     ]
    }
   ],
   "source": [
    "# write a program to calculate billing system using function\n",
    "def Billing(n):\n",
    "    bill=str()\n",
    "    total_price=int()\n",
    "    grand_total=int()\n",
    "    for i in range(n):\n",
    "        name=input('enter item name =')\n",
    "        price=int(input('enter item price ='))\n",
    "        qty=int(input('enter item quantity ='))\n",
    "        total_price=price*qty\n",
    "        grand_total+=total_price\n",
    "        bill = bill + f\"{name} {price} {qty} {total_price}\\n\"\n",
    "    print()\n",
    "    print(bill)\n",
    "    return grand_total\n",
    "item=int(input('enter item number ='))\n",
    "print(\"Total price : \",Billing(item))"
   ]
  },
  {
   "cell_type": "code",
   "execution_count": 8,
   "id": "c4be6500-7765-49a3-a283-a1c4b5cceb5e",
   "metadata": {
    "tags": []
   },
   "outputs": [
    {
     "name": "stdin",
     "output_type": "stream",
     "text": [
      "enter item number = 1\n",
      "enter item name = apple\n",
      "enter item price = 33\n",
      "enter item quantity = 33\n"
     ]
    },
    {
     "name": "stdout",
     "output_type": "stream",
     "text": [
      "apple 33 33 1089\n",
      "1089\n"
     ]
    }
   ],
   "source": [
    "# write a program to calculate billing system using function\n",
    "bill=''\n",
    "grand_total=int()\n",
    "def Billing():\n",
    "    global bill,grand_total\n",
    "    item=int(input('enter item number ='))\n",
    "    for i in range(item):\n",
    "        name=input('enter item name =')\n",
    "        price=int(input('enter item price ='))\n",
    "        qty=int(input('enter item quantity ='))\n",
    "        total_price=price*qty\n",
    "        grand_total+=total_price\n",
    "        bill = bill + f\"{name} {price} {qty} {total_price}\"\n",
    "    # print()\n",
    "    # print(bill)\n",
    "    return bill,grand_total\n",
    "b,t=Billing()\n",
    "print(b)\n",
    "print(\"Total price : \",b)"
   ]
  },
  {
   "cell_type": "code",
   "execution_count": 5,
   "id": "04c87d16-5bce-4c47-9dc9-69adeb81b3bf",
   "metadata": {
    "tags": []
   },
   "outputs": [
    {
     "data": {
      "text/plain": [
       "4"
      ]
     },
     "execution_count": 5,
     "metadata": {},
     "output_type": "execute_result"
    }
   ],
   "source": [
    "# lambada function-->>function without name\n",
    "# lambda<argument>:expression\n",
    "\n",
    "# lambda function\n",
    "x=lambda a:a**2\n",
    "x(2)"
   ]
  },
  {
   "cell_type": "code",
   "execution_count": 10,
   "id": "fca6eda8-e513-420b-bd1f-2fbf43425e44",
   "metadata": {},
   "outputs": [
    {
     "data": {
      "text/plain": [
       "'hello'"
      ]
     },
     "execution_count": 10,
     "metadata": {},
     "output_type": "execute_result"
    }
   ],
   "source": [
    "x=lambda a:a.lower()\n",
    "x('Hello')"
   ]
  },
  {
   "cell_type": "code",
   "execution_count": 11,
   "id": "3d0f1a54-4b0c-4fe4-ae19-d6ba50f1dda4",
   "metadata": {
    "tags": []
   },
   "outputs": [
    {
     "data": {
      "text/plain": [
       "12"
      ]
     },
     "execution_count": 11,
     "metadata": {},
     "output_type": "execute_result"
    }
   ],
   "source": [
    "area =lambda l,b:l*b\n",
    "area(3,4)"
   ]
  },
  {
   "cell_type": "code",
   "execution_count": 2,
   "id": "b51f1eec-422a-4038-b32c-315529f7ef40",
   "metadata": {
    "tags": []
   },
   "outputs": [
    {
     "data": {
      "text/plain": [
       "[2, 4, 6, 2]"
      ]
     },
     "execution_count": 2,
     "metadata": {},
     "output_type": "execute_result"
    }
   ],
   "source": [
    "# filtering\n",
    "# filter(<boolean_condition>,list)\n",
    "l=[2,3,4,5,6,89,2,1]\n",
    "even=list(filter(lambda a:a%2==0,l))\n",
    "even"
   ]
  },
  {
   "cell_type": "code",
   "execution_count": 5,
   "id": "28112011-4bad-4050-a1cb-b6346f63be44",
   "metadata": {
    "tags": []
   },
   "outputs": [
    {
     "data": {
      "text/plain": [
       "('Apple', 'Dog')"
      ]
     },
     "execution_count": 5,
     "metadata": {},
     "output_type": "execute_result"
    }
   ],
   "source": [
    "l=['Apple','ball','cat','Dog']\n",
    "small=tuple(filter(lambda a:a[0].isupper(),l))#a is argument\n",
    "small"
   ]
  },
  {
   "cell_type": "code",
   "execution_count": 7,
   "id": "9cd74b7c-ce8c-4540-8acd-81050c7651b9",
   "metadata": {
    "tags": []
   },
   "outputs": [
    {
     "name": "stdout",
     "output_type": "stream",
     "text": [
      "False\n",
      "True\n",
      "True\n"
     ]
    }
   ],
   "source": [
    "print('Apple'.isupper())\n",
    "print('APPLE'.isupper())\n",
    "print('Apple'[0].isupper())"
   ]
  },
  {
   "cell_type": "code",
   "execution_count": 17,
   "id": "9d95bccc-7176-4f6c-a7b0-159587c0e569",
   "metadata": {
    "tags": []
   },
   "outputs": [
    {
     "data": {
      "text/plain": [
       "(24, 68, 10, 10, 134, 16, 88)"
      ]
     },
     "execution_count": 17,
     "metadata": {},
     "output_type": "execute_result"
    }
   ],
   "source": [
    "# mapping():it follows a mathematical function which a \n",
    "# certain list or tuple as an argument here x*2 is mathematical function\n",
    "\n",
    "# for multiple inside of list value\n",
    "a=[12,34,5,5,67,8,44,]\n",
    "b=tuple(map(lambda x:x*2,a))\n",
    "b"
   ]
  },
  {
   "cell_type": "code",
   "execution_count": 27,
   "id": "599cfcc6-94a8-47ea-9ae1-1d6356a6fce7",
   "metadata": {
    "tags": []
   },
   "outputs": [
    {
     "data": {
      "text/plain": [
       "('apple', 'ball', 'cat', 'dog')"
      ]
     },
     "execution_count": 27,
     "metadata": {},
     "output_type": "execute_result"
    }
   ],
   "source": [
    "l=['Apple','BALL','cat','DOG']\n",
    "b=tuple(map(lambda a:a.lower(),l))\n",
    "b"
   ]
  },
  {
   "cell_type": "code",
   "execution_count": 34,
   "id": "878b28ea-0d46-4c1e-9c7b-7940b8d09c33",
   "metadata": {
    "tags": []
   },
   "outputs": [
    {
     "data": {
      "text/plain": [
       "('Apple', 'ball', 'cat', 'Dog')"
      ]
     },
     "execution_count": 34,
     "metadata": {},
     "output_type": "execute_result"
    }
   ],
   "source": [
    "l=['Apple ','ball ','cat ','Dog  ']\n",
    "#when you want to change in value of list or tuple or want \n",
    "# transformation of value and store in the list or tuple\n",
    "b=tuple(map(lambda a:a.replace(' ',''),l))\n",
    "b"
   ]
  },
  {
   "cell_type": "code",
   "execution_count": null,
   "id": "93260a3e-8ca6-4365-8506-a76dfc90dd76",
   "metadata": {
    "tags": []
   },
   "outputs": [],
   "source": [
    "# Rercursive function\n",
    "def hello():\n",
    "    print('hello world')\n",
    "    hello()\n",
    "hello()"
   ]
  },
  {
   "cell_type": "code",
   "execution_count": 2,
   "id": "b0f91d17-4093-41c9-aeb7-f85e6422b82f",
   "metadata": {
    "tags": []
   },
   "outputs": [
    {
     "name": "stdout",
     "output_type": "stream",
     "text": [
      "hello world\n"
     ]
    },
    {
     "name": "stdin",
     "output_type": "stream",
     "text": [
      "enter y for more print=  y\n"
     ]
    },
    {
     "name": "stdout",
     "output_type": "stream",
     "text": [
      "hello world\n"
     ]
    },
    {
     "name": "stdin",
     "output_type": "stream",
     "text": [
      "enter y for more print=  y\n"
     ]
    },
    {
     "name": "stdout",
     "output_type": "stream",
     "text": [
      "hello world\n"
     ]
    },
    {
     "name": "stdin",
     "output_type": "stream",
     "text": [
      "enter y for more print=  y\n"
     ]
    },
    {
     "name": "stdout",
     "output_type": "stream",
     "text": [
      "hello world\n"
     ]
    },
    {
     "name": "stdin",
     "output_type": "stream",
     "text": [
      "enter y for more print=  als\n"
     ]
    }
   ],
   "source": [
    "def hello():\n",
    "    print('hello world')\n",
    "    x=input('enter y for more print= ')\n",
    "    if x=='y':\n",
    "        hello()\n",
    "hello()"
   ]
  },
  {
   "cell_type": "code",
   "execution_count": 7,
   "id": "8d645c04-6a65-4d61-8fc0-226ae1d370ea",
   "metadata": {
    "tags": []
   },
   "outputs": [
    {
     "name": "stdout",
     "output_type": "stream",
     "text": [
      "Welcome to our website\n"
     ]
    },
    {
     "name": "stdin",
     "output_type": "stream",
     "text": [
      "enter username= admin\n",
      "enter password= admin\n"
     ]
    },
    {
     "name": "stdout",
     "output_type": "stream",
     "text": [
      "you are logedin in 0 attempt\n"
     ]
    }
   ],
   "source": [
    "username1='admin'\n",
    "password1='admin'\n",
    "c=1\n",
    "print('Welcome to our website')\n",
    "def login():\n",
    "    global c\n",
    "    username=input('enter username=')   \n",
    "    password=input('enter password=')\n",
    "    if (username==username1) and (password==password1):\n",
    "        print(f'you are logedin in {c} attempt')\n",
    "    else:\n",
    "        print('you fail to login')\n",
    "        c=c+1\n",
    "        login()\n",
    "login()"
   ]
  },
  {
   "cell_type": "code",
   "execution_count": null,
   "id": "99db2207-ad9e-49a9-8f4b-a35f32114fb7",
   "metadata": {},
   "outputs": [],
   "source": [
    "# math function"
   ]
  },
  {
   "cell_type": "code",
   "execution_count": null,
   "id": "0e245368-2254-4b51-806f-3eb85c1bfb2e",
   "metadata": {},
   "outputs": [],
   "source": []
  }
 ],
 "metadata": {
  "kernelspec": {
   "display_name": "Python 3 (ipykernel)",
   "language": "python",
   "name": "python3"
  },
  "language_info": {
   "codemirror_mode": {
    "name": "ipython",
    "version": 3
   },
   "file_extension": ".py",
   "mimetype": "text/x-python",
   "name": "python",
   "nbconvert_exporter": "python",
   "pygments_lexer": "ipython3",
   "version": "3.9.12"
  }
 },
 "nbformat": 4,
 "nbformat_minor": 5
}
