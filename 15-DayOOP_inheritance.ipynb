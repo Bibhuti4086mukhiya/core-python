{
 "cells": [
  {
   "cell_type": "code",
   "execution_count": null,
   "metadata": {},
   "outputs": [],
   "source": [
    "# class A:\n",
    "#     <operation>\n",
    "# class B(A):\n",
    "#     <operation>\n",
    "# obj=B()"
   ]
  },
  {
   "cell_type": "code",
   "execution_count": 4,
   "metadata": {},
   "outputs": [
    {
     "name": "stdout",
     "output_type": "stream",
     "text": [
      "Hello World I am ram.I am 44\n",
      "ram\n",
      "44\n"
     ]
    }
   ],
   "source": [
    "class A:\n",
    "    def __init__(self):\n",
    "        self.name='ram'\n",
    "        self.age=44\n",
    "\n",
    "class B(A):\n",
    "    def info(this):\n",
    "        print(f\"Hello World I am {this.name}.I am {this.age}\")\n",
    "\n",
    "obj=B()\n",
    "obj.info()\n",
    "# print(obj.name) #public acesses\n",
    "# print(obj.age)"
   ]
  },
  {
   "cell_type": "code",
   "execution_count": 5,
   "metadata": {},
   "outputs": [
    {
     "name": "stdout",
     "output_type": "stream",
     "text": [
      "Hello World I am ram.I am 44\n",
      "ram 44\n"
     ]
    }
   ],
   "source": [
    "class A:\n",
    "    def __init__(self):\n",
    "        self.name='ram'\n",
    "        self.age=44\n",
    "    def a(self):\n",
    "        print(self.name,self.age)\n",
    "\n",
    "class B(A):\n",
    "    def info(this):\n",
    "        print(f\"Hello World I am {this.name}.I am {this.age}\")\n",
    "\n",
    "obj=B()\n",
    "obj.info()\n",
    "obj.a()\n",
    "# print(obj.name) #public acesses\n",
    "# print(obj.age)"
   ]
  },
  {
   "cell_type": "code",
   "execution_count": 2,
   "metadata": {},
   "outputs": [
    {
     "name": "stdout",
     "output_type": "stream",
     "text": [
      "Hello World I am ran.I am 44\n"
     ]
    }
   ],
   "source": [
    "class A:\n",
    "    def __init__(self,name,age):\n",
    "        self.name=name\n",
    "        self.age=age\n",
    "    def a(self):\n",
    "        print(self.name,self.age)\n",
    "\n",
    "class B(A):\n",
    "    def info(this):\n",
    "        print(f\"Hello World I am {this.name}.I am {this.age}\")\n",
    "\n",
    "\n",
    "name=input('enter name')\n",
    "age=int(input('enter age'))\n",
    "# address=input('enter address')\n",
    "obj=B(name,age)\n",
    "obj.info()\n",
    "# obj.a()\n",
    "\n",
    "# print(obj.name) #public acesses\n",
    "# print(obj.age)"
   ]
  },
  {
   "cell_type": "code",
   "execution_count": 4,
   "metadata": {},
   "outputs": [
    {
     "name": "stdout",
     "output_type": "stream",
     "text": [
      "Hello World I am ttt.I am 99\n",
      "ttt 99\n"
     ]
    }
   ],
   "source": [
    "class A:\n",
    "    def __init__(self,age):\n",
    "        self.age=age\n",
    "    def a(self):\n",
    "        print(self.name,self.age)\n",
    "\n",
    "class B(A):\n",
    "    def __init__(self,name,age):\n",
    "        self.name=name\n",
    "        A.__init__(self,age)\n",
    "    def info(this):\n",
    "        print(f\"Hello World I am {this.name}.I am {this.age}\")\n",
    "\n",
    "\n",
    "name=input('enter name')\n",
    "age=int(input('enter age'))\n",
    "# address=input('enter address')\n",
    "obj=B(name,age)\n",
    "obj.info()\n",
    "obj.a()\n",
    "# print(obj.name) #public acesses\n",
    "# print(obj.age)"
   ]
  },
  {
   "cell_type": "code",
   "execution_count": null,
   "metadata": {},
   "outputs": [],
   "source": [
    "# type of inheritance\n",
    "# python multiple inheritance\n",
    "# python multi level\n"
   ]
  },
  {
   "cell_type": "code",
   "execution_count": null,
   "metadata": {},
   "outputs": [],
   "source": [
    "# multi level\n",
    "class A:\n",
    "    pass\n",
    "class B(A):\n",
    "    pass\n",
    "class C(B):\n",
    "    pass\n",
    "\n",
    "\n",
    "obj=C()"
   ]
  },
  {
   "cell_type": "code",
   "execution_count": 9,
   "metadata": {},
   "outputs": [
    {
     "name": "stdout",
     "output_type": "stream",
     "text": [
      "Hello World I am from ktm.I am 44\n",
      "ram 44\n"
     ]
    }
   ],
   "source": [
    "class A:\n",
    "    def __init__(self,address):\n",
    "        self.address=address\n",
    "    def a(self):\n",
    "        print(self.name,self.age)\n",
    "\n",
    "class B(A):\n",
    "    def __init__(self,age,address):\n",
    "        self.age=age \n",
    "        A.__init__(self,address)\n",
    "    def info(this):\n",
    "        print(f\"Hello World I am from {this.address}.I am {this.age}\")\n",
    "\n",
    "class C(B):\n",
    "    def __init__(self,name,age,address):\n",
    "        self.name=name\n",
    "        B.__init__(self,age,address)\n",
    "\n",
    "\n",
    "\n",
    "name=input('enter name')\n",
    "age=int(input('enter age'))\n",
    "address=input('enter address')\n",
    "obj=C(name,age,address)\n",
    "obj.info()\n",
    "obj.a()\n",
    "\n",
    "# print(obj.name) #public acesses\n",
    "# print(obj.age)"
   ]
  },
  {
   "cell_type": "code",
   "execution_count": 12,
   "metadata": {},
   "outputs": [
    {
     "name": "stdout",
     "output_type": "stream",
     "text": [
      "Hello World.I am 44\n",
      "hhh ram\n"
     ]
    }
   ],
   "source": [
    "# multiple inheritance\n",
    "\n",
    "class A:\n",
    "    def __init__(self,address):\n",
    "        self.address=address\n",
    "    def a(self):\n",
    "        print(self.address,self.name)\n",
    "\n",
    "class B:\n",
    "    def __init__(self,age):\n",
    "        self.age=age \n",
    "        \n",
    "    def info(this):\n",
    "        print(f\"Hello World.I am {this.age}\")\n",
    "\n",
    "class C(A,B):\n",
    "    def __init__(self,name,age,address):\n",
    "        self.name=name\n",
    "        B.__init__(self,age)\n",
    "        A.__init__(self,address)\n",
    "\n",
    "\n",
    "name=input('enter name')\n",
    "age=int(input('enter age'))\n",
    "address=input('enter address')\n",
    "obj=C(name,age,address)\n",
    "obj.info()\n",
    "obj.a()\n",
    "\n",
    "# print(obj.name) #public acesses\n",
    "# print(obj.age)"
   ]
  },
  {
   "cell_type": "code",
   "execution_count": 13,
   "metadata": {},
   "outputs": [
    {
     "name": "stdout",
     "output_type": "stream",
     "text": [
      "ram\n",
      "23\n",
      "kathmandu\n"
     ]
    }
   ],
   "source": [
    "# public members\n",
    "class Info:\n",
    "    def __init__(self,name,age,address):\n",
    "        self.name=name\n",
    "        self.age=age\n",
    "        self.address=address\n",
    "obj=Info('ram',23,'kathmandu')\n",
    "print(obj.name)\n",
    "print(obj.age)\n",
    "print(obj.address)"
   ]
  },
  {
   "cell_type": "code",
   "execution_count": 15,
   "metadata": {},
   "outputs": [
    {
     "name": "stdout",
     "output_type": "stream",
     "text": [
      "ram\n",
      "23\n",
      "kathmandu\n"
     ]
    }
   ],
   "source": [
    "# protected members\n",
    "class Info:\n",
    "    def __init__(self,name,age,address):\n",
    "        self._name=name\n",
    "        self._age=age\n",
    "        self._address=address\n",
    "obj=Info('ram',23,'kathmandu')\n",
    "print(obj._name)\n",
    "print(obj._age)\n",
    "print(obj._address)"
   ]
  },
  {
   "cell_type": "code",
   "execution_count": 17,
   "metadata": {},
   "outputs": [
    {
     "ename": "AttributeError",
     "evalue": "'Info' object has no attribute '__name'",
     "output_type": "error",
     "traceback": [
      "\u001b[1;31m---------------------------------------------------------------------------\u001b[0m",
      "\u001b[1;31mAttributeError\u001b[0m                            Traceback (most recent call last)",
      "Cell \u001b[1;32mIn[17], line 8\u001b[0m\n\u001b[0;32m      6\u001b[0m         \u001b[39mself\u001b[39m\u001b[39m.\u001b[39m__address\u001b[39m=\u001b[39maddress\n\u001b[0;32m      7\u001b[0m obj\u001b[39m=\u001b[39mInfo(\u001b[39m'\u001b[39m\u001b[39mram\u001b[39m\u001b[39m'\u001b[39m,\u001b[39m23\u001b[39m,\u001b[39m'\u001b[39m\u001b[39mkathmandu\u001b[39m\u001b[39m'\u001b[39m)\n\u001b[1;32m----> 8\u001b[0m \u001b[39mprint\u001b[39m(obj\u001b[39m.\u001b[39;49m__name)\n\u001b[0;32m      9\u001b[0m \u001b[39mprint\u001b[39m(obj\u001b[39m.\u001b[39m__age)\n\u001b[0;32m     10\u001b[0m \u001b[39mprint\u001b[39m(obj\u001b[39m.\u001b[39m__address)\n",
      "\u001b[1;31mAttributeError\u001b[0m: 'Info' object has no attribute '__name'"
     ]
    }
   ],
   "source": [
    "# privited members\n",
    "class Info:\n",
    "    def __init__(self,name,age,address):\n",
    "        self.__name=name\n",
    "        self.__age=age\n",
    "        self.__address=address\n",
    "obj=Info('ram',23,'kathmandu')\n",
    "print(obj.__name)\n",
    "print(obj.__age)\n",
    "print(obj.__address)"
   ]
  },
  {
   "cell_type": "code",
   "execution_count": 18,
   "metadata": {},
   "outputs": [
    {
     "name": "stdout",
     "output_type": "stream",
     "text": [
      "ram\n",
      "23\n",
      "kathmandu\n"
     ]
    }
   ],
   "source": [
    "# namebgling members\n",
    "class Info:\n",
    "    def __init__(self,name,age,address):\n",
    "        self.__name=name\n",
    "        self.__age=age\n",
    "        self.__address=address\n",
    "obj=Info('ram',23,'kathmandu')\n",
    "print(obj._Info__name)\n",
    "print(obj._Info__age)\n",
    "print(obj._Info__address)"
   ]
  },
  {
   "cell_type": "code",
   "execution_count": null,
   "metadata": {},
   "outputs": [],
   "source": [
    "# name membgling (chor idea =_Info__)\n",
    "# return type\n",
    "# super function"
   ]
  },
  {
   "cell_type": "code",
   "execution_count": 22,
   "metadata": {},
   "outputs": [
    {
     "name": "stdout",
     "output_type": "stream",
     "text": [
      "Hello World I am ram.I am 99\n",
      "99\n",
      "99\n"
     ]
    },
    {
     "data": {
      "text/plain": [
       "99"
      ]
     },
     "execution_count": 22,
     "metadata": {},
     "output_type": "execute_result"
    }
   ],
   "source": [
    "# super function\n",
    "class A:\n",
    "    def __init__(self,age):\n",
    "        self.age=age\n",
    "    def a(self):\n",
    "        return self.age\n",
    "\n",
    "class B(A):\n",
    "    def __init__(self,name,age):\n",
    "        self.name=name\n",
    "        A.__init__(self,age)\n",
    "    def info(this):\n",
    "        print(f\"Hello World I am {this.name}.I am {super().a()}\")\n",
    "        print(super().a())\n",
    "        print(A.a(this))\n",
    "\n",
    "name=input('enter name')\n",
    "age=int(input('enter age'))\n",
    "# address=input('enter address')\n",
    "obj=B(name,age)\n",
    "obj.info()\n",
    "obj.a()\n",
    "# print(obj.name) #public acesses\n",
    "# print(obj.age)"
   ]
  }
 ],
 "metadata": {
  "kernelspec": {
   "display_name": "Python 3",
   "language": "python",
   "name": "python3"
  },
  "language_info": {
   "codemirror_mode": {
    "name": "ipython",
    "version": 3
   },
   "file_extension": ".py",
   "mimetype": "text/x-python",
   "name": "python",
   "nbconvert_exporter": "python",
   "pygments_lexer": "ipython3",
   "version": "3.10.4"
  },
  "orig_nbformat": 4,
  "vscode": {
   "interpreter": {
    "hash": "369f2c481f4da34e4445cda3fffd2e751bd1c4d706f27375911949ba6bb62e1c"
   }
  }
 },
 "nbformat": 4,
 "nbformat_minor": 2
}
