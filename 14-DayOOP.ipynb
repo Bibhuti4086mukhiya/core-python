{
 "cells": [
  {
   "cell_type": "code",
   "execution_count": null,
   "metadata": {},
   "outputs": [],
   "source": [
    "# function is verb of grammer\n",
    "# function mean behevari\n",
    "# class=department/repecition(  )\n",
    "# methods=function list of work\n",
    "# object=inital work(room ko key)\n",
    "# class is inital "
   ]
  },
  {
   "cell_type": "code",
   "execution_count": null,
   "metadata": {},
   "outputs": [],
   "source": [
    "# obj=Python() initial cla"
   ]
  },
  {
   "cell_type": "code",
   "execution_count": null,
   "metadata": {},
   "outputs": [],
   "source": [
    "# class <class_name>:\n",
    "#     <methods or operations>\n",
    "\n",
    "# obj=<class_name>"
   ]
  },
  {
   "cell_type": "code",
   "execution_count": 7,
   "metadata": {},
   "outputs": [
    {
     "name": "stdout",
     "output_type": "stream",
     "text": [
      "Hello world\n"
     ]
    }
   ],
   "source": [
    "class Hello:#class\n",
    "    print('Hello world')\n",
    "\n",
    "obj=Hello()#object"
   ]
  },
  {
   "cell_type": "code",
   "execution_count": 8,
   "metadata": {},
   "outputs": [
    {
     "data": {
      "text/plain": [
       "<__main__.Hello at 0x222003f24a0>"
      ]
     },
     "execution_count": 8,
     "metadata": {},
     "output_type": "execute_result"
    }
   ],
   "source": [
    "obj"
   ]
  },
  {
   "cell_type": "code",
   "execution_count": 10,
   "metadata": {},
   "outputs": [
    {
     "ename": "TypeError",
     "evalue": "Hello.hello() takes 0 positional arguments but 1 was given",
     "output_type": "error",
     "traceback": [
      "\u001b[1;31m---------------------------------------------------------------------------\u001b[0m",
      "\u001b[1;31mTypeError\u001b[0m                                 Traceback (most recent call last)",
      "Cell \u001b[1;32mIn[10], line 6\u001b[0m\n\u001b[0;32m      3\u001b[0m         \u001b[39mprint\u001b[39m(\u001b[39m'\u001b[39m\u001b[39mHello world\u001b[39m\u001b[39m'\u001b[39m)\n\u001b[0;32m      5\u001b[0m obj\u001b[39m=\u001b[39mHello()\u001b[39m#object\u001b[39;00m\n\u001b[1;32m----> 6\u001b[0m obj\u001b[39m.\u001b[39;49mhello()\n",
      "\u001b[1;31mTypeError\u001b[0m: Hello.hello() takes 0 positional arguments but 1 was given"
     ]
    }
   ],
   "source": [
    "class Hello:                            #class\n",
    "    def hello():                        #methods/function\n",
    "        print('Hello world')\n",
    "\n",
    "obj=Hello()                             #object\n",
    "obj.hello()                             #callling method"
   ]
  },
  {
   "cell_type": "code",
   "execution_count": 11,
   "metadata": {},
   "outputs": [
    {
     "name": "stdout",
     "output_type": "stream",
     "text": [
      "Hello world\n"
     ]
    }
   ],
   "source": [
    "class Hello:                            #class\n",
    "    @staticmethod                       #there is no requird more attribute or data type in future/ no cahnge in future.and those function have all need value\n",
    "    \n",
    "    def hello():                        #methods/function\n",
    "        print('Hello world')\n",
    "\n",
    "obj=Hello()                             #object\n",
    "obj.hello()                             #callling method"
   ]
  },
  {
   "cell_type": "code",
   "execution_count": 13,
   "metadata": {},
   "outputs": [
    {
     "name": "stdout",
     "output_type": "stream",
     "text": [
      "Hello world\n"
     ]
    }
   ],
   "source": [
    "class Hello:                            #class\n",
    "    # if there need to add new attribute in future so use self\n",
    "    def hello(self):                    #methods/function\n",
    "        x='Hello world'                        \n",
    "        print(x)\n",
    "obj=Hello()                             #object \n",
    "#obj is initial the Hello() class\n",
    "obj.hello()                             #callling method"
   ]
  },
  {
   "cell_type": "code",
   "execution_count": null,
   "metadata": {},
   "outputs": [],
   "source": [
    "# @staticmethod = do not use class attribute \n",
    "# self=use class attribute"
   ]
  },
  {
   "cell_type": "code",
   "execution_count": 17,
   "metadata": {},
   "outputs": [
    {
     "name": "stdout",
     "output_type": "stream",
     "text": [
      "Hello world\n",
      "Hello world\n"
     ]
    }
   ],
   "source": [
    "class Hello:                            #class\n",
    "    # if there need to add new attribute in future so use self\n",
    "    def __init__(self,x):# init function initial function and it is pre-define function\n",
    "        self.x_value=x          #re-initial value of x in x_value and self is object\n",
    "    def hello(self):                    #methods/function                     \n",
    "        print(self.x_value)\n",
    "    def hello1(self):\n",
    "        print(self.x_value)\n",
    "obj=Hello('Hello world')                             #object \n",
    "#obj is initial the Hello() class\n",
    "obj.hello()                             #callling method\n",
    "obj.hello1() "
   ]
  },
  {
   "cell_type": "code",
   "execution_count": 18,
   "metadata": {},
   "outputs": [
    {
     "name": "stdout",
     "output_type": "stream",
     "text": [
      "12\n",
      "60\n"
     ]
    }
   ],
   "source": [
    "class Cal:\n",
    "    def __init__(self,l,b,h) :\n",
    "        self.l=l       \n",
    "        self.b=b\n",
    "        self.h=h\n",
    "    def area(self):\n",
    "        a=self.l*self.b\n",
    "        print(a)\n",
    "    def volume(self):\n",
    "        v=self.l*self.b*self.h\n",
    "        print(v)\n",
    "\n",
    "\n",
    "l=int(input('enter l'))\n",
    "b=int(input('enter b'))\n",
    "h=int(input('enter h'))\n",
    "\n",
    "obj=Cal(l,b,h)\n",
    "obj.area()\n",
    "obj.volume()"
   ]
  },
  {
   "cell_type": "code",
   "execution_count": 20,
   "metadata": {},
   "outputs": [
    {
     "name": "stdout",
     "output_type": "stream",
     "text": [
      "16\n",
      "64\n"
     ]
    }
   ],
   "source": [
    "class Cal:\n",
    "    def __init__(self) :\n",
    "        self.l=int(input('enter l'))\n",
    "        self.b=int(input('enter b'))\n",
    "        self.h=int(input('enter h'))\n",
    "    def area(self):\n",
    "        a=self.l*self.b\n",
    "        print(a)\n",
    "    def volume(self):\n",
    "        v=self.l*self.b*self.h\n",
    "        print(v)\n",
    "\n",
    "obj=Cal()\n",
    "obj.area()\n",
    "obj.volume()"
   ]
  },
  {
   "cell_type": "code",
   "execution_count": null,
   "metadata": {},
   "outputs": [],
   "source": [
    "# ___str__(self)\n",
    "a=[1,2,3,4,5]\n",
    "a.append(7)\n",
    "print(a)"
   ]
  },
  {
   "cell_type": "code",
   "execution_count": null,
   "metadata": {},
   "outputs": [],
   "source": [
    "class Cal:\n",
    "    def __init__(self,l,b) :\n",
    "        self.l=l       \n",
    "        self.b=b\n",
    "    def area(self):\n",
    "        a=self.l*self.b\n",
    "        print(a)\n",
    "    def volume(self,h):\n",
    "        v=self.l*self.b*h\n",
    "        print(v)\n",
    "\n",
    "l=int(input('enter l'))\n",
    "b=int(input('enter b'))\n",
    "h=int(input('enter h'))\n",
    "\n",
    "obj=Cal(l,b)\n",
    "obj.area()\n",
    "obj.volume(h)"
   ]
  },
  {
   "cell_type": "code",
   "execution_count": 9,
   "metadata": {},
   "outputs": [
    {
     "name": "stdout",
     "output_type": "stream",
     "text": [
      "Hello my name is ram.I am form kathmandu.I am 33.\n",
      "<class '__main__.Info'>\n",
      "ram\n",
      "ram\n"
     ]
    }
   ],
   "source": [
    "class Info:\n",
    "    def __init__(self,name,age,address) :\n",
    "        self.name=name       \n",
    "        self.age=age\n",
    "        self.address=address\n",
    "    #object return \n",
    "    def __str__(self):#this is object which is return as string\n",
    "        return self.name \n",
    "    #value return\n",
    "    def info(self):#\n",
    "        my_info=f\"Hello my name is {self.name}.I am form {self.address}.I am {self.age}.\"\n",
    "        return my_info\n",
    "    \n",
    "name=input('enter name')\n",
    "age=int(input('enter age'))\n",
    "address=input('enter address')\n",
    "\n",
    "obj=Info(name,age,address)\n",
    "print(obj.info())\n",
    "print(type(obj))\n",
    "print(obj)\n",
    "print(obj.__str__())"
   ]
  },
  {
   "cell_type": "code",
   "execution_count": 3,
   "metadata": {},
   "outputs": [
    {
     "ename": "TypeError",
     "evalue": "unsupported operand type(s) for +: 'Info' and 'str'",
     "output_type": "error",
     "traceback": [
      "\u001b[1;31m---------------------------------------------------------------------------\u001b[0m",
      "\u001b[1;31mTypeError\u001b[0m                                 Traceback (most recent call last)",
      "Cell \u001b[1;32mIn[3], line 1\u001b[0m\n\u001b[1;32m----> 1\u001b[0m obj\u001b[39m+\u001b[39;49mobj\u001b[39m.\u001b[39;49minfo()\n",
      "\u001b[1;31mTypeError\u001b[0m: unsupported operand type(s) for +: 'Info' and 'str'"
     ]
    }
   ],
   "source": [
    "obj+obj.info()"
   ]
  },
  {
   "cell_type": "code",
   "execution_count": 8,
   "metadata": {},
   "outputs": [
    {
     "data": {
      "text/plain": [
       "'ram Hello my name is ram.I am formkathmandu.I am 33.'"
      ]
     },
     "execution_count": 8,
     "metadata": {},
     "output_type": "execute_result"
    }
   ],
   "source": [
    "str(obj )+\" \" +obj.info()"
   ]
  },
  {
   "cell_type": "code",
   "execution_count": null,
   "metadata": {},
   "outputs": [],
   "source": []
  }
 ],
 "metadata": {
  "kernelspec": {
   "display_name": "Python 3",
   "language": "python",
   "name": "python3"
  },
  "language_info": {
   "codemirror_mode": {
    "name": "ipython",
    "version": 3
   },
   "file_extension": ".py",
   "mimetype": "text/x-python",
   "name": "python",
   "nbconvert_exporter": "python",
   "pygments_lexer": "ipython3",
   "version": "3.10.4"
  },
  "orig_nbformat": 4,
  "vscode": {
   "interpreter": {
    "hash": "369f2c481f4da34e4445cda3fffd2e751bd1c4d706f27375911949ba6bb62e1c"
   }
  }
 },
 "nbformat": 4,
 "nbformat_minor": 2
}
