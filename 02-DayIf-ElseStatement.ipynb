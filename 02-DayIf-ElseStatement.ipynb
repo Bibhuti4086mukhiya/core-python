{
 "cells": [
  {
   "cell_type": "code",
   "execution_count": null,
   "id": "47d08654-067c-4b10-b53a-6dfcb1d9b5f9",
   "metadata": {},
   "outputs": [],
   "source": [
    "# if-else statement\n",
    "# if <condition>:\n",
    "#     <operation>\n",
    "# elif <condition>:\n",
    "#     <condition>\n",
    "# ...\n",
    "# ...\n",
    "# else:\n",
    "#     <operation>"
   ]
  },
  {
   "cell_type": "code",
   "execution_count": null,
   "id": "67c4a9f0-530f-4b9f-b209-5d2dcaca4979",
   "metadata": {},
   "outputs": [],
   "source": [
    "if True:\n",
    "    <condition>\n",
    "# this line is scope"
   ]
  },
  {
   "cell_type": "code",
   "execution_count": 2,
   "id": "5f15faee-cdae-4026-8106-67590b083b30",
   "metadata": {},
   "outputs": [
    {
     "name": "stdout",
     "output_type": "stream",
     "text": [
      "enter number -6\n"
     ]
    },
    {
     "name": "stdout",
     "output_type": "stream",
     "text": [
      "number is negative\n"
     ]
    }
   ],
   "source": [
    "n=int(input('enter number'))\n",
    "if n>0:\n",
    "    print('number is positve')\n",
    "else:\n",
    "    print('number is negative')"
   ]
  },
  {
   "cell_type": "code",
   "execution_count": null,
   "id": "09e4879c-526b-41fd-a42d-be81aff9168c",
   "metadata": {},
   "outputs": [],
   "source": [
    "# < > >= <= == !="
   ]
  },
  {
   "cell_type": "code",
   "execution_count": 4,
   "id": "59aac94f-6aab-440e-8ce1-cc520b719a0c",
   "metadata": {},
   "outputs": [
    {
     "name": "stdout",
     "output_type": "stream",
     "text": [
      "True\n",
      "False\n"
     ]
    }
   ],
   "source": [
    "n=10\n",
    "print(n>0)\n",
    "print(n<0)"
   ]
  },
  {
   "cell_type": "code",
   "execution_count": 8,
   "id": "48070d53-1375-473c-bb90-e62adfc0c9be",
   "metadata": {},
   "outputs": [
    {
     "name": "stdout",
     "output_type": "stream",
     "text": [
      "enter number =  13\n"
     ]
    },
    {
     "name": "stdout",
     "output_type": "stream",
     "text": [
      "13  is odd\n"
     ]
    }
   ],
   "source": [
    "n=int(input('enter number = '))\n",
    "if n%2==0:\n",
    "    print(n,' is even')\n",
    "else:\n",
    "    print(n,' is odd')"
   ]
  },
  {
   "cell_type": "code",
   "execution_count": 12,
   "id": "5cf52187-c17b-447c-974e-5b70664d017a",
   "metadata": {},
   "outputs": [
    {
     "name": "stdout",
     "output_type": "stream",
     "text": [
      "enter a =  1\n",
      "enter b =  1\n"
     ]
    },
    {
     "name": "stdout",
     "output_type": "stream",
     "text": [
      "1 1 both are equal\n"
     ]
    }
   ],
   "source": [
    "a=int(input('enter a = '))\n",
    "b=int(input('enter b = '))\n",
    "if a>b:\n",
    "    print(a,'is greater')\n",
    "elif b>a:\n",
    "    print(b,'is greater')\n",
    "else:\n",
    "    print(a,b,'both are equal')"
   ]
  },
  {
   "cell_type": "code",
   "execution_count": 9,
   "id": "a56eb117-0b1d-4daf-8a77-3e621e713f95",
   "metadata": {},
   "outputs": [
    {
     "name": "stdout",
     "output_type": "stream",
     "text": [
      "enter a =  1\n",
      "enter b =  0\n",
      "enter + or - or * or / =  /\n"
     ]
    },
    {
     "name": "stdout",
     "output_type": "stream",
     "text": [
      "you select /\n",
      "value of b can not be 0\n"
     ]
    }
   ],
   "source": [
    "a=int(input('enter a = '))\n",
    "b=int(input('enter b = '))\n",
    "o = input('enter + or - or * or / = ')\n",
    "print('you select',o)\n",
    "if o=='+':\n",
    "    print(a+b)\n",
    "elif o=='-':\n",
    "    print(a-b)\n",
    "elif o=='*':\n",
    "    print(a*b)   \n",
    "elif o=='/':\n",
    "    if b!=0:\n",
    "        print(a/b)\n",
    "    else:\n",
    "        print('value of b can not be 0')\n",
    "# elif o=='/' and b==0:\n",
    "#     print('value of b can not be 0')\n",
    "else:\n",
    "    print('invalid operator')"
   ]
  },
  {
   "cell_type": "code",
   "execution_count": 17,
   "id": "46a1737f-578d-4a33-8cf3-be50f4196ca4",
   "metadata": {},
   "outputs": [
    {
     "name": "stdout",
     "output_type": "stream",
     "text": [
      "enter physic mark : 100\n",
      "enter chemistry mark : 100\n",
      "enter nepali mark : 100\n",
      "enter english mark : 100\n",
      "enter mathematics mark : 100\n"
     ]
    },
    {
     "name": "stdout",
     "output_type": "stream",
     "text": [
      "grade is : A\n"
     ]
    }
   ],
   "source": [
    "physics=int(input('enter physic mark :'))\n",
    "chemistry=int(input('enter chemistry mark :'))\n",
    "nepali=int(input('enter nepali mark :'))\n",
    "english=int(input('enter english mark :'))\n",
    "math=int(input('enter mathematics mark :'))\n",
    "totalMark=physics+chemistry+nepali+english+math\n",
    "per=totalMark/5\n",
    "if per>=80:\n",
    "    grade='A'\n",
    "elif per>=60:\n",
    "    grade='B'\n",
    "elif per>=50:\n",
    "    grade='C' \n",
    "else:\n",
    "    grade='f' \n",
    "print(\"grade is :\",grade)"
   ]
  },
  {
   "cell_type": "code",
   "execution_count": null,
   "id": "824d5218-8aa4-4d65-8ff8-d62280efbadd",
   "metadata": {},
   "outputs": [],
   "source": [
    "# logical operator\n",
    "# and &\n",
    "# or /\n"
   ]
  },
  {
   "cell_type": "code",
   "execution_count": 19,
   "id": "39aecef5-02fc-48fb-987c-7f97f274c3ad",
   "metadata": {},
   "outputs": [
    {
     "name": "stdout",
     "output_type": "stream",
     "text": [
      "False\n",
      "True\n"
     ]
    }
   ],
   "source": [
    "# and &\n",
    "# both condition should True to run  \n",
    "# print(True and False)\n",
    "# print(True and True)"
   ]
  },
  {
   "cell_type": "code",
   "execution_count": 22,
   "id": "a857be40-5f2b-4c17-b751-7d03334dbfed",
   "metadata": {},
   "outputs": [
    {
     "name": "stdout",
     "output_type": "stream",
     "text": [
      "True\n",
      "True\n"
     ]
    }
   ],
   "source": [
    "# or / \n",
    "# at least one should be True \n",
    "print(True or False)\n",
    "print(True or True) "
   ]
  },
  {
   "cell_type": "code",
   "execution_count": null,
   "id": "5bab6e80-51a8-4b13-a007-3d2ff9aa95af",
   "metadata": {},
   "outputs": [],
   "source": [
    "number=int(input('enter number :')) \n",
    "if n%2==0 or n>0:\n",
    "    print(\"the number is either even or positive:\")\n",
    "else:\n",
    "    print(\"the number is either odd or negative\")"
   ]
  },
  {
   "cell_type": "code",
   "execution_count": 5,
   "id": "205a2271-95ff-41bd-8e69-6f23514888ab",
   "metadata": {},
   "outputs": [
    {
     "name": "stdout",
     "output_type": "stream",
     "text": [
      "enter physic mark : 100\n",
      "enter chemistry mark : 100\n",
      "enter nepali mark : 100\n",
      "enter english mark : 100\n",
      "enter mathematics mark : 100\n"
     ]
    },
    {
     "name": "stdout",
     "output_type": "stream",
     "text": [
      "grade is : A\n"
     ]
    }
   ],
   "source": [
    "physics=int(input('enter physic mark :'))\n",
    "chemistry=int(input('enter chemistry mark :'))\n",
    "nepali=int(input('enter nepali mark :'))\n",
    "english=int(input('enter english mark :'))\n",
    "math=int(input('enter mathematics mark :'))\n",
    "totalMark=physics+chemistry+nepali+english+math\n",
    "per=totalMark/5\n",
    "if (per>80) | (per==80):\n",
    "    grade='A'\n",
    "elif per>60 or per==60:\n",
    "    grade='B'\n",
    "elif per>50 or per==50:\n",
    "    grade='C' \n",
    "else:\n",
    "    grade='f' \n",
    "print(\"grade is :\",grade)"
   ]
  },
  {
   "cell_type": "code",
   "execution_count": null,
   "id": "33d49704-3097-4a72-82d1-ec65aa4e6ffe",
   "metadata": {},
   "outputs": [],
   "source": [
    "# nested-if statement\n",
    "# if <condition>:\n",
    "#     if <condition>:\n",
    "#         <operation>\n",
    "#     else:\n",
    "#         <operation>\n",
    "# else:\n",
    "#     <operation>"
   ]
  },
  {
   "cell_type": "code",
   "execution_count": 8,
   "id": "a644bdb4-7b1a-4037-accd-1eeadcf16196",
   "metadata": {},
   "outputs": [
    {
     "name": "stdout",
     "output_type": "stream",
     "text": [
      "enter number : -10\n"
     ]
    },
    {
     "name": "stdout",
     "output_type": "stream",
     "text": [
      "-10 is -ve and even\n"
     ]
    }
   ],
   "source": [
    "n=int(input('enter number :')) \n",
    "if n>=0:\n",
    "    if n%2==0:\n",
    "        print(n,\"is +ve and even\")\n",
    "    else:\n",
    "        print(n,\"is +ve and odd\")\n",
    "else:\n",
    "    if n%2!=0:\n",
    "        print(n,\"is -ve and odd\")\n",
    "    else:\n",
    "        print(n,\"is -ve and even\")\n",
    "   "
   ]
  },
  {
   "cell_type": "code",
   "execution_count": null,
   "id": "8fbbbe90-728b-483d-805b-3208273e30b5",
   "metadata": {},
   "outputs": [],
   "source": []
  }
 ],
 "metadata": {
  "kernelspec": {
   "display_name": "Python 3",
   "language": "python",
   "name": "python3"
  },
  "language_info": {
   "codemirror_mode": {
    "name": "ipython",
    "version": 3
   },
   "file_extension": ".py",
   "mimetype": "text/x-python",
   "name": "python",
   "nbconvert_exporter": "python",
   "pygments_lexer": "ipython3",
   "version": "3.10.4"
  },
  "vscode": {
   "interpreter": {
    "hash": "369f2c481f4da34e4445cda3fffd2e751bd1c4d706f27375911949ba6bb62e1c"
   }
  }
 },
 "nbformat": 4,
 "nbformat_minor": 5
}
