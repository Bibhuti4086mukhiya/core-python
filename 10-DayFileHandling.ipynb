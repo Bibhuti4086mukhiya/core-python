{
 "cells": [
  {
   "cell_type": "code",
   "execution_count": 6,
   "id": "114b5665-1a1a-4c9a-8ae3-3ab3db6158bb",
   "metadata": {},
   "outputs": [],
   "source": [
    "# file =open('<file_name>','<mode>')\n",
    "# file.open()\n",
    "# with open('<file_name>','<mode>') as file:\n",
    "#     <operation>"
   ]
  },
  {
   "cell_type": "code",
   "execution_count": 1,
   "id": "71c9873a-99b7-46e2-bb10-825f8a6b0339",
   "metadata": {
    "tags": []
   },
   "outputs": [],
   "source": [
    "# mode\n",
    "# read->'r'#read only \n",
    "# write->'w'#create and write once time \n",
    "# create->'x'#create only \n",
    "# append->'a'#create,write and append "
   ]
  },
  {
   "cell_type": "code",
   "execution_count": null,
   "id": "c91ebe5c-3f44-4ea6-ada3-f7b4280244b2",
   "metadata": {
    "tags": []
   },
   "outputs": [
    {
     "name": "stdout",
     "output_type": "stream",
     "text": [
      "The file is already exits!\n"
     ]
    }
   ],
   "source": [
    "try:\n",
    "    file=open('filehandlingfolder/file.txt','x')\n",
    "    file.close()\n",
    "except:\n",
    "    print('The file is already exits!')"
   ]
  },
  {
   "cell_type": "code",
   "execution_count": null,
   "id": "44812ba9-d428-4121-91fc-b22295ca1d6c",
   "metadata": {
    "tags": []
   },
   "outputs": [],
   "source": [
    "# for i in range(1,10):\n",
    "#     print(i,'Hello World ')\n"
   ]
  },
  {
   "cell_type": "code",
   "execution_count": null,
   "id": "22afcf89-699d-49ef-bc6a-a777fda36800",
   "metadata": {
    "tags": []
   },
   "outputs": [
    {
     "name": "stdout",
     "output_type": "stream",
     "text": [
      "1 Hello World \n",
      "2 Hello World \n",
      "3 Hello World \n",
      "4 Hello World \n",
      "5 Hello World \n",
      "\n"
     ]
    }
   ],
   "source": [
    "file=open('filehandlingfolder/file.txt','r')\n",
    "x=file.read()\n",
    "print(x)\n",
    "file.close()"
   ]
  },
  {
   "cell_type": "code",
   "execution_count": null,
   "id": "92bc8045-ca4d-41fb-88cc-d2a3dcc7cfd1",
   "metadata": {
    "tags": []
   },
   "outputs": [
    {
     "data": {
      "text/plain": [
       "str"
      ]
     },
     "execution_count": 6,
     "metadata": {},
     "output_type": "execute_result"
    }
   ],
   "source": [
    "type(x)"
   ]
  },
  {
   "cell_type": "code",
   "execution_count": null,
   "id": "ec1f6a99-8ca7-48cb-9f69-83585603e19c",
   "metadata": {
    "tags": []
   },
   "outputs": [
    {
     "data": {
      "text/plain": [
       "['1 Hello World ',\n",
       " '2 Hello World ',\n",
       " '3 Hello World ',\n",
       " '4 Hello World ',\n",
       " '5 Hello World ']"
      ]
     },
     "execution_count": 3,
     "metadata": {},
     "output_type": "execute_result"
    }
   ],
   "source": [
    "# read--->split---> store in list ---> for read line by line\n",
    "data=x.split('\\n')[:-1]#remove last element\n",
    "data"
   ]
  },
  {
   "cell_type": "code",
   "execution_count": null,
   "id": "86c3bee3-21d1-4d8b-a9af-f35504ca1f14",
   "metadata": {
    "tags": []
   },
   "outputs": [
    {
     "name": "stdout",
     "output_type": "stream",
     "text": [
      "enter line no = 4\n"
     ]
    },
    {
     "data": {
      "text/plain": [
       "'4 Hello World '"
      ]
     },
     "execution_count": 8,
     "metadata": {},
     "output_type": "execute_result"
    }
   ],
   "source": [
    "n=int(input('enter line no ='))\n",
    "data[n-1]"
   ]
  },
  {
   "cell_type": "code",
   "execution_count": null,
   "id": "28ccc7f1-9aac-43ad-b8d1-030be6a614c4",
   "metadata": {
    "tags": []
   },
   "outputs": [],
   "source": [
    "# mode-w\n",
    "# if there is no hello.txt then first it create hello.txt file then write in the file\n",
    "# if there is file then it over write in the file \n",
    "file=open('filehandlingfolder/hello.txt','w')\n",
    "x=file.write('Hello World')\n",
    "file.close()"
   ]
  },
  {
   "cell_type": "code",
   "execution_count": null,
   "id": "098fa041-76f5-4313-b24f-c623fa8fb498",
   "metadata": {
    "tags": []
   },
   "outputs": [
    {
     "name": "stdout",
     "output_type": "stream",
     "text": [
      "apple  33 33 1089\n",
      "ball 33 22 1815\n",
      "\n"
     ]
    }
   ],
   "source": [
    "bill = str()\n",
    "grand_total = 0\n",
    "n = int(input(\"Enter of item = \"))\n",
    "for i in range(n):\n",
    "    product = input(\"Enter name = \")\n",
    "    price = int(input(\"Enter price = \"))\n",
    "    quantity = int(input(\"Enter quantity = \"))\n",
    "    total = price*quantity\n",
    "    grand_total = grand_total +total\n",
    "#     bill = bill + product+\" \" +str(price)+str(quantity) +str(total)+\"\\n\"\n",
    "    bill = bill + f\"{product} {price} {quantity} {grand_total}\\n\"\n",
    "print(bill)\n",
    "file=open('filehandlingfolder/bill.txt','w')\n",
    "file.write(bill)\n",
    "file.close()"
   ]
  },
  {
   "cell_type": "code",
   "execution_count": null,
   "id": "48804a75-1a33-4ea4-bd2c-fd027e89d213",
   "metadata": {
    "tags": []
   },
   "outputs": [
    {
     "name": "stdout",
     "output_type": "stream",
     "text": [
      "apple  33 33 1089\n",
      "ball 33 22 1815\n",
      "\n"
     ]
    }
   ],
   "source": [
    "file=open('filehandlingfolder/bill.txt','r')\n",
    "x=file.read()\n",
    "print(x)\n",
    "file.close()"
   ]
  },
  {
   "cell_type": "code",
   "execution_count": null,
   "id": "309de231-6f3a-4652-ba20-c6135785673a",
   "metadata": {
    "tags": []
   },
   "outputs": [
    {
     "data": {
      "text/plain": [
       "[['apple', '33', '44', '1452'],\n",
       " ['banana', '8', '5', '40'],\n",
       " ['mango', '22', '99', '2178']]"
      ]
     },
     "execution_count": 15,
     "metadata": {},
     "output_type": "execute_result"
    }
   ],
   "source": [
    "l=[]\n",
    "a=x.split('\\n')[:-1]\n",
    "for i in a:\n",
    "    l.append(i.split())\n",
    "l"
   ]
  },
  {
   "cell_type": "code",
   "execution_count": null,
   "id": "1e461ac5-7524-4abc-b941-58b61e5ff075",
   "metadata": {
    "tags": []
   },
   "outputs": [
    {
     "name": "stdout",
     "output_type": "stream",
     "text": [
      "['apple  33 44 1452', 'banana 8 5 40', 'mango 22 99 2178']\n"
     ]
    },
    {
     "data": {
      "text/plain": [
       "[['apple', 33, 44, 1452], ['banana', 8, 5, 40], ['mango', 22, 99, 2178]]"
      ]
     },
     "execution_count": 19,
     "metadata": {},
     "output_type": "execute_result"
    }
   ],
   "source": [
    "b=x.split('\\n')[0:-1]\n",
    "print(b)\n",
    "result=[]\n",
    "for i in b:\n",
    "    y=i.split()\n",
    "    \n",
    "    y[1]=int(y[1])\n",
    "    y[2]=int(y[2])\n",
    "    y[3]=int(y[3])\n",
    "    result.append(y)\n",
    "result"
   ]
  },
  {
   "cell_type": "code",
   "execution_count": null,
   "id": "ac757951-52ae-4c03-a11e-fa055d691394",
   "metadata": {},
   "outputs": [
    {
     "name": "stdout",
     "output_type": "stream",
     "text": [
      "Enter n =  2\n",
      "Enter name =  mango\n",
      "Enter price =  88\n",
      "Enter quantity =  44\n",
      "Enter name =  apple\n",
      "Enter price =  66\n",
      "Enter quantity =  77\n",
      "mango,88,44,3872\n",
      "apple,66,77,5082\n",
      "\n"
     ]
    }
   ],
   "source": [
    "file=open('filehandlingfolder/bill.csv','w')\n",
    "bill = str()\n",
    "grand_total = 0\n",
    "n = int(input(\"Enter n = \"))\n",
    "for i in range(n):\n",
    "    product = input(\"Enter name = \")\n",
    "    price = int(input(\"Enter price = \"))\n",
    "    quantity = int(input(\"Enter quantity = \"))\n",
    "    total = price*quantity\n",
    "    grand_total = grand_total +total\n",
    "#     bill = bill + product+\" \" +str(price)+str(quantity) +str(total)+\"\\n\"\n",
    "    bill = bill + f\"{product},{price},{quantity},{total}\\n\"\n",
    "print(bill)\n",
    "file.write('Product,Price,Quantity,Total\\n')#heading of the csv file \n",
    "file.write(bill)#value of the csv file \n",
    "file.close()"
   ]
  },
  {
   "cell_type": "code",
   "execution_count": null,
   "id": "67a2dc69-6c6b-485c-8fdd-576506984661",
   "metadata": {
    "tags": []
   },
   "outputs": [
    {
     "data": {
      "text/plain": [
       "'C:\\\\Users\\\\Dell\\\\Desktop\\\\broadwayclass'"
      ]
     },
     "execution_count": 34,
     "metadata": {},
     "output_type": "execute_result"
    }
   ],
   "source": [
    "pwd #show of the csv file "
   ]
  },
  {
   "cell_type": "code",
   "execution_count": null,
   "id": "6640a22e-9cea-4e9f-a00a-132e343be9db",
   "metadata": {
    "tags": []
   },
   "outputs": [
    {
     "data": {
      "text/plain": [
       "'C:\\\\Users\\\\Dell\\\\Desktop\\\\broadwayclass'"
      ]
     },
     "execution_count": 35,
     "metadata": {},
     "output_type": "execute_result"
    }
   ],
   "source": [
    "pwd"
   ]
  },
  {
   "cell_type": "code",
   "execution_count": 19,
   "id": "c3b5a9f9-022e-4d05-b441-357bbb722141",
   "metadata": {
    "tags": []
   },
   "outputs": [
    {
     "data": {
      "text/html": [
       "<div>\n",
       "<style scoped>\n",
       "    .dataframe tbody tr th:only-of-type {\n",
       "        vertical-align: middle;\n",
       "    }\n",
       "\n",
       "    .dataframe tbody tr th {\n",
       "        vertical-align: top;\n",
       "    }\n",
       "\n",
       "    .dataframe thead th {\n",
       "        text-align: right;\n",
       "    }\n",
       "</style>\n",
       "<table border=\"1\" class=\"dataframe\">\n",
       "  <thead>\n",
       "    <tr style=\"text-align: right;\">\n",
       "      <th></th>\n",
       "      <th>sn</th>\n",
       "      <th>name</th>\n",
       "      <th>age</th>\n",
       "      <th>address</th>\n",
       "      <th>phone</th>\n",
       "    </tr>\n",
       "  </thead>\n",
       "  <tbody>\n",
       "    <tr>\n",
       "      <th>0</th>\n",
       "      <td>1</td>\n",
       "      <td>ram</td>\n",
       "      <td>23.0</td>\n",
       "      <td>kathmandu</td>\n",
       "      <td>9.876543e+09</td>\n",
       "    </tr>\n",
       "    <tr>\n",
       "      <th>1</th>\n",
       "      <td>2</td>\n",
       "      <td>shayam</td>\n",
       "      <td>25.0</td>\n",
       "      <td>bhaktapur</td>\n",
       "      <td>9.876543e+09</td>\n",
       "    </tr>\n",
       "    <tr>\n",
       "      <th>2</th>\n",
       "      <td>3</td>\n",
       "      <td>sabin</td>\n",
       "      <td>34.0</td>\n",
       "      <td>latitapur</td>\n",
       "      <td>9.876546e+09</td>\n",
       "    </tr>\n",
       "    <tr>\n",
       "      <th>3</th>\n",
       "      <td>\\t\\t\\t\\t\\t</td>\n",
       "      <td>NaN</td>\n",
       "      <td>NaN</td>\n",
       "      <td>NaN</td>\n",
       "      <td>NaN</td>\n",
       "    </tr>\n",
       "  </tbody>\n",
       "</table>\n",
       "</div>"
      ],
      "text/plain": [
       "           sn    name   age    address         phone\n",
       "0           1     ram  23.0  kathmandu  9.876543e+09\n",
       "1           2  shayam  25.0  bhaktapur  9.876543e+09\n",
       "2           3   sabin  34.0  latitapur  9.876546e+09\n",
       "3  \\t\\t\\t\\t\\t     NaN   NaN        NaN           NaN"
      ]
     },
     "execution_count": 19,
     "metadata": {},
     "output_type": "execute_result"
    }
   ],
   "source": [
    "import pandas as pd\n",
    "df=pd.read_csv('filehandlingfolder/data1.csv')\n",
    "df"
   ]
  },
  {
   "cell_type": "code",
   "execution_count": null,
   "id": "ca18616a-ce3f-4b84-a300-9e1f511ddc27",
   "metadata": {
    "tags": []
   },
   "outputs": [
    {
     "data": {
      "text/plain": [
       "29"
      ]
     },
     "execution_count": 46,
     "metadata": {},
     "output_type": "execute_result"
    }
   ],
   "source": [
    "file=open('filehandlingfolder/new_bill.csv','a')\n",
    "file.write('Product,Price,Quantity,Total\\n')"
   ]
  },
  {
   "cell_type": "code",
   "execution_count": null,
   "id": "00f0d4fa-d57e-4684-84b4-375502978c6d",
   "metadata": {
    "tags": []
   },
   "outputs": [
    {
     "name": "stdout",
     "output_type": "stream",
     "text": [
      "number of item =  1\n",
      "Enter name =  dog\n",
      "Enter price =  4\n",
      "Enter quantity =  4\n"
     ]
    },
    {
     "data": {
      "text/plain": [
       "11"
      ]
     },
     "execution_count": 49,
     "metadata": {},
     "output_type": "execute_result"
    }
   ],
   "source": [
    "bill = str()\n",
    "grand_total = 0\n",
    "n = int(input(\"number of item = \"))\n",
    "for i in range(n):\n",
    "    product = input(\"Enter name = \")\n",
    "    price = int(input(\"Enter price = \"))\n",
    "    quantity = int(input(\"Enter quantity = \"))\n",
    "    total = price*quantity\n",
    "    grand_total = grand_total +total\n",
    "#     bill = bill + product+\" \" +str(price)+str(quantity) +str(total)+\"\\n\"\n",
    "    bill = bill + f\"{product},{price},{quantity},{grand_total}\\n\"\n",
    "file.write(bill)"
   ]
  },
  {
   "cell_type": "code",
   "execution_count": null,
   "id": "cac30d39-c30c-48f3-b1f1-fc4a1d0a0ff2",
   "metadata": {
    "tags": []
   },
   "outputs": [],
   "source": [
    "file.close()\n"
   ]
  },
  {
   "cell_type": "code",
   "execution_count": 8,
   "id": "c70084b7-eb5d-455a-9df4-56d4bc082321",
   "metadata": {
    "tags": []
   },
   "outputs": [
    {
     "data": {
      "text/html": [
       "<div>\n",
       "<style scoped>\n",
       "    .dataframe tbody tr th:only-of-type {\n",
       "        vertical-align: middle;\n",
       "    }\n",
       "\n",
       "    .dataframe tbody tr th {\n",
       "        vertical-align: top;\n",
       "    }\n",
       "\n",
       "    .dataframe thead th {\n",
       "        text-align: right;\n",
       "    }\n",
       "</style>\n",
       "<table border=\"1\" class=\"dataframe\">\n",
       "  <thead>\n",
       "    <tr style=\"text-align: right;\">\n",
       "      <th></th>\n",
       "      <th>Product</th>\n",
       "      <th>Price</th>\n",
       "      <th>Quantity</th>\n",
       "      <th>Total</th>\n",
       "    </tr>\n",
       "  </thead>\n",
       "  <tbody>\n",
       "    <tr>\n",
       "      <th>0</th>\n",
       "      <td>apple</td>\n",
       "      <td>33</td>\n",
       "      <td>44</td>\n",
       "      <td>1452</td>\n",
       "    </tr>\n",
       "    <tr>\n",
       "      <th>1</th>\n",
       "      <td>ball</td>\n",
       "      <td>33</td>\n",
       "      <td>44</td>\n",
       "      <td>1452</td>\n",
       "    </tr>\n",
       "    <tr>\n",
       "      <th>2</th>\n",
       "      <td>cat</td>\n",
       "      <td>77</td>\n",
       "      <td>88</td>\n",
       "      <td>6776</td>\n",
       "    </tr>\n",
       "    <tr>\n",
       "      <th>3</th>\n",
       "      <td>Product</td>\n",
       "      <td>Price</td>\n",
       "      <td>Quantity</td>\n",
       "      <td>Total</td>\n",
       "    </tr>\n",
       "    <tr>\n",
       "      <th>4</th>\n",
       "      <td>coke</td>\n",
       "      <td>2</td>\n",
       "      <td>2</td>\n",
       "      <td>4</td>\n",
       "    </tr>\n",
       "    <tr>\n",
       "      <th>5</th>\n",
       "      <td>dog</td>\n",
       "      <td>4</td>\n",
       "      <td>4</td>\n",
       "      <td>16</td>\n",
       "    </tr>\n",
       "  </tbody>\n",
       "</table>\n",
       "</div>"
      ],
      "text/plain": [
       "   Product  Price  Quantity  Total\n",
       "0    apple     33        44   1452\n",
       "1     ball     33        44   1452\n",
       "2      cat     77        88   6776\n",
       "3  Product  Price  Quantity  Total\n",
       "4     coke      2         2      4\n",
       "5      dog      4         4     16"
      ]
     },
     "execution_count": 8,
     "metadata": {},
     "output_type": "execute_result"
    }
   ],
   "source": [
    "import pandas as pd\n",
    "df=pd.read_csv('filehandlingfolder/new_bill.csv')\n",
    "df"
   ]
  },
  {
   "cell_type": "code",
   "execution_count": null,
   "id": "fc7bcd72",
   "metadata": {},
   "outputs": [],
   "source": []
  }
 ],
 "metadata": {
  "kernelspec": {
   "display_name": "Python 3 (ipykernel)",
   "language": "python",
   "name": "python3"
  },
  "language_info": {
   "codemirror_mode": {
    "name": "ipython",
    "version": 3
   },
   "file_extension": ".py",
   "mimetype": "text/x-python",
   "name": "python",
   "nbconvert_exporter": "python",
   "pygments_lexer": "ipython3",
   "version": "3.10.4"
  },
  "vscode": {
   "interpreter": {
    "hash": "369f2c481f4da34e4445cda3fffd2e751bd1c4d706f27375911949ba6bb62e1c"
   }
  }
 },
 "nbformat": 4,
 "nbformat_minor": 5
}
