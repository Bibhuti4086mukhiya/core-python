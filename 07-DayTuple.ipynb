{
 "cells": [
  {
   "cell_type": "code",
   "execution_count": null,
   "id": "f3b08e8c-42b7-457f-b5dc-b2eab0341d65",
   "metadata": {},
   "outputs": [],
   "source": [
    "# tuple\n",
    "-Indexing\n",
    "-Ordering\n",
    "-Multiple and duplicate values\n",
    "-Imutable\n"
   ]
  },
  {
   "cell_type": "code",
   "execution_count": 1,
   "id": "ac46f6ac-a5d2-4be4-ade0-a754ffc3c2bd",
   "metadata": {
    "tags": []
   },
   "outputs": [
    {
     "data": {
      "text/plain": [
       "('apple', 'ball', 'cat', 'dog')"
      ]
     },
     "execution_count": 1,
     "metadata": {},
     "output_type": "execute_result"
    }
   ],
   "source": [
    "a=tuple()\n",
    "a=('apple','ball','cat','dog')\n",
    "a"
   ]
  },
  {
   "cell_type": "code",
   "execution_count": 7,
   "id": "da7b458f-087a-476f-b2eb-69c563cb1ee5",
   "metadata": {
    "tags": []
   },
   "outputs": [
    {
     "name": "stdout",
     "output_type": "stream",
     "text": [
      "<class 'tuple'>\n",
      "<class 'int'>\n",
      "<class 'tuple'>\n",
      "<class 'tuple'>\n"
     ]
    }
   ],
   "source": [
    "a=(1,2,3)\n",
    "b=(1)\n",
    "c=(1,)\n",
    "d=('apple',)\n",
    "print(type(a))\n",
    "print(type(b))\n",
    "print(type(c))\n",
    "print(type(d))"
   ]
  },
  {
   "cell_type": "code",
   "execution_count": 10,
   "id": "4e22360e-6d9d-41ab-ba6c-53dc7cd25e63",
   "metadata": {
    "tags": []
   },
   "outputs": [
    {
     "name": "stdout",
     "output_type": "stream",
     "text": [
      "('apple', 'ball', 'cat', 'dog', 'apple')\n",
      "apple\n",
      "('apple', 'ball', 'cat')\n",
      "('apple', 'cat')\n"
     ]
    }
   ],
   "source": [
    "a=('apple','ball','cat','dog','apple')\n",
    "print(a)\n",
    "print(a[0])\n",
    "print(a[0:3])\n",
    "print(a[0:3:2])\n"
   ]
  },
  {
   "cell_type": "markdown",
   "id": "2b43a89b-31c5-44f7-a7cc-ff9a5b712330",
   "metadata": {
    "jp-MarkdownHeadingCollapsed": true,
    "tags": []
   },
   "source": [
    "# imutable\n",
    "# no append() insert() extend()\n",
    "# no update\n",
    "# no delete pop() remove()\n",
    "# no sort()"
   ]
  },
  {
   "cell_type": "markdown",
   "id": "316f8b6c-da3c-48b9-a79f-208a7eb51f1e",
   "metadata": {},
   "source": [
    "# we can\n",
    "# sum() max() min()\n",
    "# index()\n",
    "# read\n",
    "# create\n",
    "# search\n"
   ]
  },
  {
   "cell_type": "code",
   "execution_count": null,
   "id": "5b99e20c-c9e3-4614-a63e-02e48ab8e226",
   "metadata": {},
   "outputs": [],
   "source": [
    "\n"
   ]
  },
  {
   "cell_type": "code",
   "execution_count": 13,
   "id": "f509a624-b727-469c-b4f1-c930f3796b2d",
   "metadata": {
    "tags": []
   },
   "outputs": [
    {
     "name": "stdout",
     "output_type": "stream",
     "text": [
      "(1, 2, 3, 4, 1, 2, 3, 4)\n"
     ]
    }
   ],
   "source": [
    "a=(1,2,3,4)\n",
    "b=(5,6,7,9)\n",
    "print(a*2)"
   ]
  },
  {
   "cell_type": "code",
   "execution_count": 14,
   "id": "85cee850-a408-404d-abe4-18da2c200e43",
   "metadata": {
    "tags": []
   },
   "outputs": [
    {
     "data": {
      "text/plain": [
       "(1, 2, 3, 4, 5, 6, 7, 9)"
      ]
     },
     "execution_count": 14,
     "metadata": {},
     "output_type": "execute_result"
    }
   ],
   "source": [
    "a+b # without concatenation can not add"
   ]
  },
  {
   "cell_type": "code",
   "execution_count": 15,
   "id": "9fbe2c6a-4e83-4232-b752-b87019a66155",
   "metadata": {
    "tags": []
   },
   "outputs": [
    {
     "name": "stdin",
     "output_type": "stream",
     "text": [
      "enter n= 2\n",
      "enter x= 3\n",
      "enter x= 3\n"
     ]
    },
    {
     "name": "stdout",
     "output_type": "stream",
     "text": [
      "(3, 3)\n"
     ]
    }
   ],
   "source": [
    "# how to create tuple\n",
    "l=()\n",
    "n=int(input('enter n='))\n",
    "for i in range(n):\n",
    "    x=int(input('enter x='))\n",
    "    l+=(x,)\n",
    "print(l)"
   ]
  },
  {
   "cell_type": "code",
   "execution_count": 16,
   "id": "36737b4e-990a-4904-a063-1250419ee600",
   "metadata": {
    "tags": []
   },
   "outputs": [
    {
     "name": "stdout",
     "output_type": "stream",
     "text": [
      "the max value is =  3\n",
      "the min value is =  3\n",
      "the sum is =  6\n",
      "the average is =  3.0\n"
     ]
    }
   ],
   "source": [
    "print(\"the max value is = \",max(l))\n",
    "print(\"the min value is = \",min(l))\n",
    "print(\"the sum is = \",sum(l))\n",
    "print(\"the average is = \",sum(l)/len(l))\n"
   ]
  },
  {
   "cell_type": "code",
   "execution_count": 17,
   "id": "da84fbb8-d6c1-4263-bd56-d4d415f71725",
   "metadata": {
    "tags": []
   },
   "outputs": [
    {
     "data": {
      "text/plain": [
       "1"
      ]
     },
     "execution_count": 17,
     "metadata": {},
     "output_type": "execute_result"
    }
   ],
   "source": [
    "a=('apple','ball','cat','dog','apple')\n",
    "a.index('ball')"
   ]
  },
  {
   "cell_type": "code",
   "execution_count": 18,
   "id": "a6998b6a-21da-44a4-b433-4a9adb31804e",
   "metadata": {
    "tags": []
   },
   "outputs": [
    {
     "name": "stdout",
     "output_type": "stream",
     "text": [
      "yes\n"
     ]
    }
   ],
   "source": [
    "if 'apple' in a:\n",
    "    print('yes')"
   ]
  },
  {
   "cell_type": "code",
   "execution_count": 29,
   "id": "745db9df-4853-4166-8e36-358250505b00",
   "metadata": {
    "tags": []
   },
   "outputs": [
    {
     "data": {
      "text/plain": [
       "['apple', 'ball', 'cat', 'dog', 'apple']"
      ]
     },
     "execution_count": 29,
     "metadata": {},
     "output_type": "execute_result"
    }
   ],
   "source": [
    "#converting tupple into list\n",
    "a=('apple','ball','cat','dog','apple')\n",
    "b=list(a)\n",
    "b"
   ]
  },
  {
   "cell_type": "code",
   "execution_count": 30,
   "id": "eedebf36-1902-4fb5-965e-b69a131c556d",
   "metadata": {
    "tags": []
   },
   "outputs": [
    {
     "data": {
      "text/plain": [
       "['ball', 'cat', 'dog', 'apple']"
      ]
     },
     "execution_count": 30,
     "metadata": {},
     "output_type": "execute_result"
    }
   ],
   "source": [
    "del b[0]\n",
    "b"
   ]
  },
  {
   "cell_type": "code",
   "execution_count": 31,
   "id": "f2f121b1-9b9a-4db0-8a6e-403a67dc3333",
   "metadata": {
    "tags": []
   },
   "outputs": [
    {
     "data": {
      "text/plain": [
       "('ball', 'cat', 'dog', 'apple')"
      ]
     },
     "execution_count": 31,
     "metadata": {},
     "output_type": "execute_result"
    }
   ],
   "source": [
    "a=tuple(b)\n",
    "a"
   ]
  },
  {
   "cell_type": "code",
   "execution_count": 37,
   "id": "c5ce07dc-26cc-4249-b2e5-1076f5e6e7bb",
   "metadata": {
    "tags": []
   },
   "outputs": [
    {
     "data": {
      "text/plain": [
       "('apple', 'cat', 'dog', 'apple')"
      ]
     },
     "execution_count": 37,
     "metadata": {},
     "output_type": "execute_result"
    }
   ],
   "source": [
    "a=('apple','ball','cat','dog','apple')\n",
    "b=list(a)\n",
    "b.remove('ball')\n",
    "a=tuple(b)\n",
    "a"
   ]
  },
  {
   "cell_type": "code",
   "execution_count": 40,
   "id": "93ea7b08-d2d4-4f23-bce1-69f9d446911a",
   "metadata": {
    "tags": []
   },
   "outputs": [
    {
     "data": {
      "text/plain": [
       "('98765', '112345')"
      ]
     },
     "execution_count": 40,
     "metadata": {},
     "output_type": "execute_result"
    }
   ],
   "source": [
    "d={('bibhuti','hari'): ('98765','112345'), 'akash': '98765432'}\n",
    "d\n",
    "d['bibhuti','hari']"
   ]
  },
  {
   "cell_type": "code",
   "execution_count": 41,
   "id": "f9268d70-5df8-4242-bf71-032f6da4d1fe",
   "metadata": {
    "tags": []
   },
   "outputs": [
    {
     "data": {
      "text/plain": [
       "(('ram', 45, 'kathmandu'), ('hari', 35, 'dhanusha'), ('shiv', 55, 'kalash'))"
      ]
     },
     "execution_count": 41,
     "metadata": {},
     "output_type": "execute_result"
    }
   ],
   "source": [
    "t=(('ram',45,'kathmandu'),\n",
    "   ('hari',35,'dhanusha'),\n",
    "   ('shiv',55,'kalash'))\n",
    "t"
   ]
  },
  {
   "cell_type": "code",
   "execution_count": 59,
   "id": "a2a36796-e6df-4dae-9be1-edf256203ff2",
   "metadata": {
    "tags": []
   },
   "outputs": [
    {
     "name": "stdin",
     "output_type": "stream",
     "text": [
      "enter n 1\n",
      "name =  wertyu\n",
      "age=  45678\n",
      "address=  ertyu\n"
     ]
    },
    {
     "name": "stdout",
     "output_type": "stream",
     "text": [
      "(('wertyu', '45678', 'ertyu'),)\n"
     ]
    }
   ],
   "source": [
    "# tuple inside tuple\n",
    "a=() #dict inside dict\n",
    "n=int(input('enter n'))\n",
    "for i in range(1,n+1):\n",
    "    name=input('name = ')    \n",
    "    age=input('age= ')\n",
    "    add=input('address= ')\n",
    "    # a=a+((name,age,add),)\n",
    "    x=(name,age,add)\n",
    "    a=a+(x,)\n",
    "    \n",
    "    #info[i] key = data value\n",
    "print(a)"
   ]
  },
  {
   "cell_type": "code",
   "execution_count": 1,
   "id": "9a6dbbc1-a3c7-431e-82e9-7cabf5e558e9",
   "metadata": {},
   "outputs": [
    {
     "ename": "NameError",
     "evalue": "name 'quicksort' is not defined",
     "output_type": "error",
     "traceback": [
      "\u001b[1;31m---------------------------------------------------------------------------\u001b[0m",
      "\u001b[1;31mNameError\u001b[0m                                 Traceback (most recent call last)",
      "Cell \u001b[1;32mIn[1], line 1\u001b[0m\n\u001b[1;32m----> 1\u001b[0m \u001b[43mquicksort\u001b[49m([\u001b[38;5;241m15\u001b[39m, \u001b[38;5;241m10\u001b[39m]) \u001b[38;5;241m+\u001b[39m [\u001b[38;5;241m33\u001b[39m] \u001b[38;5;241m+\u001b[39m quicksort([])\n",
      "\u001b[1;31mNameError\u001b[0m: name 'quicksort' is not defined"
     ]
    }
   ],
   "source": [
    "quicksort([15, 10]) + [33] + quicksort([])"
   ]
  }
 ],
 "metadata": {
  "kernelspec": {
   "display_name": "Python 3 (ipykernel)",
   "language": "python",
   "name": "python3"
  },
  "language_info": {
   "codemirror_mode": {
    "name": "ipython",
    "version": 3
   },
   "file_extension": ".py",
   "mimetype": "text/x-python",
   "name": "python",
   "nbconvert_exporter": "python",
   "pygments_lexer": "ipython3",
   "version": "3.9.12"
  }
 },
 "nbformat": 4,
 "nbformat_minor": 5
}
