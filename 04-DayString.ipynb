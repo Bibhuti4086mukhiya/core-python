{
 "cells": [
  {
   "cell_type": "code",
   "execution_count": 1,
   "id": "71762617-2489-4a42-a118-170230ed5f81",
   "metadata": {},
   "outputs": [
    {
     "name": "stdout",
     "output_type": "stream",
     "text": [
      "<class 'str'>\n",
      "<class 'str'>\n",
      "<class 'str'>\n"
     ]
    }
   ],
   "source": [
    "# string is immutable data type\n",
    "a='Hello world'\n",
    "b=\"Hello World\"\n",
    "c='''Hello World'''#raw string like news report\n",
    "\n",
    "print(type(a))\n",
    "print(type(b))\n",
    "print(type(c))\n"
   ]
  },
  {
   "cell_type": "code",
   "execution_count": null,
   "id": "a1d18db4-440d-4673-aca5-92d0e06eb105",
   "metadata": {},
   "outputs": [],
   "source": [
    "# + concatinate"
   ]
  },
  {
   "cell_type": "code",
   "execution_count": 2,
   "id": "ce220deb-49b4-43ae-97f1-c2b5e39796b3",
   "metadata": {
    "tags": []
   },
   "outputs": [
    {
     "name": "stdout",
     "output_type": "stream",
     "text": [
      "Helloworld\n"
     ]
    }
   ],
   "source": [
    "a='Hello'\n",
    "b='world'\n",
    "print(a+b)"
   ]
  },
  {
   "cell_type": "code",
   "execution_count": 6,
   "id": "44e091e2-0c95-4ceb-b6cb-8dddd6e0a5e1",
   "metadata": {
    "tags": []
   },
   "outputs": [
    {
     "name": "stdout",
     "output_type": "stream",
     "text": [
      "Hello worldHello world \n",
      "\n"
     ]
    }
   ],
   "source": [
    "a='Hello world'\n",
    "print(a*2)"
   ]
  },
  {
   "cell_type": "code",
   "execution_count": null,
   "id": "11dce01c-e2a5-45ee-9853-3c8cc7e8acf3",
   "metadata": {},
   "outputs": [],
   "source": [
    "a="
   ]
  },
  {
   "cell_type": "code",
   "execution_count": 7,
   "id": "3522946d-ba96-4a52-bcb5-d428198b439f",
   "metadata": {
    "tags": []
   },
   "outputs": [
    {
     "name": "stdout",
     "output_type": "stream",
     "text": [
      "H\n",
      "Hello\n",
      "HlowrdIa yhn\n"
     ]
    }
   ],
   "source": [
    "a='Hello world I am python'\n",
    "print(a[0])\n",
    "print(a[0:5])#string slicing\n",
    "print(a[0:25:2])"
   ]
  },
  {
   "cell_type": "code",
   "execution_count": 8,
   "id": "87861bca-441e-42ce-ba39-45121ff3eea1",
   "metadata": {
    "tags": []
   },
   "outputs": [
    {
     "data": {
      "text/plain": [
       "'Hello world'"
      ]
     },
     "execution_count": 8,
     "metadata": {},
     "output_type": "execute_result"
    }
   ],
   "source": [
    "a='Hello world'\n",
    "a[:]#show all character"
   ]
  },
  {
   "cell_type": "code",
   "execution_count": 20,
   "id": "cca6b43c-6cfb-4b74-9fc6-337906cfdc97",
   "metadata": {
    "tags": []
   },
   "outputs": [
    {
     "data": {
      "text/plain": [
       "'dlrow olleH'"
      ]
     },
     "execution_count": 20,
     "metadata": {},
     "output_type": "execute_result"
    }
   ],
   "source": [
    "a='Hello world'\n",
    "a[::-1]#opposite size /from last print"
   ]
  },
  {
   "cell_type": "code",
   "execution_count": 3,
   "id": "5ea78c23-36c9-49fe-9d3a-924e9406b0d5",
   "metadata": {
    "tags": []
   },
   "outputs": [
    {
     "name": "stdout",
     "output_type": "stream",
     "text": [
      "Hello worldHello world\n"
     ]
    }
   ],
   "source": [
    "a='Hello world'\n",
    "print(a*2)"
   ]
  },
  {
   "cell_type": "code",
   "execution_count": 25,
   "id": "4fb34835-0e9a-4bbc-8190-432e53be2d1e",
   "metadata": {
    "tags": []
   },
   "outputs": [
    {
     "name": "stdout",
     "output_type": "stream",
     "text": [
      "Hello World I am ram, I am 25 I am form kathmandu\n"
     ]
    }
   ],
   "source": [
    "name='ram'\n",
    "age=25\n",
    "address='kathmandu'\n",
    "info='Hello World I am '+ name + ', I am ' + str(age) + ' I am form ' + address\n",
    "print(info)"
   ]
  },
  {
   "cell_type": "code",
   "execution_count": 4,
   "id": "c77232d1-37d3-45de-a4e6-0b0193652e9c",
   "metadata": {
    "tags": []
   },
   "outputs": [
    {
     "name": "stdout",
     "output_type": "stream",
     "text": [
      "Hello World \n",
      "I am ram, I am 25, I am form kathmandu\n"
     ]
    }
   ],
   "source": [
    "# string formatting\n",
    "name='ram'\n",
    "age=25\n",
    "address='kathmandu'\n",
    "info=f\"Hello World \\nI am {name}, I am {age}, I am form {address}\"\n",
    "print(info)"
   ]
  },
  {
   "cell_type": "code",
   "execution_count": 36,
   "id": "482e604a-4340-4d4b-80f8-19c99caf02be",
   "metadata": {
    "tags": []
   },
   "outputs": [
    {
     "name": "stdin",
     "output_type": "stream",
     "text": [
      "enter the number of Item : 3\n",
      "product name=  apple\n",
      "enter price =  40\n",
      "enter quantity=  1\n",
      "product name=  orange\n",
      "enter price =  50\n",
      "enter quantity=  1\n",
      "product name=  graph\n",
      "enter price =  3\n",
      "enter quantity=  10\n"
     ]
    },
    {
     "name": "stdout",
     "output_type": "stream",
     "text": [
      "apple 40 1 40\n",
      "orange 50 1 50\n",
      "graph 3 10 30\n",
      "\n"
     ]
    }
   ],
   "source": [
    "bill=str()\n",
    "n=int(input('enter the number of Item :'))\n",
    "grandTotal=0\n",
    "for i in range(n):\n",
    "    product=input('product name= ')\n",
    "    price=int(input('enter price = '))\n",
    "    quantity=int(input('enter quantity= '))\n",
    "    total=price*quantity\n",
    "    grandTotal=grandTotal+total\n",
    "    bill=bill + f\"{product} {price} {quantity} {total}\\n\"\n",
    "print(bill)"
   ]
  },
  {
   "cell_type": "code",
   "execution_count": 37,
   "id": "b2fa4431-d902-4f30-87ce-79583406bf15",
   "metadata": {
    "tags": []
   },
   "outputs": [
    {
     "data": {
      "text/plain": [
       "'apple 40 1 40\\norange 50 1 50\\ngraph 3 10 30\\n'"
      ]
     },
     "execution_count": 37,
     "metadata": {},
     "output_type": "execute_result"
    }
   ],
   "source": [
    "bill"
   ]
  },
  {
   "cell_type": "code",
   "execution_count": 56,
   "id": "0631ed35-fb29-469e-82fc-424ecf00c94c",
   "metadata": {
    "tags": []
   },
   "outputs": [
    {
     "name": "stdin",
     "output_type": "stream",
     "text": [
      "your name: hari\n"
     ]
    },
    {
     "name": "stdout",
     "output_type": "stream",
     "text": [
      "yes\n",
      "1\n"
     ]
    }
   ],
   "source": [
    "name=input('your name:').lower()\n",
    "a='ram shyam hari sita gita ram'.lower()\n",
    "if 'ram' in a:\n",
    "    print('yes')\n",
    "    print(a.count(name))\n",
    "else:\n",
    "    print('no')\n",
    "    "
   ]
  },
  {
   "cell_type": "code",
   "execution_count": 57,
   "id": "bf533ee5-6961-4032-850f-3aa8b4b7ce9b",
   "metadata": {
    "tags": []
   },
   "outputs": [
    {
     "name": "stdout",
     "output_type": "stream",
     "text": [
      "RAM SHYAM HARI SITA GITA RAM\n",
      "ram shyam hari sita gita ram\n",
      "ram shyam hari sita gita ram\n"
     ]
    }
   ],
   "source": [
    "a='ram shyam hari sita gita ram'\n",
    "print(a.upper())\n",
    "print(a.lower())\n",
    "print(a) #strings is immutable data type"
   ]
  },
  {
   "cell_type": "code",
   "execution_count": 47,
   "id": "58b7ed3e-9e61-4e1a-b40d-d5592711bbc2",
   "metadata": {
    "tags": []
   },
   "outputs": [
    {
     "name": "stdin",
     "output_type": "stream",
     "text": [
      "number of student have to Add 2\n",
      "name of student: ert\n",
      "number of student: 567\n",
      "name of student: erty\n",
      "number of student: 5678\n"
     ]
    },
    {
     "name": "stdout",
     "output_type": "stream",
     "text": [
      "sn. Name: Phone Number:\n",
      "\n",
      "1  ert  567\n",
      "2  erty  5678\n"
     ]
    }
   ],
   "source": [
    "n=int(input('number of student have to Add'))\n",
    "stname=[]\n",
    "stnumber=[]\n",
    "index=[]\n",
    "for i in range(1,n+1):\n",
    "    name=input('name of student:')\n",
    "    number=int(input('number of student:'))\n",
    "    stname+=[name]\n",
    "    stnumber+=[str(number)]\n",
    "    index+=[i]\n",
    "print('sn.','Name:','Phone Number:\\n')\n",
    "for i in range(len(index)):\n",
    "    print(index[i],end='  ')\n",
    "    print(stname[i],end='   ')\n",
    "    print(stnumber[i])"
   ]
  },
  {
   "cell_type": "code",
   "execution_count": 54,
   "id": "ecbbacb0-41cb-49c4-92b2-4ecff89664ad",
   "metadata": {
    "tags": []
   },
   "outputs": [
    {
     "name": "stdin",
     "output_type": "stream",
     "text": [
      "number of student have to Add 2\n",
      "name of student: wert\n",
      "number of student: 567\n",
      "name of student: rtyu\n",
      "number of student: 456\n"
     ]
    },
    {
     "name": "stdout",
     "output_type": "stream",
     "text": [
      "sn. Name: Phone Number:\n",
      "\n",
      "1   wert   567\n",
      "2   rtyu   456\n",
      "\n"
     ]
    }
   ],
   "source": [
    "n=int(input('number of student have to Add'))\n",
    "stn=''\n",
    "for i in range(1,n+1):\n",
    "    name=input('name of student:')\n",
    "    number=int(input('number of student:'))\n",
    "    stn+=str(i)+'   '+name+'   '+str(number)+'\\n'\n",
    "print('sn.','Name:','Phone Number:\\n')\n",
    "print(stn)"
   ]
  },
  {
   "cell_type": "code",
   "execution_count": 62,
   "id": "00fb5145-6211-435f-9b93-633d6e5d1c9b",
   "metadata": {
    "tags": []
   },
   "outputs": [
    {
     "data": {
      "text/plain": [
       "'ramesh shyam hari sita gita ramesh'"
      ]
     },
     "execution_count": 62,
     "metadata": {},
     "output_type": "execute_result"
    }
   ],
   "source": [
    "# replace() function have to 2 argument  \n",
    "a='ram shyam hari sita gita ram'\n",
    "a=a.replace('ram','ramesh')\n",
    "a"
   ]
  },
  {
   "cell_type": "code",
   "execution_count": 63,
   "id": "ea6c21dd-63b9-4248-95ec-ce15cd127324",
   "metadata": {
    "tags": []
   },
   "outputs": [
    {
     "data": {
      "text/plain": [
       "' shyam hari sita gita '"
      ]
     },
     "execution_count": 63,
     "metadata": {},
     "output_type": "execute_result"
    }
   ],
   "source": [
    "# replace() function have to 2 argument  \n",
    "a='ram shyam hari sita gita ram'\n",
    "a=a.replace('ram','') #immutable \n",
    "a"
   ]
  },
  {
   "cell_type": "code",
   "execution_count": 64,
   "id": "d1124398-e147-4f09-984e-16055daf7e7c",
   "metadata": {
    "tags": []
   },
   "outputs": [
    {
     "data": {
      "text/plain": [
       "['ram', 'shyam', 'hari', 'sita', 'gita', 'ram']"
      ]
     },
     "execution_count": 64,
     "metadata": {},
     "output_type": "execute_result"
    }
   ],
   "source": [
    "a='ram shyam hari sita gita ram'\n",
    "a.split()"
   ]
  },
  {
   "cell_type": "code",
   "execution_count": 65,
   "id": "06cf7dce-a768-42a4-af80-50203e89fbae",
   "metadata": {
    "tags": []
   },
   "outputs": [
    {
     "data": {
      "text/plain": [
       "['ram', 'shyam', 'hari', 'sita', 'gita', 'ram']"
      ]
     },
     "execution_count": 65,
     "metadata": {},
     "output_type": "execute_result"
    }
   ],
   "source": [
    "a='ram-shyam-hari-sita-gita-ram'\n",
    "a.split('-')"
   ]
  },
  {
   "cell_type": "code",
   "execution_count": 5,
   "id": "8be45bd3-bd07-4fbe-ba81-d8f5180ee014",
   "metadata": {
    "tags": []
   },
   "outputs": [
    {
     "name": "stdin",
     "output_type": "stream",
     "text": [
      "total subject : 3\n",
      "student name=  yy\n",
      "subject name=  phy\n",
      "enter get mark =  66\n",
      "enter full mark =  100\n",
      "subject name=  math\n",
      "enter get mark =  99\n",
      "enter full mark =  100\n",
      "subject name=  nep\n",
      "enter get mark =  88\n",
      "enter full mark =  100\n"
     ]
    },
    {
     "name": "stdout",
     "output_type": "stream",
     "text": [
      "student: subject: totalMark:    percentage: grade:\n",
      "yy  phy math nep 253 84.33333333333334 A\n",
      "\n"
     ]
    }
   ],
   "source": [
    "student=str()\n",
    "n=int(input('total subject :'))\n",
    "totalMark=int()\n",
    "fullmark=int()\n",
    "stud=input('student name= ')\n",
    "subject=''\n",
    "for i in range(n):\n",
    "    subject+=' '+input('subject name= ')\n",
    "    getmark=int(input('enter get mark = '))\n",
    "    fullmark+=int(input('enter full mark = '))\n",
    "    totalMark+=getmark\n",
    "percentage=(totalMark/fullmark)*100\n",
    "if percentage>=80:\n",
    "    grade='A'\n",
    "elif percentage>=60:\n",
    "    grade='B'\n",
    "elif percentage>=50:\n",
    "    grade='C' \n",
    "else:\n",
    "    grade='f' \n",
    "student=student + f\"{stud} {subject} {totalMark} {percentage} {grade}\\n\"\n",
    "print('student:','subject:','totalMark:   ',\"percentage:\",'grade:')\n",
    "print(student)"
   ]
  }
 ],
 "metadata": {
  "kernelspec": {
   "display_name": "Python 3 (ipykernel)",
   "language": "python",
   "name": "python3"
  },
  "language_info": {
   "codemirror_mode": {
    "name": "ipython",
    "version": 3
   },
   "file_extension": ".py",
   "mimetype": "text/x-python",
   "name": "python",
   "nbconvert_exporter": "python",
   "pygments_lexer": "ipython3",
   "version": "3.9.12"
  }
 },
 "nbformat": 4,
 "nbformat_minor": 5
}
