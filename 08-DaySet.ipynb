{
 "cells": [
  {
   "cell_type": "code",
   "execution_count": null,
   "id": "39f8acee-1c17-4bec-85d5-daf21b105ef5",
   "metadata": {},
   "outputs": [],
   "source": [
    "# Set : collectin of unique data type\n",
    "# -no indexing\n",
    "# -no duplicate data\n",
    "# -unordered\n",
    "# -multiple\n"
   ]
  },
  {
   "cell_type": "code",
   "execution_count": 1,
   "id": "f6a2ca1b-411a-4140-9e4b-4eacafb5d441",
   "metadata": {
    "tags": []
   },
   "outputs": [
    {
     "name": "stdout",
     "output_type": "stream",
     "text": [
      "<class 'set'>\n"
     ]
    }
   ],
   "source": [
    "set=set()\n",
    "s={1,2,3,4}\n",
    "print(type(s))"
   ]
  },
  {
   "cell_type": "code",
   "execution_count": 3,
   "id": "3f856c81-a447-4f5b-b8ec-c7aa7d9d2959",
   "metadata": {
    "tags": []
   },
   "outputs": [
    {
     "ename": "TypeError",
     "evalue": "'set' object is not subscriptable",
     "output_type": "error",
     "traceback": [
      "\u001b[1;31m---------------------------------------------------------------------------\u001b[0m",
      "\u001b[1;31mTypeError\u001b[0m                                 Traceback (most recent call last)",
      "Cell \u001b[1;32mIn[3], line 2\u001b[0m\n\u001b[0;32m      1\u001b[0m s\u001b[38;5;241m=\u001b[39m{\u001b[38;5;241m1\u001b[39m,\u001b[38;5;241m2\u001b[39m,\u001b[38;5;241m3\u001b[39m,\u001b[38;5;241m4\u001b[39m}\n\u001b[1;32m----> 2\u001b[0m \u001b[43ms\u001b[49m\u001b[43m[\u001b[49m\u001b[38;5;241;43m0\u001b[39;49m\u001b[43m]\u001b[49m\n",
      "\u001b[1;31mTypeError\u001b[0m: 'set' object is not subscriptable"
     ]
    }
   ],
   "source": [
    "s={1,2,3,4}\n",
    "s[0]"
   ]
  },
  {
   "cell_type": "code",
   "execution_count": 6,
   "id": "f24e1835-6255-475e-81fc-5577c21217d0",
   "metadata": {
    "tags": []
   },
   "outputs": [
    {
     "name": "stdout",
     "output_type": "stream",
     "text": [
      "{1, 2, 3, 4, 7}\n"
     ]
    },
    {
     "data": {
      "text/plain": [
       "{1, 2, 3, 4, 7}"
      ]
     },
     "execution_count": 6,
     "metadata": {},
     "output_type": "execute_result"
    }
   ],
   "source": [
    "s={1,7,3,4,3,2,1}\n",
    "print(s)\n"
   ]
  },
  {
   "cell_type": "code",
   "execution_count": 7,
   "id": "6460926d-1b3f-45e0-b016-ad174b5163f7",
   "metadata": {
    "tags": []
   },
   "outputs": [
    {
     "name": "stdout",
     "output_type": "stream",
     "text": [
      "{1, 2, 3, 4, 7}\n"
     ]
    }
   ],
   "source": [
    "s={1,7,3,4,3,2,1}\n",
    "print(s)"
   ]
  },
  {
   "cell_type": "code",
   "execution_count": 12,
   "id": "675460cc-a0e6-4471-804f-9ed4d9c9e940",
   "metadata": {
    "tags": []
   },
   "outputs": [
    {
     "name": "stdout",
     "output_type": "stream",
     "text": [
      "{'cat', 'ball', 'dog', 'apple'}\n"
     ]
    },
    {
     "data": {
      "text/plain": [
       "{'apple', 'ball', 'cat', 'dog'}"
      ]
     },
     "execution_count": 12,
     "metadata": {},
     "output_type": "execute_result"
    }
   ],
   "source": [
    "s={'apple','cat','dog','ball'}\n",
    "print(s)\n",
    "s"
   ]
  },
  {
   "cell_type": "code",
   "execution_count": 14,
   "id": "d855f655-2930-4684-bd21-09e4ea1a6fef",
   "metadata": {
    "tags": []
   },
   "outputs": [
    {
     "name": "stdout",
     "output_type": "stream",
     "text": [
      "{'cat', 'ball', 'dog', 'apple'}\n"
     ]
    },
    {
     "data": {
      "text/plain": [
       "{'apple', 'ball', 'cat', 'dog'}"
      ]
     },
     "execution_count": 14,
     "metadata": {},
     "output_type": "execute_result"
    }
   ],
   "source": [
    "s={'cat','apple','dog','ball'}\n",
    "print(s)\n",
    "s"
   ]
  },
  {
   "cell_type": "code",
   "execution_count": 15,
   "id": "8540dbd9-fcdb-4de8-b46f-35b1a64b76a9",
   "metadata": {
    "tags": []
   },
   "outputs": [
    {
     "name": "stdout",
     "output_type": "stream",
     "text": [
      "5\n"
     ]
    }
   ],
   "source": [
    "s={1,7,3,4,3,2,1}\n",
    "print(len(s))"
   ]
  },
  {
   "cell_type": "code",
   "execution_count": 2,
   "id": "43cc3e65-3f1e-4f92-966d-e7028da448fb",
   "metadata": {
    "tags": []
   },
   "outputs": [
    {
     "name": "stdout",
     "output_type": "stream",
     "text": [
      "zebra\n",
      "xray\n",
      "dog\n",
      "ball\n",
      "apple\n",
      "cat\n"
     ]
    }
   ],
   "source": [
    "s={'cat','apple','dog','ball','zebra','xray'}\n",
    "for i in s:\n",
    "    print(i)"
   ]
  },
  {
   "cell_type": "code",
   "execution_count": 4,
   "id": "4c715566-c86d-4e4d-bf2a-154f9731b84b",
   "metadata": {
    "tags": []
   },
   "outputs": [
    {
     "name": "stdout",
     "output_type": "stream",
     "text": [
      "[0, 1, 2, 3, 4, 5, 7, 9]\n"
     ]
    }
   ],
   "source": [
    "l=[1,7,3,4,3,2,1,9,2,1,4,5,2,1,3,4,0]\n",
    "print(list(set(l)))"
   ]
  },
  {
   "cell_type": "code",
   "execution_count": 5,
   "id": "57e75e31-00cd-4a5e-9bc7-0aa3ca91ff8f",
   "metadata": {
    "tags": []
   },
   "outputs": [
    {
     "data": {
      "text/plain": [
       "set"
      ]
     },
     "execution_count": 5,
     "metadata": {},
     "output_type": "execute_result"
    }
   ],
   "source": [
    "s={1}\n",
    "type(s)"
   ]
  },
  {
   "cell_type": "code",
   "execution_count": 8,
   "id": "f49c045a-4964-4eb0-89e9-2726792b1e08",
   "metadata": {
    "tags": []
   },
   "outputs": [
    {
     "name": "stdout",
     "output_type": "stream",
     "text": [
      "<class 'set'>\n",
      "<class 'dict'>\n"
     ]
    }
   ],
   "source": [
    "# create empty set\n",
    "s=set()#set\n",
    "d={}#dict\n",
    "print(type(s))\n",
    "print(type(d))"
   ]
  },
  {
   "cell_type": "code",
   "execution_count": 10,
   "id": "27c05230-43bc-423b-a55e-02e2974449e6",
   "metadata": {
    "tags": []
   },
   "outputs": [
    {
     "name": "stdout",
     "output_type": "stream",
     "text": [
      "<class 'tuple'> <class 'int'>\n"
     ]
    }
   ],
   "source": [
    "i=(1)\n",
    "t=(1,)\n",
    "print(type(t),type(i))"
   ]
  },
  {
   "cell_type": "code",
   "execution_count": null,
   "id": "166b93e7-3873-4253-b2d4-9a9759e1ad98",
   "metadata": {},
   "outputs": [],
   "source": [
    "# there is tuple inside set only\n",
    "# there is immutable data type in set like tuple\n",
    "# there is no data type inside set like list,dict"
   ]
  },
  {
   "cell_type": "code",
   "execution_count": 42,
   "id": "9061df5e-189f-46e2-b812-1d0d9c586841",
   "metadata": {
    "tags": []
   },
   "outputs": [
    {
     "name": "stdout",
     "output_type": "stream",
     "text": [
      "{'sita', 'gita', 'shayam', 'hari', 'ram'}\n"
     ]
    }
   ],
   "source": [
    "U={'gita', 'hari', 'john', 'max', 'prem', 'ram', 'shayam', 'shiva', 'sita','abc','xyz'}\n",
    "ms={'ram','hari','gita','shayam','sita','max'}\n",
    "apple={'ram','hari','gita','shayam','sita','shiva','prem','john'}\n",
    "# interesection->intersection values\n",
    "print(ms.intersection(apple))\n"
   ]
  },
  {
   "cell_type": "code",
   "execution_count": 43,
   "id": "c9ef9466-2c1b-4e4f-bb26-3ccac8f70a28",
   "metadata": {
    "tags": []
   },
   "outputs": [
    {
     "data": {
      "text/plain": [
       "{'gita', 'hari', 'john', 'max', 'prem', 'ram', 'shayam', 'shiva', 'sita'}"
      ]
     },
     "execution_count": 43,
     "metadata": {},
     "output_type": "execute_result"
    }
   ],
   "source": [
    "# merged values\n",
    "ms.union(apple)"
   ]
  },
  {
   "cell_type": "code",
   "execution_count": 44,
   "id": "e9d818c3-a3c4-402d-ace9-960ada348b3e",
   "metadata": {
    "tags": []
   },
   "outputs": [
    {
     "name": "stdout",
     "output_type": "stream",
     "text": [
      "{'max'}\n"
     ]
    }
   ],
   "source": [
    "# difference\n",
    "print(ms-apple)"
   ]
  },
  {
   "cell_type": "code",
   "execution_count": 45,
   "id": "64c0afea-7fff-4ede-a4f3-d9ca25bf27c1",
   "metadata": {
    "tags": []
   },
   "outputs": [
    {
     "data": {
      "text/plain": [
       "{'john', 'prem', 'shiva'}"
      ]
     },
     "execution_count": 45,
     "metadata": {},
     "output_type": "execute_result"
    }
   ],
   "source": [
    "\n",
    "apple - ms"
   ]
  },
  {
   "cell_type": "code",
   "execution_count": 47,
   "id": "92ada539-c3fc-4580-b580-2d66468efe16",
   "metadata": {
    "tags": []
   },
   "outputs": [
    {
     "data": {
      "text/plain": [
       "{'gita', 'hari', 'john', 'max', 'prem', 'ram', 'shayam', 'shiva', 'sita'}"
      ]
     },
     "execution_count": 47,
     "metadata": {},
     "output_type": "execute_result"
    }
   ],
   "source": [
    "un=ms.union(apple)\n",
    "un"
   ]
  },
  {
   "cell_type": "code",
   "execution_count": 48,
   "id": "ff086889-c108-4284-a6e7-c349de5ec946",
   "metadata": {
    "tags": []
   },
   "outputs": [
    {
     "data": {
      "text/plain": [
       "{'abc', 'xyz'}"
      ]
     },
     "execution_count": 48,
     "metadata": {},
     "output_type": "execute_result"
    }
   ],
   "source": [
    "U-un"
   ]
  },
  {
   "cell_type": "code",
   "execution_count": 49,
   "id": "5845f538-8188-47d0-8b19-5d8f5e5a22e5",
   "metadata": {
    "tags": []
   },
   "outputs": [
    {
     "name": "stdout",
     "output_type": "stream",
     "text": [
      "{'ball', 'apple'}\n"
     ]
    }
   ],
   "source": [
    "#add()\n",
    "a={'apple'}\n",
    "a.add('ball')\n",
    "print(a)"
   ]
  },
  {
   "cell_type": "code",
   "execution_count": 50,
   "id": "7b90b361-caa9-4e34-b9cf-e855de6f55a5",
   "metadata": {
    "tags": []
   },
   "outputs": [
    {
     "data": {
      "text/plain": [
       "{'ball'}"
      ]
     },
     "execution_count": 50,
     "metadata": {},
     "output_type": "execute_result"
    }
   ],
   "source": [
    "a={'ball', 'apple'}\n",
    "a.remove('apple')\n",
    "a"
   ]
  },
  {
   "cell_type": "code",
   "execution_count": null,
   "id": "de55b8fa-a326-45f2-a9a2-472b2842e26f",
   "metadata": {},
   "outputs": [],
   "source": [
    "# set can be inside in list,dict tuple"
   ]
  }
 ],
 "metadata": {
  "kernelspec": {
   "display_name": "Python 3 (ipykernel)",
   "language": "python",
   "name": "python3"
  },
  "language_info": {
   "codemirror_mode": {
    "name": "ipython",
    "version": 3
   },
   "file_extension": ".py",
   "mimetype": "text/x-python",
   "name": "python",
   "nbconvert_exporter": "python",
   "pygments_lexer": "ipython3",
   "version": "3.9.12"
  }
 },
 "nbformat": 4,
 "nbformat_minor": 5
}
