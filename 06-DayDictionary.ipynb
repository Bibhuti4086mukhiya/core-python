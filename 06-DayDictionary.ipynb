{
 "cells": [
  {
   "cell_type": "code",
   "execution_count": null,
   "id": "6e5dff2a-6085-4d43-903d-29a0ad905c02",
   "metadata": {},
   "outputs": [],
   "source": [
    "# Distionary\n",
    "# -Indexing \n",
    "# -Ordering---print(jasta ko testai)\n",
    "# -Multiple data\n",
    "# -Mutable"
   ]
  },
  {
   "cell_type": "code",
   "execution_count": null,
   "id": "f9fcaa82-c799-4d66-993a-c3851639d85b",
   "metadata": {},
   "outputs": [],
   "source": [
    "d=dict()"
   ]
  },
  {
   "cell_type": "code",
   "execution_count": null,
   "id": "04531309-a3ea-4157-8f3e-4af9ec308eb6",
   "metadata": {},
   "outputs": [],
   "source": [
    "d={<key>:<value>,<key>:<value>}"
   ]
  },
  {
   "cell_type": "code",
   "execution_count": 2,
   "id": "3c8e669c-01eb-40ba-b82d-7ca2a867140a",
   "metadata": {
    "tags": []
   },
   "outputs": [
    {
     "name": "stdout",
     "output_type": "stream",
     "text": [
      "<class 'dict'>\n",
      "{'a': 'apple', 'b': 'ball', 'c': 'cat'}\n"
     ]
    }
   ],
   "source": [
    "d={'a':'apple','b':'ball','c':'cat'}\n",
    "print(type(d))\n",
    "print(d)"
   ]
  },
  {
   "cell_type": "code",
   "execution_count": 5,
   "id": "8684902c-a20c-4c99-be99-72526ea7a9f8",
   "metadata": {
    "tags": []
   },
   "outputs": [
    {
     "name": "stdout",
     "output_type": "stream",
     "text": [
      "apple\n",
      "ball\n",
      "cat\n",
      "3\n"
     ]
    }
   ],
   "source": [
    "print(d['a'])\n",
    "print(d['b'])\n",
    "print(d['c'])\n",
    "print(len(d))"
   ]
  },
  {
   "cell_type": "code",
   "execution_count": 6,
   "id": "2aa57e26-fd42-4086-815e-794ce72919cf",
   "metadata": {
    "tags": []
   },
   "outputs": [
    {
     "data": {
      "text/plain": [
       "{'a': 'ant', 'b': 'ball', 'c': 'cat'}"
      ]
     },
     "execution_count": 6,
     "metadata": {},
     "output_type": "execute_result"
    }
   ],
   "source": [
    "d={'a':'apple','b':'ball','c':'cat','a':'ant'}#replace by last key value\n",
    "d"
   ]
  },
  {
   "cell_type": "code",
   "execution_count": 9,
   "id": "31907f7b-5b95-41ae-b357-56684162867c",
   "metadata": {
    "tags": []
   },
   "outputs": [
    {
     "data": {
      "text/plain": [
       "{'a': 'apple', 'b': 'ball', 'c': 'cat', 'A': 'Ant'}"
      ]
     },
     "execution_count": 9,
     "metadata": {},
     "output_type": "execute_result"
    }
   ],
   "source": [
    "d={'a':'apple','b':'ball','c':'cat','A':'Ant'}#key value should be unique\n",
    "d"
   ]
  },
  {
   "cell_type": "code",
   "execution_count": 14,
   "id": "d4e0feb3-af2b-43eb-a4e2-1bbf8e0e06fb",
   "metadata": {
    "tags": []
   },
   "outputs": [
    {
     "data": {
      "text/plain": [
       "{'a': 'apple', 'b': 'ball', 'c': 'cat', 'd': 'dog'}"
      ]
     },
     "execution_count": 14,
     "metadata": {},
     "output_type": "execute_result"
    }
   ],
   "source": [
    "d={}\n",
    "d['a']='apple'\n",
    "d['b']='ball'\n",
    "d['c']='cat'\n",
    "d['d']='dog'\n",
    "d"
   ]
  },
  {
   "cell_type": "code",
   "execution_count": 15,
   "id": "1968ebfb-d10f-4d84-9860-b25c4dd38f76",
   "metadata": {
    "tags": []
   },
   "outputs": [
    {
     "data": {
      "text/plain": [
       "{'a': 'Ant', 'b': 'ball', 'c': 'cat', 'd': 'dog'}"
      ]
     },
     "execution_count": 15,
     "metadata": {},
     "output_type": "execute_result"
    }
   ],
   "source": [
    "d={'a': 'apple', 'b': 'ball', 'c': 'cat', 'd': 'dog'}\n",
    "d['a']='Ant'\n",
    "d\n"
   ]
  },
  {
   "cell_type": "code",
   "execution_count": 16,
   "id": "26cb5bee-3fcf-42f6-be7b-ca2bf07c1b67",
   "metadata": {
    "tags": []
   },
   "outputs": [
    {
     "name": "stdin",
     "output_type": "stream",
     "text": [
      "enter n 2\n",
      "name =  bibhuti\n",
      "phone =  9876543\n",
      "name =  akash\n",
      "phone =  98765432\n"
     ]
    },
    {
     "name": "stdout",
     "output_type": "stream",
     "text": [
      "{'bibhuti': '9876543', 'akash': '98765432'}\n"
     ]
    }
   ],
   "source": [
    "info={}\n",
    "n=int(input('enter n'))\n",
    "for i in range(n):\n",
    "    name=input('name = ')    \n",
    "    phone=input('phone = ')\n",
    "    info[name]=phone#create dictionary\n",
    "print(info)#read"
   ]
  },
  {
   "cell_type": "code",
   "execution_count": 24,
   "id": "2da45160-198e-4124-88dd-2c24cfd8bb3d",
   "metadata": {
    "tags": []
   },
   "outputs": [
    {
     "name": "stdout",
     "output_type": "stream",
     "text": [
      "bibhuti\n",
      "akash\n",
      "\n",
      "bibhuti\n",
      "akash\n"
     ]
    }
   ],
   "source": [
    "for i in info:\n",
    "    print(i)\n",
    "print()\n",
    "for i in info.keys():\n",
    "    print(i)"
   ]
  },
  {
   "cell_type": "code",
   "execution_count": 20,
   "id": "59f8950a-d7df-4aac-9b4b-5691a8c3588f",
   "metadata": {
    "tags": []
   },
   "outputs": [
    {
     "name": "stdout",
     "output_type": "stream",
     "text": [
      "9876543\n",
      "98765432\n"
     ]
    }
   ],
   "source": [
    "for i in info.values():\n",
    "    print(i)#read"
   ]
  },
  {
   "cell_type": "code",
   "execution_count": 25,
   "id": "58ae96ee-1147-433b-8edd-f439d8372df3",
   "metadata": {
    "tags": []
   },
   "outputs": [
    {
     "name": "stdout",
     "output_type": "stream",
     "text": [
      "('bibhuti', '9876543')\n",
      "('akash', '98765432')\n"
     ]
    }
   ],
   "source": [
    "for i in info.items():#print in tuple form... if use items()\n",
    "    print(i)"
   ]
  },
  {
   "cell_type": "code",
   "execution_count": 26,
   "id": "cb15bdc2-c920-4b65-b2d6-4e63fead5e03",
   "metadata": {
    "tags": []
   },
   "outputs": [
    {
     "data": {
      "text/plain": [
       "[('bibhuti', '9876543'), ('akash', '98765432')]"
      ]
     },
     "execution_count": 26,
     "metadata": {},
     "output_type": "execute_result"
    }
   ],
   "source": [
    "l=[]\n",
    "for i in info.items():#print in tuple form... if use items()\n",
    "    l.append(i)#\n",
    "l"
   ]
  },
  {
   "cell_type": "code",
   "execution_count": 27,
   "id": "29703629-1319-4a4a-893b-ec7f7d11ee65",
   "metadata": {
    "tags": []
   },
   "outputs": [
    {
     "data": {
      "text/plain": [
       "{'bibhuti': '9876543', 'akash': '98765432'}"
      ]
     },
     "execution_count": 27,
     "metadata": {},
     "output_type": "execute_result"
    }
   ],
   "source": [
    "dict(l)#convert the list into dict() list have to only two value like keys and values"
   ]
  },
  {
   "cell_type": "code",
   "execution_count": 28,
   "id": "bad97484-37c7-4d21-961d-ed8e1f4ccff0",
   "metadata": {
    "tags": []
   },
   "outputs": [
    {
     "data": {
      "text/plain": [
       "{1: 1, 2: 2, 3: 3}"
      ]
     },
     "execution_count": 28,
     "metadata": {},
     "output_type": "execute_result"
    }
   ],
   "source": [
    "d=[[1,1],[2,2],[3,3]]\n",
    "dict(d)"
   ]
  },
  {
   "cell_type": "code",
   "execution_count": null,
   "id": "3d4712af-9299-4b38-be5c-b1799e6db34b",
   "metadata": {},
   "outputs": [],
   "source": [
    "# in dict no + - * / % // **"
   ]
  },
  {
   "cell_type": "code",
   "execution_count": 29,
   "id": "5e680241-ae6c-4327-ba25-4bdbbf487036",
   "metadata": {
    "tags": []
   },
   "outputs": [
    {
     "data": {
      "text/plain": [
       "{'bibhuti': '9876543', 'akash': '98765432', 1: 1, 2: 2, 3: 3}"
      ]
     },
     "execution_count": 29,
     "metadata": {},
     "output_type": "execute_result"
    }
   ],
   "source": [
    "a={'bibhuti': '9876543', 'akash': '98765432'}\n",
    "b={1: 1, 2: 2, 3: 3}\n",
    "a.update(b)#add the value\n",
    "a"
   ]
  },
  {
   "cell_type": "code",
   "execution_count": 30,
   "id": "4d9c7fd4-3ed4-4fee-9d89-f81ce9749ae0",
   "metadata": {
    "tags": []
   },
   "outputs": [
    {
     "data": {
      "text/plain": [
       "{'bibhuti': 981489340, 'akash': '98765432'}"
      ]
     },
     "execution_count": 30,
     "metadata": {},
     "output_type": "execute_result"
    }
   ],
   "source": [
    "a={'bibhuti': '9876543', 'akash': '98765432'}\n",
    "a['bibhuti']=981489340 #update\n",
    "a"
   ]
  },
  {
   "cell_type": "code",
   "execution_count": 31,
   "id": "1e4d2866-c647-4354-9251-d4cef326a1fd",
   "metadata": {
    "tags": []
   },
   "outputs": [
    {
     "data": {
      "text/plain": [
       "{'bibhuti': '9876543'}"
      ]
     },
     "execution_count": 31,
     "metadata": {},
     "output_type": "execute_result"
    }
   ],
   "source": [
    "# del pop()\n",
    "a={'bibhuti': '9876543', 'akash': '98765432'}\n",
    "del a['akash']#delete\n",
    "a"
   ]
  },
  {
   "cell_type": "code",
   "execution_count": 36,
   "id": "fe747f62-ebb0-4287-8715-ad6c6034557e",
   "metadata": {
    "tags": []
   },
   "outputs": [
    {
     "name": "stdout",
     "output_type": "stream",
     "text": [
      "98765432\n",
      "{'bibhuti': '9876543'}\n"
     ]
    }
   ],
   "source": [
    "a={'bibhuti': '9876543', 'akash': '98765432'}\n",
    "b=a.pop('akash')#move to to other dict\n",
    "print(b)\n",
    "print(a)\n"
   ]
  },
  {
   "cell_type": "code",
   "execution_count": 41,
   "id": "9066d3aa-8d51-436b-b85a-fa884305da39",
   "metadata": {
    "tags": []
   },
   "outputs": [
    {
     "data": {
      "text/plain": [
       "['111', '222']"
      ]
     },
     "execution_count": 41,
     "metadata": {},
     "output_type": "execute_result"
    }
   ],
   "source": [
    "# list inside dict()\n",
    "a={'bibhuti': ['111','222'], 'akash': ['333','444']}\n",
    "a['bibhuti']\n"
   ]
  },
  {
   "cell_type": "code",
   "execution_count": 43,
   "id": "a4e44467-d91c-457c-bf91-8a3b20032e9a",
   "metadata": {
    "tags": []
   },
   "outputs": [
    {
     "name": "stdout",
     "output_type": "stream",
     "text": [
      "222\n"
     ]
    }
   ],
   "source": [
    "print(a['bibhuti'][1])#read "
   ]
  },
  {
   "cell_type": "code",
   "execution_count": 46,
   "id": "f34fd827-be3e-4ad3-97fc-5a3831a3ecde",
   "metadata": {
    "tags": []
   },
   "outputs": [
    {
     "data": {
      "text/plain": [
       "{'bibhuti': ['111', '222'], 'akash': ['333', '444'], 'hari': [555, 666]}"
      ]
     },
     "execution_count": 46,
     "metadata": {},
     "output_type": "execute_result"
    }
   ],
   "source": [
    "a['hari']=[555,666]#add\n",
    "a"
   ]
  },
  {
   "cell_type": "code",
   "execution_count": 47,
   "id": "02308ce0-4204-4b3f-bcd9-8ca11ae61023",
   "metadata": {
    "tags": []
   },
   "outputs": [
    {
     "data": {
      "text/plain": [
       "{'bibhuti': ['111', '222'], 'akash': ['333', '444'], 'hari': [555, 777]}"
      ]
     },
     "execution_count": 47,
     "metadata": {},
     "output_type": "execute_result"
    }
   ],
   "source": [
    "a['hari'][1]=777#update\n",
    "a"
   ]
  },
  {
   "cell_type": "code",
   "execution_count": 49,
   "id": "61c7b3b7-19b3-4aab-90c7-d3dd1975c177",
   "metadata": {
    "tags": []
   },
   "outputs": [
    {
     "name": "stdin",
     "output_type": "stream",
     "text": [
      "enter n 2\n",
      "name =  ram\n",
      "phone ntc=  999\n",
      "phone necll=  888\n",
      "name =  shyam\n",
      "phone ntc=  777\n",
      "phone necll=  666\n"
     ]
    },
    {
     "name": "stdout",
     "output_type": "stream",
     "text": [
      "{'ram': ['999', '888'], 'shyam': ['777', '666']}\n"
     ]
    }
   ],
   "source": [
    "info={}#create null dictionary\n",
    "n=int(input('enter n'))\n",
    "for i in range(n):\n",
    "    name=input('name = ')    \n",
    "    ntc_phone=input('phone ntc= ')\n",
    "    necll_phone=input('phone necll= ')\n",
    "    info[name]=[ntc_phone,necll_phone]#create dictionary\n",
    "print(info)#read"
   ]
  },
  {
   "cell_type": "code",
   "execution_count": 50,
   "id": "c546d1e2-a5a3-48a5-b407-31f265c7f09c",
   "metadata": {
    "tags": []
   },
   "outputs": [
    {
     "data": {
      "text/plain": [
       "{'name': ['ram', 'shyam'], 'ntc': [9999, 8888], 'necll': [7777, 6666]}"
      ]
     },
     "execution_count": 50,
     "metadata": {},
     "output_type": "execute_result"
    }
   ],
   "source": [
    "data={'name':['ram','shyam'],\n",
    "      'ntc':[9999,8888],\n",
    "      'necll':[7777,6666]}\n",
    "data"
   ]
  },
  {
   "cell_type": "code",
   "execution_count": 51,
   "id": "07ab9bcf-a9f8-47b9-991e-71d4b1a096d2",
   "metadata": {
    "tags": []
   },
   "outputs": [
    {
     "name": "stdout",
     "output_type": "stream",
     "text": [
      "ram 9999 7777\n"
     ]
    }
   ],
   "source": [
    "# details of ram\n",
    "print(data['name'][0],data['ntc'][0],data['necll'][0])"
   ]
  },
  {
   "cell_type": "code",
   "execution_count": 1,
   "id": "160b3b5e-e850-4c7e-a282-b94bf26fdb2e",
   "metadata": {
    "tags": []
   },
   "outputs": [
    {
     "name": "stdin",
     "output_type": "stream",
     "text": [
      "enter n 2\n",
      "name =  tt\n",
      "phone ntc=  77\n",
      "phone necll=  99\n",
      "name =  uu\n",
      "phone ntc=  88\n",
      "phone necll=  00\n"
     ]
    },
    {
     "name": "stdout",
     "output_type": "stream",
     "text": [
      "{'name': ['tt', 'uu'], 'ntc': ['77', '88'], 'necll': ['99', '00']}\n"
     ]
    }
   ],
   "source": [
    "# how to create like this\n",
    "# data={'name':['ram','shyam'],\n",
    "#       'ntc':[9999,8888],\n",
    "#       'necll':[7777,6666]}\n",
    "# data\n",
    "\n",
    "info={'name':[],'ntc':[],'necll':[]}#create null dictionary\n",
    "n=int(input('enter n'))\n",
    "for i in range(n):\n",
    "    name=input('name = ')    \n",
    "    ntc_phone=input('phone ntc= ')\n",
    "    necll_phone=input('phone necll= ')\n",
    "    info['name'].append(name)#create dictionary\n",
    "    info['ntc'].append(ntc_phone)\n",
    "    info['necll'].append(necll_phone)\n",
    "print(info)\n"
   ]
  },
  {
   "cell_type": "code",
   "execution_count": 2,
   "id": "44356d14-74fe-4809-8f0a-8fc6e12f4c33",
   "metadata": {
    "tags": []
   },
   "outputs": [
    {
     "name": "stdin",
     "output_type": "stream",
     "text": [
      "enter i= 1\n"
     ]
    },
    {
     "name": "stdout",
     "output_type": "stream",
     "text": [
      "name uu ntc 88 necll 00 "
     ]
    }
   ],
   "source": [
    "l=len(info['name'])#search by name \n",
    "i=int(input('enter i='))\n",
    "for j in info:\n",
    "    print(j,info[j][i],end=' ')"
   ]
  },
  {
   "cell_type": "code",
   "execution_count": null,
   "id": "f94bb346-93c7-474b-8441-02b658f299db",
   "metadata": {},
   "outputs": [],
   "source": [
    "# how to create like this \n",
    "data=[{'name':'ram','ntc':'99999','necll':'888888'},\n",
    "     {'name':'shyam','ntc':'777777','necll':'666666'},\n",
    "     {'name':'hari','ntc':'555555','necll':'44444'}]\n"
   ]
  },
  {
   "cell_type": "code",
   "execution_count": 14,
   "id": "1ffc26bd-a5ce-4577-a61b-b0284d327a00",
   "metadata": {
    "tags": []
   },
   "outputs": [
    {
     "name": "stdin",
     "output_type": "stream",
     "text": [
      "enter n 2\n",
      "name =  ram\n",
      "phone ntc=  999\n",
      "phone necll=  888\n",
      "name =  shyam\n",
      "phone ntc=  77\n",
      "phone necll=  33\n"
     ]
    },
    {
     "name": "stdout",
     "output_type": "stream",
     "text": [
      "[{'name': 'ram', 'ntc': '999', 'necll': '888'}, {'name': 'shyam', 'ntc': '77', 'necll': '33'}]\n"
     ]
    }
   ],
   "source": [
    "info=[]\n",
    "n=int(input('enter n'))\n",
    "for i in range(n):\n",
    "    name=input('name = ')    \n",
    "    ntc_phone=input('phone ntc= ')\n",
    "    necll_phone=input('phone necll= ')\n",
    "    data={'name':name,'ntc':ntc_phone,'necll':necll_phone}\n",
    "    info.append(data)\n",
    "print(info)"
   ]
  },
  {
   "cell_type": "code",
   "execution_count": 15,
   "id": "2e15eb51-1af1-4124-b19b-2ea293d5a33d",
   "metadata": {
    "tags": []
   },
   "outputs": [
    {
     "data": {
      "text/plain": [
       "{'name': 'ram', 'ntc': '999', 'necll': '888'}"
      ]
     },
     "execution_count": 15,
     "metadata": {},
     "output_type": "execute_result"
    }
   ],
   "source": [
    "info[0]"
   ]
  },
  {
   "cell_type": "code",
   "execution_count": 16,
   "id": "c1176883-79b8-40d0-8370-a89a4129984a",
   "metadata": {
    "tags": []
   },
   "outputs": [
    {
     "data": {
      "text/plain": [
       "[{'name': 'ram', 'ntc': '98765432', 'necll': '98765432'},\n",
       " {'name': 'shyam', 'ntc': '77', 'necll': '33'}]"
      ]
     },
     "execution_count": 16,
     "metadata": {},
     "output_type": "execute_result"
    }
   ],
   "source": [
    "info[0]={'name': 'ram', 'ntc': '98765432', 'necll': '98765432'}#update\n",
    "info"
   ]
  },
  {
   "cell_type": "code",
   "execution_count": 17,
   "id": "efc9f36f-fbf7-4fc6-8c19-716bf0bde2b9",
   "metadata": {
    "tags": []
   },
   "outputs": [
    {
     "data": {
      "text/plain": [
       "[{'name': 'sita', 'ntc': '98765432', 'necll': '98765432'},\n",
       " {'name': 'shyam', 'ntc': '77', 'necll': '33'}]"
      ]
     },
     "execution_count": 17,
     "metadata": {},
     "output_type": "execute_result"
    }
   ],
   "source": [
    "info[0]['name']='sita'#selecting different column(update)\n",
    "info"
   ]
  },
  {
   "cell_type": "code",
   "execution_count": 19,
   "id": "56065b39-3c45-48ec-aa93-010e87498122",
   "metadata": {
    "tags": []
   },
   "outputs": [
    {
     "data": {
      "text/plain": [
       "{1: {'name': 'sita', 'ntc': '98765432', 'necll': '98765432'},\n",
       " 2: {'name': 'shyam', 'ntc': '77', 'necll': '33'}}"
      ]
     },
     "execution_count": 19,
     "metadata": {},
     "output_type": "execute_result"
    }
   ],
   "source": [
    "# dictionary inside dictionary\n",
    "d={1:{'name': 'sita', 'ntc': '98765432', 'necll': '98765432'},\n",
    "  2:{'name': 'shyam', 'ntc': '77', 'necll': '33'}}\n",
    "d"
   ]
  },
  {
   "cell_type": "code",
   "execution_count": 20,
   "id": "d15b55aa-cdec-4e6a-b83b-0b841805a173",
   "metadata": {
    "tags": []
   },
   "outputs": [
    {
     "name": "stdin",
     "output_type": "stream",
     "text": [
      "enter n 2\n",
      "name =  ram\n",
      "phone ntc=  98765\n",
      "phone necll=  765\n",
      "name =  shyam\n",
      "phone ntc=  543\n",
      "phone necll=  321234\n"
     ]
    },
    {
     "name": "stdout",
     "output_type": "stream",
     "text": [
      "{1: {'name': 'ram', 'ntc': '98765', 'necll': '765'}, 2: {'name': 'shyam', 'ntc': '543', 'necll': '321234'}}\n"
     ]
    }
   ],
   "source": [
    "info={} #dict inside dict\n",
    "n=int(input('enter n'))\n",
    "for i in range(1,n+1):\n",
    "    name=input('name = ')    \n",
    "    ntc_phone=input('phone ntc= ')\n",
    "    necll_phone=input('phone necll= ')\n",
    "    data={'name':name,'ntc':ntc_phone,'necll':necll_phone}\n",
    "    info[i]=data\n",
    "    #info[i] key = data value\n",
    "print(info)"
   ]
  },
  {
   "cell_type": "code",
   "execution_count": 58,
   "id": "8d8f3a6f-345d-4b58-8285-320342235920",
   "metadata": {
    "tags": []
   },
   "outputs": [
    {
     "data": {
      "text/plain": [
       "'ram'"
      ]
     },
     "execution_count": 58,
     "metadata": {},
     "output_type": "execute_result"
    }
   ],
   "source": [
    "# indexing\n",
    "info={1: {'name': 'ram', 'ntc': '98765', 'necll': '765'},\n",
    "      2: {'name': 'shyam', 'ntc': '543', 'necll': '321234'}}\n",
    "info[1]['name']\n"
   ]
  },
  {
   "cell_type": "code",
   "execution_count": 41,
   "id": "17cf5ae6-8bd9-4026-a4a8-fd3fbfdcc26b",
   "metadata": {
    "tags": []
   },
   "outputs": [
    {
     "data": {
      "text/plain": [
       "{1: {'name': 'hari', 'ntc': '98765', 'necll': '765'},\n",
       " 2: {'name': 'shyam', 'ntc': '543', 'necll': '321234'}}"
      ]
     },
     "execution_count": 55,
     "metadata": {},
     "output_type": "execute_result"
    }
   ],
   "source": [
    "# indexing\n",
    "info={1: {'name': 'ram', 'ntc': '98765', 'necll': '765'},\n",
    "      2: {'name': 'shyam', 'ntc': '543', 'necll': '321234'}}\n",
    "info[1]['name']='hari'\n",
    "info"
   ]
  },
  {
   "cell_type": "code",
   "execution_count": 60,
   "id": "0734b27c-4d73-49e9-a666-597788418053",
   "metadata": {
    "tags": []
   },
   "outputs": [
    {
     "data": {
      "text/plain": [
       "{2: {'name': 'shyam', 'ntc': '543', 'necll': '321234'}}"
      ]
     },
     "execution_count": 60,
     "metadata": {},
     "output_type": "execute_result"
    }
   ],
   "source": [
    "info={1: {'name': 'ram', 'ntc': '98765', 'necll': '765'},\n",
    "      2: {'name': 'shyam', 'ntc': '543', 'necll': '321234'}}\n",
    "del info[1]\n",
    "info"
   ]
  },
  {
   "cell_type": "code",
   "execution_count": 62,
   "id": "a60ec501-727e-4e03-9dd4-a422d06b182a",
   "metadata": {
    "tags": []
   },
   "outputs": [
    {
     "data": {
      "text/plain": [
       "{1: {'name': 'ram', 'ntc': '98765', 'necll': '765'},\n",
       " 2: {'name': 'shyam', 'ntc': '543', 'necll': '321234'}}"
      ]
     },
     "execution_count": 62,
     "metadata": {},
     "output_type": "execute_result"
    }
   ],
   "source": [
    "info={1: {'name': 'ram', 'ntc': '98765', 'necll': '765'},\n",
    "      2: {'name': 'shyam', 'ntc': '543', 'necll': '321234'}}\n",
    "info"
   ]
  },
  {
   "cell_type": "code",
   "execution_count": 64,
   "id": "d0eee0e9-4a9d-4e14-b1dc-083471e04ee9",
   "metadata": {
    "tags": []
   },
   "outputs": [
    {
     "data": {
      "text/plain": [
       "{1: {'name': 'ram', 'ntc': '98765', 'necll': '765'},\n",
       " 2: {'name': 'shyam', 'ntc': '543', 'necll': '321234'},\n",
       " 3: {'name': 'hari', 'ntc': '98765', 'necll': '765'}}"
      ]
     },
     "execution_count": 64,
     "metadata": {},
     "output_type": "execute_result"
    }
   ],
   "source": [
    "info[3]={'name': 'hari', 'ntc': '98765', 'necll': '765'}#add the value and add number of value by loop\n",
    "info"
   ]
  },
  {
   "cell_type": "code",
   "execution_count": 65,
   "id": "b4afa523-2bf2-4a07-a78a-ebc201051689",
   "metadata": {
    "tags": []
   },
   "outputs": [
    {
     "data": {
      "text/plain": [
       "{1.1: 'apple', 'b': 'ball', 'c': 'cat'}"
      ]
     },
     "execution_count": 65,
     "metadata": {},
     "output_type": "execute_result"
    }
   ],
   "source": [
    "d={1.1:'apple','b':'ball','c':'cat'}\n",
    "d"
   ]
  },
  {
   "cell_type": "code",
   "execution_count": 66,
   "id": "c94b8983-29ad-4506-9244-6d7faa2a8c61",
   "metadata": {
    "tags": []
   },
   "outputs": [
    {
     "ename": "TypeError",
     "evalue": "unhashable type: 'list'",
     "output_type": "error",
     "traceback": [
      "\u001b[1;31m---------------------------------------------------------------------------\u001b[0m",
      "\u001b[1;31mTypeError\u001b[0m                                 Traceback (most recent call last)",
      "Cell \u001b[1;32mIn[66], line 1\u001b[0m\n\u001b[1;32m----> 1\u001b[0m d\u001b[38;5;241m=\u001b[39m{[\u001b[38;5;124m'\u001b[39m\u001b[38;5;124mbibhuti\u001b[39m\u001b[38;5;124m'\u001b[39m,\u001b[38;5;124m'\u001b[39m\u001b[38;5;124mhari\u001b[39m\u001b[38;5;124m'\u001b[39m]: \u001b[38;5;124m'\u001b[39m\u001b[38;5;124m9876543\u001b[39m\u001b[38;5;124m'\u001b[39m, \u001b[38;5;124m'\u001b[39m\u001b[38;5;124makash\u001b[39m\u001b[38;5;124m'\u001b[39m: \u001b[38;5;124m'\u001b[39m\u001b[38;5;124m98765432\u001b[39m\u001b[38;5;124m'\u001b[39m}\n\u001b[0;32m      2\u001b[0m d\n",
      "\u001b[1;31mTypeError\u001b[0m: unhashable type: 'list'"
     ]
    }
   ],
   "source": [
    "d={['bibhuti','hari']: '9876543', 'akash': '98765432'}\n",
    "d"
   ]
  },
  {
   "cell_type": "code",
   "execution_count": 68,
   "id": "e8fb2e0a-fc50-46e9-b6f3-7172c70d7c3c",
   "metadata": {
    "tags": []
   },
   "outputs": [
    {
     "data": {
      "text/plain": [
       "{('bibhuti', 'hari'): '9876543', 'akash': '98765432'}"
      ]
     },
     "execution_count": 68,
     "metadata": {},
     "output_type": "execute_result"
    }
   ],
   "source": [
    "d={('bibhuti','hari'): '9876543', 'akash': '98765432'}\n",
    "d"
   ]
  },
  {
   "cell_type": "code",
   "execution_count": 69,
   "id": "7c32ab92-ff8f-4969-af7f-d7a9895b68d2",
   "metadata": {
    "tags": []
   },
   "outputs": [
    {
     "data": {
      "text/plain": [
       "'9876543'"
      ]
     },
     "execution_count": 69,
     "metadata": {},
     "output_type": "execute_result"
    }
   ],
   "source": [
    "d[('bibhuti', 'hari')]"
   ]
  },
  {
   "cell_type": "code",
   "execution_count": null,
   "id": "b98ff075-f8e2-4707-aa88-37fc4129e847",
   "metadata": {},
   "outputs": [],
   "source": []
  }
 ],
 "metadata": {
  "kernelspec": {
   "display_name": "Python 3 (ipykernel)",
   "language": "python",
   "name": "python3"
  },
  "language_info": {
   "codemirror_mode": {
    "name": "ipython",
    "version": 3
   },
   "file_extension": ".py",
   "mimetype": "text/x-python",
   "name": "python",
   "nbconvert_exporter": "python",
   "pygments_lexer": "ipython3",
   "version": "3.9.12"
  }
 },
 "nbformat": 4,
 "nbformat_minor": 5
}
