{
 "cells": [
  {
   "cell_type": "code",
   "execution_count": null,
   "id": "69af3f19-1774-4903-a1dc-9c0fe8bf4aa7",
   "metadata": {},
   "outputs": [],
   "source": [
    "# python collection\n",
    "# list \n",
    "# tuple\n",
    "# dictionary\n",
    "# set"
   ]
  },
  {
   "cell_type": "code",
   "execution_count": null,
   "id": "50c8239e-d5b3-4123-bd99-c273f88829da",
   "metadata": {},
   "outputs": [],
   "source": [
    "# List\n",
    "# -indexing \n",
    "# -multiple data and duplicate data\n",
    "# -ordered\n",
    "# -mutable"
   ]
  },
  {
   "cell_type": "code",
   "execution_count": null,
   "id": "28225e13-1947-4669-bffe-f53427142a63",
   "metadata": {
    "tags": []
   },
   "outputs": [
    {
     "name": "stdout",
     "output_type": "stream",
     "text": [
      "<class 'list'> <class 'list'> <class 'list'>\n"
     ]
    }
   ],
   "source": [
    "b=[]\n",
    "c=list()\n",
    "a=['apple','ball','cat','fish']\n",
    "d=['apple',1,2,3.5,4,5]\n",
    "print(type(a),type(b),type(c))"
   ]
  },
  {
   "cell_type": "code",
   "execution_count": 7,
   "id": "8312cfaa-b931-4566-8e18-a17b196cd657",
   "metadata": {
    "tags": []
   },
   "outputs": [
    {
     "name": "stdout",
     "output_type": "stream",
     "text": [
      "cat\n",
      "['apple', 'ball', 'cat', 'fish']\n",
      "['apple', 'cat']\n"
     ]
    }
   ],
   "source": [
    "# indexing support\n",
    "a=['apple','ball','cat','fish']\n",
    "print(a[2])\n",
    "print(a[0:4])\n",
    "print(a[0:4:2])"
   ]
  },
  {
   "cell_type": "code",
   "execution_count": 8,
   "id": "04967c2d-1a06-4973-8218-39b180eabb19",
   "metadata": {
    "tags": []
   },
   "outputs": [
    {
     "name": "stdout",
     "output_type": "stream",
     "text": [
      "['apple', 'ball', 'cat', 'fish']\n"
     ]
    }
   ],
   "source": [
    "# ordered-->\n",
    "a=['apple','ball','cat','fish']\n",
    "print(a)"
   ]
  },
  {
   "cell_type": "code",
   "execution_count": 10,
   "id": "dc5d6f3e-cce8-437b-8b3b-eb69f662a4cd",
   "metadata": {
    "tags": []
   },
   "outputs": [
    {
     "name": "stdout",
     "output_type": "stream",
     "text": [
      "['apple', 'ball', 'cat', 'fish', 'apple', 1, 2, 3.5, 4, 5]\n"
     ]
    }
   ],
   "source": [
    "a=['apple','ball','cat','fish']\n",
    "d=['apple',1,2,3.5,4,5]\n",
    "print(a+d)# concatinate two list"
   ]
  },
  {
   "cell_type": "code",
   "execution_count": 11,
   "id": "d8a208af-657c-4d63-8977-e40e94a89b6b",
   "metadata": {
    "tags": []
   },
   "outputs": [
    {
     "name": "stdout",
     "output_type": "stream",
     "text": [
      "['apple', 'ball', 'cat', 'fish', 'apple', 'ball', 'cat', 'fish']\n"
     ]
    }
   ],
   "source": [
    "a=['apple','ball','cat','fish']#enlarge the value but we do not enlarge. list is for only data collection\n",
    "print(a*2)"
   ]
  },
  {
   "cell_type": "code",
   "execution_count": 12,
   "id": "332a7c2e-3a85-4401-be4f-82e54a1e5ca1",
   "metadata": {
    "tags": []
   },
   "outputs": [
    {
     "name": "stdout",
     "output_type": "stream",
     "text": [
      "[1, 2, 3, 4, 1, 2, 3, 4]\n"
     ]
    }
   ],
   "source": [
    "# list is for only data collection\n",
    "a=[1,2,3,4]\n",
    "print(a*2)"
   ]
  },
  {
   "cell_type": "code",
   "execution_count": 17,
   "id": "af113203-df5c-43fa-bf13-168a4fb97978",
   "metadata": {
    "tags": []
   },
   "outputs": [
    {
     "name": "stdout",
     "output_type": "stream",
     "text": [
      "enter n= 4\n",
      "enter x= 123\n",
      "enter x= 12\n",
      "enter x= 4\n",
      "enter x= 667\n"
     ]
    },
    {
     "name": "stdout",
     "output_type": "stream",
     "text": [
      "[123, 12, 4, 667]\n"
     ]
    }
   ],
   "source": [
    "l=[]\n",
    "n=int(input('enter n='))\n",
    "for i in range(n):\n",
    "    x=int(input('enter x='))\n",
    "    l+=[x]\n",
    "print(l)"
   ]
  },
  {
   "cell_type": "code",
   "execution_count": 5,
   "id": "0f68e6db-3cb5-4c6a-9e1d-580117b3f3fd",
   "metadata": {
    "tags": []
   },
   "outputs": [
    {
     "name": "stdout",
     "output_type": "stream",
     "text": [
      "the max value is =  4\n",
      "the min value is =  1\n",
      "the sum is =  10\n",
      "the average is =  2.5\n",
      "[1, 2, 3, 4]\n",
      "[4, 3, 2, 1]\n"
     ]
    }
   ],
   "source": [
    "print(\"the max value is = \",max(l))\n",
    "print(\"the min value is = \",min(l))\n",
    "print(\"the sum is = \",sum(l))\n",
    "print(\"the average is = \",sum(l)/len(l))\n",
    "l.sort()\n",
    "print(l)\n",
    "l.reverse()\n",
    "print(l)\n"
   ]
  },
  {
   "cell_type": "code",
   "execution_count": 27,
   "id": "3b8e913c-6473-4fe1-9a1b-a529d8980e1a",
   "metadata": {
    "tags": []
   },
   "outputs": [
    {
     "name": "stdout",
     "output_type": "stream",
     "text": [
      "['aPPle', 'ball', 'cat', 'dog', 'mango', 'zebra']\n"
     ]
    }
   ],
   "source": [
    "a=['zebra','aPPle','ball','mango','cat','dog']\n",
    "a.sort()\n",
    "print(a)"
   ]
  },
  {
   "cell_type": "code",
   "execution_count": 28,
   "id": "f02ec92f-622d-464f-8aad-e057d40ac48c",
   "metadata": {
    "tags": []
   },
   "outputs": [
    {
     "data": {
      "text/plain": [
       "'apple'"
      ]
     },
     "execution_count": 28,
     "metadata": {},
     "output_type": "execute_result"
    }
   ],
   "source": [
    "a[0].lower() #code run from left to right"
   ]
  },
  {
   "cell_type": "code",
   "execution_count": 30,
   "id": "083e13e1-2e09-4f5d-ac0e-e3013cece9d0",
   "metadata": {
    "tags": []
   },
   "outputs": [
    {
     "name": "stdout",
     "output_type": "stream",
     "text": [
      "zebra\n",
      "aPPle\n",
      "ball\n",
      "mango\n",
      "cat\n",
      "dog\n"
     ]
    },
    {
     "data": {
      "text/plain": [
       "6"
      ]
     },
     "execution_count": 30,
     "metadata": {},
     "output_type": "execute_result"
    }
   ],
   "source": [
    "a=['zebra','aPPle','ball','mango','cat','dog']\n",
    "for i in a:\n",
    "    print(i)\n",
    "len(a)"
   ]
  },
  {
   "cell_type": "code",
   "execution_count": 31,
   "id": "5c9b5200-eeed-417b-8ade-7fcd0ac467b7",
   "metadata": {
    "tags": []
   },
   "outputs": [
    {
     "name": "stdout",
     "output_type": "stream",
     "text": [
      "zebra\n",
      "aPPle\n",
      "ball\n",
      "mango\n",
      "cat\n",
      "dog\n"
     ]
    },
    {
     "data": {
      "text/plain": [
       "6"
      ]
     },
     "execution_count": 31,
     "metadata": {},
     "output_type": "execute_result"
    }
   ],
   "source": [
    "# len() is use for list:element string:character set:value  \n",
    "# dictionary:key:value it count the element\n",
    "a=['zebra','aPPle','ball','mango','cat','dog']\n",
    "for i in range(len(a)):\n",
    "    print(a[i])\n",
    "len(a)"
   ]
  },
  {
   "cell_type": "code",
   "execution_count": 35,
   "id": "5271f19d-a04e-49e1-b0fd-78989eccce5f",
   "metadata": {
    "tags": []
   },
   "outputs": [
    {
     "name": "stdout",
     "output_type": "stream",
     "text": [
      "yes\n",
      "2\n"
     ]
    }
   ],
   "source": [
    "a=['zebra','aPPle','ball','mango','cat','dog','dog']\n",
    "if 'cat' in a:\n",
    "    print('yes')\n",
    "    print(a.count('dog'))"
   ]
  },
  {
   "cell_type": "code",
   "execution_count": 37,
   "id": "b94ef7c6-5e56-468a-bec4-aca9d24f729a",
   "metadata": {
    "tags": []
   },
   "outputs": [
    {
     "data": {
      "text/plain": [
       "['zebra', 'aPPle', 'ball', 'mango', 'cat', 'dog', 'dog', 'fish']"
      ]
     },
     "execution_count": 37,
     "metadata": {},
     "output_type": "execute_result"
    }
   ],
   "source": [
    "# append() insert() extend()\n",
    "# append():add in the list at last\n",
    "\n",
    "a=['zebra','aPPle','ball','mango','cat','dog','dog']\n",
    "a.append('fish')#one time add one element\n",
    "a"
   ]
  },
  {
   "cell_type": "code",
   "execution_count": 39,
   "id": "be6d0819-9652-4417-ae4f-8f5863816438",
   "metadata": {
    "tags": []
   },
   "outputs": [
    {
     "data": {
      "text/plain": [
       "['zebra', 'fish', 'aPPle', 'ball', 'mango', 'cat', 'dog', 'dog']"
      ]
     },
     "execution_count": 39,
     "metadata": {},
     "output_type": "execute_result"
    }
   ],
   "source": [
    "# insert():put where is want\n",
    "a=['zebra','aPPle','ball','mango','cat','dog','dog']\n",
    "a.insert(1,'fish')#o\n",
    "a\n"
   ]
  },
  {
   "cell_type": "code",
   "execution_count": 40,
   "id": "927448f4-47d8-4b7e-a178-21c16ca70e8e",
   "metadata": {
    "tags": []
   },
   "outputs": [
    {
     "data": {
      "text/plain": [
       "['zebra', 'aPPle', 'ball', 'mango', 'cat', 'dog', 'dog', 1, 2, 3, 4]"
      ]
     },
     "execution_count": 40,
     "metadata": {},
     "output_type": "execute_result"
    }
   ],
   "source": [
    "# extend():add multiple value\n",
    "a=['zebra','aPPle','ball','mango','cat','dog','dog']\n",
    "b=[1,2,3,4]\n",
    "a.extend(b)\n",
    "a"
   ]
  },
  {
   "cell_type": "code",
   "execution_count": 41,
   "id": "7b61675e-c28b-43c6-86df-d3835c3772ae",
   "metadata": {
    "tags": []
   },
   "outputs": [
    {
     "data": {
      "text/plain": [
       "['a', 'p', 'p', 'l', 'e']"
      ]
     },
     "execution_count": 41,
     "metadata": {},
     "output_type": "execute_result"
    }
   ],
   "source": [
    "a='apple'\n",
    "b=list(a)#list function convert into list\n",
    "b"
   ]
  },
  {
   "cell_type": "code",
   "execution_count": 42,
   "id": "57dda625-2ab3-4424-b77e-0c1efdefa1c7",
   "metadata": {
    "tags": []
   },
   "outputs": [
    {
     "data": {
      "text/plain": [
       "\"['a', 'p', 'p', 'l', 'e']\""
      ]
     },
     "execution_count": 42,
     "metadata": {},
     "output_type": "execute_result"
    }
   ],
   "source": [
    "c=str(b)# but str function convert whole list into string\n",
    "c"
   ]
  },
  {
   "cell_type": "code",
   "execution_count": 43,
   "id": "ed856e35-3142-49b6-8fc2-deab14a3d15b",
   "metadata": {
    "tags": []
   },
   "outputs": [
    {
     "name": "stdout",
     "output_type": "stream",
     "text": [
      "enter n= 3\n",
      "enter x= 2\n",
      "enter x= 6\n",
      "enter x= 8\n"
     ]
    },
    {
     "name": "stdout",
     "output_type": "stream",
     "text": [
      "[2, 6, 8]\n"
     ]
    }
   ],
   "source": [
    "l=[]\n",
    "n=int(input('enter n='))\n",
    "for i in range(n):\n",
    "    x=int(input('enter x='))\n",
    "    l.append(x)\n",
    "print(l)"
   ]
  },
  {
   "cell_type": "code",
   "execution_count": 47,
   "id": "50e3b598-db45-4317-9348-e9f44cc257cd",
   "metadata": {
    "tags": []
   },
   "outputs": [
    {
     "data": {
      "text/plain": [
       "['ant', 'ball', 'cat', 'dog']"
      ]
     },
     "execution_count": 47,
     "metadata": {},
     "output_type": "execute_result"
    }
   ],
   "source": [
    "# update or edit list\n",
    "\n",
    "a=['apple','ball','cat','dog']\n",
    "a[0]=\"ant\"\n",
    "a"
   ]
  },
  {
   "cell_type": "code",
   "execution_count": 2,
   "id": "46617b68-1fd2-409b-867a-54f4639c90a1",
   "metadata": {
    "tags": []
   },
   "outputs": [
    {
     "data": {
      "text/plain": [
       "['APPLE', 'ball', 'cat', 'dog']"
      ]
     },
     "execution_count": 2,
     "metadata": {},
     "output_type": "execute_result"
    }
   ],
   "source": [
    "a=['apple','ball','cat','dog']\n",
    "a[0]=a[0].upper()\n",
    "a"
   ]
  },
  {
   "cell_type": "code",
   "execution_count": 49,
   "id": "10e377fa-c222-4945-9e51-5e948b2b467a",
   "metadata": {
    "tags": []
   },
   "outputs": [
    {
     "data": {
      "text/plain": [
       "['ball', 'cat', 'dog']"
      ]
     },
     "execution_count": 49,
     "metadata": {},
     "output_type": "execute_result"
    }
   ],
   "source": [
    "# del remove() pop()\n",
    "a=['apple','ball','cat','dog']\n",
    "del a[0]\n",
    "a"
   ]
  },
  {
   "cell_type": "code",
   "execution_count": 50,
   "id": "08bec0e7-f4ca-4b99-9a25-992446b52922",
   "metadata": {
    "tags": []
   },
   "outputs": [
    {
     "data": {
      "text/plain": [
       "['cat', 'dog']"
      ]
     },
     "execution_count": 50,
     "metadata": {},
     "output_type": "execute_result"
    }
   ],
   "source": [
    "# del remove() pop()\n",
    "a=['apple','ball','cat','dog']\n",
    "del a[0:2]\n",
    "a"
   ]
  },
  {
   "cell_type": "code",
   "execution_count": 52,
   "id": "c8b1b4cc-fa43-4bae-8f8b-051c0aac4423",
   "metadata": {
    "tags": []
   },
   "outputs": [
    {
     "name": "stdout",
     "output_type": "stream",
     "text": [
      "['ball', 'cat', 'dog']\n",
      "apple\n"
     ]
    }
   ],
   "source": [
    "# del remove() pop()\n",
    "# pop() it move the list to other list\n",
    "a=['apple','ball','cat','dog']\n",
    "b=a.pop(0)#index \n",
    "print(a)\n",
    "print(b)"
   ]
  },
  {
   "cell_type": "code",
   "execution_count": 53,
   "id": "c6993387-2bd9-403d-8ac8-59fa9e538d9b",
   "metadata": {
    "tags": []
   },
   "outputs": [
    {
     "name": "stdout",
     "output_type": "stream",
     "text": [
      "['apple', 'ball', 'cat']\n",
      "dog\n"
     ]
    }
   ],
   "source": [
    "a=['apple','ball','cat','dog']\n",
    "b=a.pop() #It move last element from list without index\n",
    "print(a)\n",
    "print(b)"
   ]
  },
  {
   "cell_type": "code",
   "execution_count": 58,
   "id": "7d64c216-8944-41a6-bc4f-39bba7ca768f",
   "metadata": {
    "tags": []
   },
   "outputs": [
    {
     "data": {
      "text/plain": [
       "['apple', 'cat', 'dog', 'ball']"
      ]
     },
     "execution_count": 58,
     "metadata": {},
     "output_type": "execute_result"
    }
   ],
   "source": [
    "a=['apple','ball','cat','dog','ball']\n",
    "a.remove('ball')\n",
    "a"
   ]
  },
  {
   "cell_type": "code",
   "execution_count": 9,
   "id": "da9a2995-15d1-4c68-af59-661a26f1191f",
   "metadata": {},
   "outputs": [
    {
     "name": "stdout",
     "output_type": "stream",
     "text": [
      "enter remove word cat\n"
     ]
    },
    {
     "name": "stdout",
     "output_type": "stream",
     "text": [
      "index at 2\n"
     ]
    }
   ],
   "source": [
    "# write a program to calculate index of any value\n",
    "rem_word=input('enter remove word')\n",
    "a=['apple','ball','cat','dog','ball']\n",
    "for i in range(1,len(a)):\n",
    "    if rem_word==a[i]:\n",
    "        print('index at',i)\n"
   ]
  },
  {
   "cell_type": "code",
   "execution_count": null,
   "id": "c1fb35a3-7220-4bb5-8868-12d8936117fe",
   "metadata": {},
   "outputs": [],
   "source": []
  },
  {
   "cell_type": "code",
   "execution_count": 2,
   "id": "552f906f-5f90-48ed-8adb-3b158adab991",
   "metadata": {
    "tags": []
   },
   "outputs": [
    {
     "name": "stdout",
     "output_type": "stream",
     "text": [
      "enter remove word apple\n"
     ]
    },
    {
     "name": "stdout",
     "output_type": "stream",
     "text": [
      "['ball', 'cat', 'dog', 'ball']\n"
     ]
    }
   ],
   "source": [
    "# write a program to remove multiple value\n",
    "rem_word=input('enter remove word:')\n",
    "a=['ball','cat','dog','ball','apple']\n",
    "for i in a:\n",
    "    if rem_word==i: \n",
    "        a.remove(rem_word)\n",
    "print(a)"
   ]
  },
  {
   "cell_type": "code",
   "execution_count": 1,
   "id": "b3f8782a-e348-41b7-b200-8c79fe8db3ce",
   "metadata": {
    "tags": []
   },
   "outputs": [
    {
     "name": "stdout",
     "output_type": "stream",
     "text": [
      "enter remove word ball\n"
     ]
    },
    {
     "name": "stdout",
     "output_type": "stream",
     "text": [
      "['cat', 'dog', 'apple']\n"
     ]
    }
   ],
   "source": [
    "# write a program to remove multiple value\n",
    "\n",
    "a=['ball','cat','dog','ball','apple']\n",
    "rem_word=input('enter remove word')\n",
    "l=a.count(rem_word)\n",
    "for i in range(l):\n",
    "    a.remove(rem_word)\n",
    "print(a)"
   ]
  },
  {
   "cell_type": "code",
   "execution_count": 34,
   "id": "f8398c9a-e01d-4f9b-9683-ace9c6d9940b",
   "metadata": {
    "tags": []
   },
   "outputs": [
    {
     "name": "stdout",
     "output_type": "stream",
     "text": [
      "enter remove word ball\n"
     ]
    },
    {
     "name": "stdout",
     "output_type": "stream",
     "text": [
      "['cat', 'dog', 'apple']\n"
     ]
    }
   ],
   "source": [
    "rem_word=input('enter remove word').lower()\n",
    "a=['Ball','cat','dog','ball','apple']\n",
    "for i in a:\n",
    "    if i.lower()==rem_word: \n",
    "        a.remove(i)\n",
    "print(a)"
   ]
  },
  {
   "cell_type": "code",
   "execution_count": 28,
   "id": "c8e5b738-3095-4444-8771-63b0e7f1734c",
   "metadata": {
    "tags": []
   },
   "outputs": [
    {
     "data": {
      "text/plain": [
       "['Ball', 'dog', 'ball', 'apple']"
      ]
     },
     "execution_count": 28,
     "metadata": {},
     "output_type": "execute_result"
    }
   ],
   "source": [
    "a=['Ball','cat','dog','ball','apple']\n",
    "a.remove('cat')\n",
    "a"
   ]
  },
  {
   "cell_type": "code",
   "execution_count": 29,
   "id": "cf081820-2b3b-44e1-b28c-e879e7c1f345",
   "metadata": {
    "tags": []
   },
   "outputs": [
    {
     "name": "stdout",
     "output_type": "stream",
     "text": [
      "<class 'list'>\n",
      "[[1, 2, 3], [4, 5, 6], [7, 8, 9]]\n",
      "3\n"
     ]
    }
   ],
   "source": [
    "# List inside list\n",
    "a=[[1,2,3],[4,5,6],[7,8,9]]\n",
    "print(type(a))\n",
    "print(a)\n",
    "print(len(a))"
   ]
  },
  {
   "cell_type": "code",
   "execution_count": 30,
   "id": "0990172d-4278-4820-995a-ada7c6567ec2",
   "metadata": {
    "tags": []
   },
   "outputs": [
    {
     "name": "stdout",
     "output_type": "stream",
     "text": [
      "[7, 8, 9]\n"
     ]
    }
   ],
   "source": [
    "print(a[2])"
   ]
  },
  {
   "cell_type": "code",
   "execution_count": 31,
   "id": "36aeb48e-8d32-4d8e-a61d-3871b45d916b",
   "metadata": {
    "tags": []
   },
   "outputs": [
    {
     "name": "stdout",
     "output_type": "stream",
     "text": [
      "1\n"
     ]
    }
   ],
   "source": [
    "print(a[0][0])"
   ]
  },
  {
   "cell_type": "code",
   "execution_count": 39,
   "id": "e54ece92-2d5e-4c94-97fc-aa96dbf07719",
   "metadata": {
    "tags": []
   },
   "outputs": [
    {
     "data": {
      "text/plain": [
       "[['ram', 45, 'kathmandu'], ['hari', 35, 'dhanusha'], ['shiv', 55, 'kalash']]"
      ]
     },
     "execution_count": 39,
     "metadata": {},
     "output_type": "execute_result"
    }
   ],
   "source": [
    "a=[['ram',45,'kathmandu'],\n",
    "   ['hari',35,'dhanusha'],\n",
    "   ['shiv',55,'kalash']]\n",
    "a"
   ]
  },
  {
   "cell_type": "code",
   "execution_count": 41,
   "id": "b48b49fe-1a60-4bff-9572-aac3f9b00013",
   "metadata": {
    "tags": []
   },
   "outputs": [
    {
     "data": {
      "text/plain": [
       "35"
      ]
     },
     "execution_count": 41,
     "metadata": {},
     "output_type": "execute_result"
    }
   ],
   "source": [
    "a[1][1]"
   ]
  },
  {
   "cell_type": "code",
   "execution_count": 47,
   "id": "2621d7cc-074c-4767-8396-f31dc72d0b26",
   "metadata": {
    "tags": []
   },
   "outputs": [
    {
     "name": "stdout",
     "output_type": "stream",
     "text": [
      "enter n=  1\n",
      "enter name hari\n",
      "enter age 88\n",
      "enter address kathmandu\n"
     ]
    },
    {
     "data": {
      "text/plain": [
       "[['hari', '88', 'kathmandu']]"
      ]
     },
     "execution_count": 47,
     "metadata": {},
     "output_type": "execute_result"
    }
   ],
   "source": [
    "l=[]\n",
    "n=int(input('enter n= '))\n",
    "for i in range(n):\n",
    "    name=input('enter name')\n",
    "    age=input('enter age')\n",
    "    add=input('enter address')\n",
    "    l.append([name,age,add])\n",
    "l"
   ]
  },
  {
   "cell_type": "code",
   "execution_count": 48,
   "id": "42c3fb61-170d-44e1-b87b-cb41148845eb",
   "metadata": {
    "tags": []
   },
   "outputs": [
    {
     "data": {
      "text/plain": [
       "[['hari', '88', 'kathmandu'], ['brahma', 1000, 'dhanusha']]"
      ]
     },
     "execution_count": 48,
     "metadata": {},
     "output_type": "execute_result"
    }
   ],
   "source": [
    "l.append(['brahma',1000,'dhanusha'])\n",
    "l"
   ]
  },
  {
   "cell_type": "code",
   "execution_count": 52,
   "id": "17a7e6fd-be42-496e-9a49-04dd2dd4047a",
   "metadata": {
    "tags": []
   },
   "outputs": [
    {
     "name": "stdout",
     "output_type": "stream",
     "text": [
      "enter name=  shiv\n"
     ]
    },
    {
     "name": "stdout",
     "output_type": "stream",
     "text": [
      "['shiv', 55, 'kalash']\n"
     ]
    }
   ],
   "source": [
    "a=[['ram',45,'kathmandu'],\n",
    "   ['hari',35,'dhanusha'],\n",
    "   ['shiv',55,'kalash']]\n",
    "name=input('enter name= ')\n",
    "for i in a:\n",
    "    if name in i: #use for search in the list\n",
    "        print(i)"
   ]
  },
  {
   "cell_type": "code",
   "execution_count": 53,
   "id": "0479d316-8558-484c-8233-7d7d97e130a4",
   "metadata": {
    "tags": []
   },
   "outputs": [
    {
     "name": "stdout",
     "output_type": "stream",
     "text": [
      "['ram', 45, 'kathmandu']\n",
      "['shiv', 55, 'kalash']\n"
     ]
    }
   ],
   "source": [
    "a=[['ram',45,'kathmandu'],\n",
    "   ['hari',15,'dhanusha'],\n",
    "   ['shiv',55,'kalash']]\n",
    "for i in a:\n",
    "    if i[1]>20: #use for search in the list\n",
    "        print(i)"
   ]
  },
  {
   "cell_type": "code",
   "execution_count": 56,
   "id": "b11d1bd1-122b-40a1-ac87-1e34d4acb094",
   "metadata": {
    "tags": []
   },
   "outputs": [
    {
     "data": {
      "text/plain": [
       "[['shyam', 45, 'kathmandu'], ['hari', 15, 'dhanusha'], ['shiv', 55, 'kalash']]"
      ]
     },
     "execution_count": 56,
     "metadata": {},
     "output_type": "execute_result"
    }
   ],
   "source": [
    "# update method\n",
    "a=[['ram',45,'kathmandu'],\n",
    "   ['hari',15,'dhanusha'],\n",
    "   ['shiv',55,'kalash']]\n",
    "a[0][0]='shyam'\n",
    "a"
   ]
  },
  {
   "cell_type": "code",
   "execution_count": 58,
   "id": "f6a91895-1d71-4c9e-92f7-739dd551550a",
   "metadata": {
    "tags": []
   },
   "outputs": [
    {
     "data": {
      "text/plain": [
       "[['hari', 15, 'dhanusha'], ['shiv', 55, 'kalash']]"
      ]
     },
     "execution_count": 58,
     "metadata": {},
     "output_type": "execute_result"
    }
   ],
   "source": [
    "# delete method\n",
    "a=[['ram',45,'kathmandu'],\n",
    "   ['hari',15,'dhanusha'],\n",
    "   ['shiv',55,'kalash']]\n",
    "del a[0]\n",
    "a"
   ]
  },
  {
   "cell_type": "code",
   "execution_count": 16,
   "id": "b5456d51-ef54-4fad-8e98-35afc4dda540",
   "metadata": {
    "tags": []
   },
   "outputs": [
    {
     "name": "stdout",
     "output_type": "stream",
     "text": [
      "number of product 2\n",
      "product name:  tyu\n",
      "price : 2\n",
      "item :  2\n",
      "product name:  ww2\n",
      "price : 2\n",
      "item :  2\n"
     ]
    },
    {
     "name": "stdout",
     "output_type": "stream",
     "text": [
      "[['tyu', 2, 2, 4], ['ww2', 2, 2, 4]]\n"
     ]
    }
   ],
   "source": [
    "# write a program to convert give string to list inside list\n",
    "# a= 'apple 200 2 400'\\n'banana 100 3 300'\\n\n",
    "# a =[['apple',200,2,400],['banana',100,3,300]]\n",
    "n=int(input('number of product'))\n",
    "a=[]\n",
    "for i in range(n):\n",
    "    b=[]\n",
    "    product=input('product name: ')\n",
    "    price=int(input('price :'))\n",
    "    quantity=int(input('item : '))\n",
    "    total_price=price*quantity\n",
    "    b+=[product,price,quantity,total_price]\n",
    "    a.insert(i,b)\n",
    "print(a)"
   ]
  },
  {
   "cell_type": "code",
   "execution_count": null,
   "id": "7fef3649-e98f-4bf7-ade1-c8515a670997",
   "metadata": {},
   "outputs": [],
   "source": [
    "# write a program to create a matrix taking row and col from user\n",
    "# row->?\n",
    "# column->?\n",
    "# x=>input\n",
    "# r*c matrix\n",
    "# [['ram',45,'kathmandu'],\n",
    "#    ['hari',15,'dhanusha'],\n",
    "#    ['shiv',55,'kalash']]\n",
    "# r->3\n",
    "# c->3"
   ]
  },
  {
   "cell_type": "code",
   "execution_count": null,
   "id": "818a7f59-5215-423d-8aec-25d7826535fe",
   "metadata": {
    "tags": []
   },
   "outputs": [],
   "source": [
    "a=[]\n",
    "for i in range(3):#Column\n",
    "    K=[]\n",
    "    for j in range(3):#Row\n",
    "        k=input('enter number')\n",
    "        k+=[k]\n",
    "    \n",
    "    print()\n",
    "print\n"
   ]
  },
  {
   "cell_type": "code",
   "execution_count": 1,
   "id": "b8e289f1-6ff3-4643-ba68-7e3f5836d45b",
   "metadata": {
    "tags": []
   },
   "outputs": [
    {
     "ename": "KeyboardInterrupt",
     "evalue": "Interrupted by user",
     "output_type": "error",
     "traceback": [
      "\u001b[1;31m---------------------------------------------------------------------------\u001b[0m",
      "\u001b[1;31mKeyboardInterrupt\u001b[0m                         Traceback (most recent call last)",
      "Cell \u001b[1;32mIn[1], line 4\u001b[0m\n\u001b[0;32m      2\u001b[0m \u001b[38;5;28;01mfor\u001b[39;00m i \u001b[38;5;129;01min\u001b[39;00m \u001b[38;5;28mrange\u001b[39m(\u001b[38;5;241m3\u001b[39m):\n\u001b[0;32m      3\u001b[0m     \u001b[38;5;28;01mfor\u001b[39;00m j \u001b[38;5;129;01min\u001b[39;00m \u001b[38;5;28mrange\u001b[39m(\u001b[38;5;241m3\u001b[39m):\n\u001b[1;32m----> 4\u001b[0m         a[j]\u001b[38;5;241m=\u001b[39m\u001b[38;5;28;43minput\u001b[39;49m\u001b[43m(\u001b[49m\u001b[38;5;124;43m'\u001b[39;49m\u001b[38;5;124;43menter\u001b[39;49m\u001b[38;5;124;43m'\u001b[39;49m\u001b[43m)\u001b[49m\n\u001b[0;32m      5\u001b[0m     \u001b[38;5;28mprint\u001b[39m()\n\u001b[0;32m      6\u001b[0m \u001b[38;5;28mprint\u001b[39m(a)\n",
      "File \u001b[1;32m~\\miniconda3\\lib\\site-packages\\ipykernel\\kernelbase.py:1182\u001b[0m, in \u001b[0;36mKernel.raw_input\u001b[1;34m(self, prompt)\u001b[0m\n\u001b[0;32m   1180\u001b[0m     msg \u001b[38;5;241m=\u001b[39m \u001b[38;5;124m\"\u001b[39m\u001b[38;5;124mraw_input was called, but this frontend does not support input requests.\u001b[39m\u001b[38;5;124m\"\u001b[39m\n\u001b[0;32m   1181\u001b[0m     \u001b[38;5;28;01mraise\u001b[39;00m StdinNotImplementedError(msg)\n\u001b[1;32m-> 1182\u001b[0m \u001b[38;5;28;01mreturn\u001b[39;00m \u001b[38;5;28;43mself\u001b[39;49m\u001b[38;5;241;43m.\u001b[39;49m\u001b[43m_input_request\u001b[49m\u001b[43m(\u001b[49m\n\u001b[0;32m   1183\u001b[0m \u001b[43m    \u001b[49m\u001b[38;5;28;43mstr\u001b[39;49m\u001b[43m(\u001b[49m\u001b[43mprompt\u001b[49m\u001b[43m)\u001b[49m\u001b[43m,\u001b[49m\n\u001b[0;32m   1184\u001b[0m \u001b[43m    \u001b[49m\u001b[38;5;28;43mself\u001b[39;49m\u001b[38;5;241;43m.\u001b[39;49m\u001b[43m_parent_ident\u001b[49m\u001b[43m[\u001b[49m\u001b[38;5;124;43m\"\u001b[39;49m\u001b[38;5;124;43mshell\u001b[39;49m\u001b[38;5;124;43m\"\u001b[39;49m\u001b[43m]\u001b[49m\u001b[43m,\u001b[49m\n\u001b[0;32m   1185\u001b[0m \u001b[43m    \u001b[49m\u001b[38;5;28;43mself\u001b[39;49m\u001b[38;5;241;43m.\u001b[39;49m\u001b[43mget_parent\u001b[49m\u001b[43m(\u001b[49m\u001b[38;5;124;43m\"\u001b[39;49m\u001b[38;5;124;43mshell\u001b[39;49m\u001b[38;5;124;43m\"\u001b[39;49m\u001b[43m)\u001b[49m\u001b[43m,\u001b[49m\n\u001b[0;32m   1186\u001b[0m \u001b[43m    \u001b[49m\u001b[43mpassword\u001b[49m\u001b[38;5;241;43m=\u001b[39;49m\u001b[38;5;28;43;01mFalse\u001b[39;49;00m\u001b[43m,\u001b[49m\n\u001b[0;32m   1187\u001b[0m \u001b[43m\u001b[49m\u001b[43m)\u001b[49m\n",
      "File \u001b[1;32m~\\miniconda3\\lib\\site-packages\\ipykernel\\kernelbase.py:1225\u001b[0m, in \u001b[0;36mKernel._input_request\u001b[1;34m(self, prompt, ident, parent, password)\u001b[0m\n\u001b[0;32m   1222\u001b[0m \u001b[38;5;28;01mexcept\u001b[39;00m \u001b[38;5;167;01mKeyboardInterrupt\u001b[39;00m:\n\u001b[0;32m   1223\u001b[0m     \u001b[38;5;66;03m# re-raise KeyboardInterrupt, to truncate traceback\u001b[39;00m\n\u001b[0;32m   1224\u001b[0m     msg \u001b[38;5;241m=\u001b[39m \u001b[38;5;124m\"\u001b[39m\u001b[38;5;124mInterrupted by user\u001b[39m\u001b[38;5;124m\"\u001b[39m\n\u001b[1;32m-> 1225\u001b[0m     \u001b[38;5;28;01mraise\u001b[39;00m \u001b[38;5;167;01mKeyboardInterrupt\u001b[39;00m(msg) \u001b[38;5;28;01mfrom\u001b[39;00m \u001b[38;5;28mNone\u001b[39m\n\u001b[0;32m   1226\u001b[0m \u001b[38;5;28;01mexcept\u001b[39;00m \u001b[38;5;167;01mException\u001b[39;00m:\n\u001b[0;32m   1227\u001b[0m     \u001b[38;5;28mself\u001b[39m\u001b[38;5;241m.\u001b[39mlog\u001b[38;5;241m.\u001b[39mwarning(\u001b[38;5;124m\"\u001b[39m\u001b[38;5;124mInvalid Message:\u001b[39m\u001b[38;5;124m\"\u001b[39m, exc_info\u001b[38;5;241m=\u001b[39m\u001b[38;5;28;01mTrue\u001b[39;00m)\n",
      "\u001b[1;31mKeyboardInterrupt\u001b[0m: Interrupted by user"
     ]
    }
   ],
   "source": [
    "a=[]\n",
    "for i in range(3):\n",
    "    for j in range(3):\n",
    "        a[j]=input('enter')\n",
    "    print()\n",
    "print(a)"
   ]
  },
  {
   "cell_type": "code",
   "execution_count": 24,
   "id": "877e400d-4284-49b5-b6c3-587eb15428fa",
   "metadata": {
    "tags": []
   },
   "outputs": [
    {
     "name": "stdout",
     "output_type": "stream",
     "text": [
      "['apple 200 2 400', 'banana 100 3 300']\n"
     ]
    },
    {
     "data": {
      "text/plain": [
       "[['apple', 200, 2, 2], ['banana', 100, 3, 3]]"
      ]
     },
     "execution_count": 24,
     "metadata": {},
     "output_type": "execute_result"
    }
   ],
   "source": [
    "a='apple 200 2 400\\nbanana 100 3 300\\n'\n",
    "b=a.split('\\n')[0:-1]\n",
    "print(b)\n",
    "result=[]\n",
    "for i in b:\n",
    "    x=i.split()\n",
    "#     price=int(x[1])\n",
    "#     qty=int(x[2])\n",
    "#     total=int(x[2])\n",
    "    \n",
    "#     x[1]=price\n",
    "#     x[2]=qty\n",
    "#     x[3]=total\n",
    "    \n",
    "    x[1]=int(x[1])\n",
    "    x[2]=int(x[2])\n",
    "    x[3]=int(x[2])\n",
    "    result.append(x)\n",
    "result"
   ]
  },
  {
   "cell_type": "code",
   "execution_count": 30,
   "id": "ec980259-bb97-4abc-a0fc-5d8d3fff60f4",
   "metadata": {},
   "outputs": [
    {
     "name": "stdout",
     "output_type": "stream",
     "text": [
      "enter row 2\n",
      "enter column 2\n",
      "enter value row=0 col=0 2\n",
      "enter value row=0 col=1 2\n",
      "enter value row=1 col=0 2\n",
      "enter value row=1 col=1 2\n"
     ]
    },
    {
     "name": "stdout",
     "output_type": "stream",
     "text": [
      "[[2, 2], [2, 2]]\n"
     ]
    }
   ],
   "source": [
    "matrix=[]\n",
    "r=int(input('enter row'))\n",
    "c=int(input('enter column'))\n",
    "for i in range(r):\n",
    "    y=[]\n",
    "    for j in range(c):\n",
    "        x=int(input(f\"enter value row={i} col={j}\"))#f is required for formatting \n",
    "        y.append(x)\n",
    "    matrix.append(y)\n",
    "print(matrix)"
   ]
  },
  {
   "cell_type": "code",
   "execution_count": 36,
   "id": "df522b94-4218-45fe-b771-613fc0429f77",
   "metadata": {
    "tags": []
   },
   "outputs": [
    {
     "name": "stdout",
     "output_type": "stream",
     "text": [
      "enter row 2\n",
      "enter mark roll=0 subject=physics ==> 2\n",
      "enter mark roll=0 subject=chemistry ==> 2\n",
      "enter mark roll=0 subject=math ==> 2\n",
      "enter mark roll=0 subject=english ==> 2\n",
      "enter mark roll=1 subject=physics ==> 2\n",
      "enter mark roll=1 subject=chemistry ==> 2\n",
      "enter mark roll=1 subject=math ==> 2\n",
      "enter mark roll=1 subject=english ==> 2\n"
     ]
    },
    {
     "name": "stdout",
     "output_type": "stream",
     "text": [
      "[[2, 2, 2, 2, 8], [2, 2, 2, 2, 8]]\n"
     ]
    }
   ],
   "source": [
    "subject=['physics','chemistry','math','english']\n",
    "c=len(subject)\n",
    "matrix=[]\n",
    "r=int(input('enter row'))\n",
    "# c=int(input('enter column'))\n",
    "for i in range(r):\n",
    "    y=[]\n",
    "    total=0\n",
    "    for j in range(c):\n",
    "        x=int(input(f\"enter mark roll={i} subject={subject[j]} ==>\"))#f is required for formatting \n",
    "        total+=x\n",
    "        y.append(x)\n",
    "    y.append(total)\n",
    "    matrix.append(y)\n",
    "print(matrix)"
   ]
  },
  {
   "cell_type": "code",
   "execution_count": 39,
   "id": "7c595541-6443-4764-a84f-4b1fc6827e0e",
   "metadata": {
    "tags": []
   },
   "outputs": [
    {
     "name": "stdout",
     "output_type": "stream",
     "text": [
      "hello hello hello \n",
      "hello hello hello \n",
      "hello hello hello \n"
     ]
    }
   ],
   "source": [
    "for i in range(3):\n",
    "    for j in range(3):\n",
    "        print('hello',end=' ')\n",
    "    print()"
   ]
  },
  {
   "cell_type": "code",
   "execution_count": null,
   "id": "35397c76-5e6b-42fa-b547-83684e54432e",
   "metadata": {},
   "outputs": [],
   "source": []
  }
 ],
 "metadata": {
  "kernelspec": {
   "display_name": "Python 3",
   "language": "python",
   "name": "python3"
  },
  "language_info": {
   "codemirror_mode": {
    "name": "ipython",
    "version": 3
   },
   "file_extension": ".py",
   "mimetype": "text/x-python",
   "name": "python",
   "nbconvert_exporter": "python",
   "pygments_lexer": "ipython3",
   "version": "3.10.4"
  },
  "vscode": {
   "interpreter": {
    "hash": "369f2c481f4da34e4445cda3fffd2e751bd1c4d706f27375911949ba6bb62e1c"
   }
  }
 },
 "nbformat": 4,
 "nbformat_minor": 5
}
